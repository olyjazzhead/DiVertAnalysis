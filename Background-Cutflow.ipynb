{
 "cells": [
  {
   "cell_type": "code",
   "execution_count": 1,
   "id": "e57d25ce",
   "metadata": {},
   "outputs": [],
   "source": [
    "#Begin with preselection cuts: trigger and has good PV"
   ]
  },
  {
   "cell_type": "code",
   "execution_count": 2,
   "id": "51c086b7",
   "metadata": {},
   "outputs": [],
   "source": [
    "import uproot\n",
    "import numpy as np\n",
    "import awkward as ak\n",
    "import matplotlib.pyplot as plt"
   ]
  },
  {
   "cell_type": "code",
   "execution_count": 3,
   "id": "e5fbcd57",
   "metadata": {},
   "outputs": [],
   "source": [
    "branches = [(\"pass_HLT_j30_muvtx_noiso\"), (\"hasGoodPV\")]"
   ]
  },
  {
   "cell_type": "code",
   "execution_count": 6,
   "id": "4ab0186f",
   "metadata": {},
   "outputs": [],
   "source": [
    "bkg_file = uproot.concatenate(\"user.calpert.mc16_13TeV.361022.Pythia8EvtGen_A14NNPDF23LO_jetjet_JZ2W.032123_trees.root.479322611/user.calpert*.root:trees_DV_\", branches)"
   ]
  },
  {
   "cell_type": "code",
   "execution_count": 4,
   "id": "5ef056bc",
   "metadata": {},
   "outputs": [],
   "source": [
    "#Start by looking at histograms of trigger and goodPV of background"
   ]
  },
  {
   "cell_type": "code",
   "execution_count": 7,
   "id": "069fba6e",
   "metadata": {},
   "outputs": [
    {
     "data": {
      "text/plain": [
       "Text(0.5, 1.0, 'Histogram of Trigger and Good PV (Background)')"
      ]
     },
     "execution_count": 7,
     "metadata": {},
     "output_type": "execute_result"
    },
    {
     "data": {
      "image/png": "[encoded data removed]",
      "text/plain": [
       "<Figure size 432x288 with 1 Axes>"
      ]
     },
     "metadata": {
      "needs_background": "light"
     },
     "output_type": "display_data"
    }
   ],
   "source": [
    "plt.hist(bkg_file[\"pass_HLT_j30_muvtx_noiso\"], label = \"Trigger\")\n",
    "plt.hist(bkg_file[\"hasGoodPV\"], label = \"Good PV\")\n",
    "plt.legend()\n",
    "plt.title(\"Histogram of Trigger and Good PV (Background)\")"
   ]
  },
  {
   "cell_type": "code",
   "execution_count": 8,
   "id": "b1959fac",
   "metadata": {},
   "outputs": [],
   "source": [
    "#Again, all candidates have good PV so we'd expect our preselection to contain around 275 events"
   ]
  },
  {
   "cell_type": "code",
   "execution_count": 9,
   "id": "f2a7b31a",
   "metadata": {},
   "outputs": [],
   "source": [
    "bkg_cut = (bkg_file[\"pass_HLT_j30_muvtx_noiso\"] ==1) & (bkg_file[\"hasGoodPV\"] ==1)"
   ]
  },
  {
   "cell_type": "code",
   "execution_count": 10,
   "id": "372ad9f8",
   "metadata": {},
   "outputs": [
    {
     "data": {
      "text/plain": [
       "<Array [False, False, True, ... True, False] type='691 * bool'>"
      ]
     },
     "execution_count": 10,
     "metadata": {},
     "output_type": "execute_result"
    }
   ],
   "source": [
    "bkg_cut #Again this returns an array of booleans"
   ]
  },
  {
   "cell_type": "code",
   "execution_count": 12,
   "id": "48be39c5",
   "metadata": {},
   "outputs": [
    {
     "data": {
      "text/plain": [
       "<Array [{pass_HLT_j30_muvtx_noiso: 1, ... ] type='270 * {\"pass_HLT_j30_muvtx_noi...'>"
      ]
     },
     "execution_count": 12,
     "metadata": {},
     "output_type": "execute_result"
    }
   ],
   "source": [
    "#Now to apply the cuts to the background\n",
    "bkg_file[bkg_cut]"
   ]
  },
  {
   "cell_type": "code",
   "execution_count": 13,
   "id": "b25c1816",
   "metadata": {},
   "outputs": [],
   "source": [
    "#And it looks like we have 270 events, consistent with our expectations"
   ]
  },
  {
   "cell_type": "code",
   "execution_count": null,
   "id": "9b9d3eea",
   "metadata": {},
   "outputs": [],
   "source": [
    "#Now that we have cut on our preselection, lets continue with MDT/RPC/TGC hits#Now let's move on to "
   ]
  }
 ],
 "metadata": {
  "kernelspec": {
   "display_name": "Python 3",
   "language": "python",
   "name": "python3"
  },
  "language_info": {
   "codemirror_mode": {
    "name": "ipython",
    "version": 3
   },
   "file_extension": ".py",
   "mimetype": "text/x-python",
   "name": "python",
   "nbconvert_exporter": "python",
   "pygments_lexer": "ipython3",
   "version": "3.8.5"
  }
 },
 "nbformat": 4,
 "nbformat_minor": 5
}
