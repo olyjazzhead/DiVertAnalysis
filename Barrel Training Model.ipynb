{
 "cells": [
  {
   "cell_type": "code",
   "execution_count": 468,
   "id": "77c6708e",
   "metadata": {},
   "outputs": [
    {
     "name": "stdout",
     "output_type": "stream",
     "text": [
      "1.7.3\n",
      "0.23.2\n"
     ]
    }
   ],
   "source": [
    "#Import Libraries\n",
    "import numpy as np\n",
    "import pandas as pd\n",
    "import os \n",
    "import itertools \n",
    "import uproot\n",
    "import time\n",
    "import awkward as ak\n",
    "from IPython.display import display, HTML\n",
    "import hist\n",
    "#import vector\n",
    "import pickle\n",
    "import matplotlib.pyplot as plt\n",
    "\n",
    "import xgboost\n",
    "print(xgboost.__version__)\n",
    "import sklearn\n",
    "print (sklearn.__version__)"
   ]
  },
  {
   "cell_type": "markdown",
   "id": "f2cb99ff",
   "metadata": {},
   "source": [
    "## Load datasets and concatenate"
   ]
  },
  {
   "cell_type": "code",
   "execution_count": 674,
   "id": "a290093e",
   "metadata": {},
   "outputs": [],
   "source": [
    "#Set to read all columns\n",
    "pd.set_option('display.max_columns', None)\n",
    "\n",
    "#Import and concatenate the training sets\n",
    "df_bkg = pd.read_csv('bkg_train')\n",
    "df_sig = pd.read_csv('sig_train_barrel')\n",
    "df = pd.concat([df_bkg,df_sig], ignore_index=True)\n"
   ]
  },
  {
   "cell_type": "markdown",
   "id": "3de55b13",
   "metadata": {},
   "source": [
    "## Begin Training"
   ]
  },
  {
   "cell_type": "code",
   "execution_count": 675,
   "id": "521e255e",
   "metadata": {},
   "outputs": [],
   "source": [
    "#Shuffle the dataset\n",
    "df = df.sample(frac=1).reset_index(drop=True)"
   ]
  },
  {
   "cell_type": "code",
   "execution_count": 676,
   "id": "e5cccd02",
   "metadata": {},
   "outputs": [
    {
     "data": {
      "text/plain": [
       "Index(['Event #', 'Mult', 'MDT', 'RPC', 'TGC', 'ntrks', 'Vtx_eta', 'Vtx_phi',\n",
       "       'Vtx_Sum_pT', 'jet_pt_1', 'jet_eta_1', 'jet_phi_1', 'jet_logRatio_1',\n",
       "       'jet_jvt_1', 'delta_jet_1', 'jet_pt_2', 'jet_eta_2', 'jet_phi_2',\n",
       "       'jet_logRatio_2', 'jet_jvt_2', 'delta_jet_2', 'jet_pt_3', 'jet_eta_3',\n",
       "       'jet_phi_3', 'jet_logRatio_3', 'jet_jvt_3', 'delta_jet_3', 'track_pt_1',\n",
       "       'delta_track_1', 'track_pt_2', 'delta_track_2', 'track_pt_3',\n",
       "       'delta_track_3', 'Label'],\n",
       "      dtype='object')"
      ]
     },
     "execution_count": 676,
     "metadata": {},
     "output_type": "execute_result"
    }
   ],
   "source": [
    "#Check columns of df\n",
    "df.columns"
   ]
  },
  {
   "cell_type": "code",
   "execution_count": 677,
   "id": "6d7d7da9",
   "metadata": {},
   "outputs": [],
   "source": [
    "#Delcare Target\n",
    "#WARNING : there should be no selection nor shuffling later on ! (otherwise misalignement)\n",
    "target = df[\"Label\"]"
   ]
  },
  {
   "cell_type": "code",
   "execution_count": 678,
   "id": "54cea746",
   "metadata": {},
   "outputs": [
    {
     "name": "stdout",
     "output_type": "stream",
     "text": [
      "Df shape of dataset to be used : (23238, 11)\n"
     ]
    },
    {
     "data": {
      "text/html": [
       "<div>\n",
       "<style scoped>\n",
       "    .dataframe tbody tr th:only-of-type {\n",
       "        vertical-align: middle;\n",
       "    }\n",
       "\n",
       "    .dataframe tbody tr th {\n",
       "        vertical-align: top;\n",
       "    }\n",
       "\n",
       "    .dataframe thead th {\n",
       "        text-align: right;\n",
       "    }\n",
       "</style>\n",
       "<table border=\"1\" class=\"dataframe\">\n",
       "  <thead>\n",
       "    <tr style=\"text-align: right;\">\n",
       "      <th></th>\n",
       "      <th>Mult</th>\n",
       "      <th>ntrks</th>\n",
       "      <th>Vtx_eta</th>\n",
       "      <th>Vtx_phi</th>\n",
       "      <th>Vtx_Sum_pT</th>\n",
       "      <th>jet_pt_1</th>\n",
       "      <th>jet_eta_1</th>\n",
       "      <th>jet_phi_1</th>\n",
       "      <th>delta_jet_1</th>\n",
       "      <th>track_pt_1</th>\n",
       "      <th>delta_track_1</th>\n",
       "    </tr>\n",
       "  </thead>\n",
       "  <tbody>\n",
       "    <tr>\n",
       "      <th>0</th>\n",
       "      <td>1.0</td>\n",
       "      <td>6</td>\n",
       "      <td>1.291129</td>\n",
       "      <td>2.547647</td>\n",
       "      <td>0.000000</td>\n",
       "      <td>14.120969</td>\n",
       "      <td>0.805406</td>\n",
       "      <td>2.308828</td>\n",
       "      <td>0.292961</td>\n",
       "      <td>0.843345</td>\n",
       "      <td>0.174086</td>\n",
       "    </tr>\n",
       "    <tr>\n",
       "      <th>1</th>\n",
       "      <td>1.0</td>\n",
       "      <td>5</td>\n",
       "      <td>-0.470793</td>\n",
       "      <td>-1.863787</td>\n",
       "      <td>9829.156418</td>\n",
       "      <td>956.929625</td>\n",
       "      <td>-0.423354</td>\n",
       "      <td>-1.910104</td>\n",
       "      <td>0.004396</td>\n",
       "      <td>4.504998</td>\n",
       "      <td>0.000386</td>\n",
       "    </tr>\n",
       "    <tr>\n",
       "      <th>2</th>\n",
       "      <td>1.0</td>\n",
       "      <td>5</td>\n",
       "      <td>-1.326776</td>\n",
       "      <td>2.561106</td>\n",
       "      <td>0.000000</td>\n",
       "      <td>15.583394</td>\n",
       "      <td>-1.094044</td>\n",
       "      <td>2.926301</td>\n",
       "      <td>0.187531</td>\n",
       "      <td>1.058478</td>\n",
       "      <td>0.113148</td>\n",
       "    </tr>\n",
       "    <tr>\n",
       "      <th>3</th>\n",
       "      <td>1.0</td>\n",
       "      <td>11</td>\n",
       "      <td>-1.491744</td>\n",
       "      <td>-0.558659</td>\n",
       "      <td>5853.233708</td>\n",
       "      <td>1194.077875</td>\n",
       "      <td>-1.433871</td>\n",
       "      <td>-0.473610</td>\n",
       "      <td>0.010583</td>\n",
       "      <td>4.486927</td>\n",
       "      <td>0.000335</td>\n",
       "    </tr>\n",
       "    <tr>\n",
       "      <th>4</th>\n",
       "      <td>1.0</td>\n",
       "      <td>5</td>\n",
       "      <td>-0.234525</td>\n",
       "      <td>0.995545</td>\n",
       "      <td>9264.656169</td>\n",
       "      <td>212.110547</td>\n",
       "      <td>-0.150425</td>\n",
       "      <td>0.954939</td>\n",
       "      <td>0.008722</td>\n",
       "      <td>142.210916</td>\n",
       "      <td>0.001539</td>\n",
       "    </tr>\n",
       "  </tbody>\n",
       "</table>\n",
       "</div>"
      ],
      "text/plain": [
       "   Mult  ntrks   Vtx_eta   Vtx_phi   Vtx_Sum_pT     jet_pt_1  jet_eta_1  \\\n",
       "0   1.0      6  1.291129  2.547647     0.000000    14.120969   0.805406   \n",
       "1   1.0      5 -0.470793 -1.863787  9829.156418   956.929625  -0.423354   \n",
       "2   1.0      5 -1.326776  2.561106     0.000000    15.583394  -1.094044   \n",
       "3   1.0     11 -1.491744 -0.558659  5853.233708  1194.077875  -1.433871   \n",
       "4   1.0      5 -0.234525  0.995545  9264.656169   212.110547  -0.150425   \n",
       "\n",
       "   jet_phi_1  delta_jet_1  track_pt_1  delta_track_1  \n",
       "0   2.308828     0.292961    0.843345       0.174086  \n",
       "1  -1.910104     0.004396    4.504998       0.000386  \n",
       "2   2.926301     0.187531    1.058478       0.113148  \n",
       "3  -0.473610     0.010583    4.486927       0.000335  \n",
       "4   0.954939     0.008722  142.210916       0.001539  "
      ]
     },
     "metadata": {},
     "output_type": "display_data"
    },
    {
     "data": {
      "text/plain": [
       "0    1.0\n",
       "1    0.0\n",
       "2    0.0\n",
       "3    0.0\n",
       "4    0.0\n",
       "Name: Label, dtype: float64"
      ]
     },
     "metadata": {},
     "output_type": "display_data"
    }
   ],
   "source": [
    "# For simplicity only keep some most important features. Can add more later down below\n",
    "data=pd.DataFrame(df, columns=['Mult','ntrks','Vtx_eta','Vtx_phi','Vtx_Sum_pT','jet_pt_1','jet_eta_1','jet_phi_1','delta_jet_1','track_pt_1','delta_track_1'])\n",
    "\n",
    "print (\"Df shape of dataset to be used :\",data.shape)\n",
    "display(data.head())\n",
    "display(target.head())\n"
   ]
  },
  {
   "cell_type": "code",
   "execution_count": 679,
   "id": "a63ac21d",
   "metadata": {},
   "outputs": [
    {
     "name": "stdout",
     "output_type": "stream",
     "text": [
      "Df shape of dataset to be used : (23238, 11)\n"
     ]
    }
   ],
   "source": [
    "more_features = False\n",
    "if (more_features):\n",
    "    data=pd.DataFrame(df, columns=['Event #', 'Mult', 'MDT', 'RPC', 'TGC', 'ntrks', 'Vtx_eta', 'Vtx_phi',\n",
    "       'Vtx_Sum_pT', 'Label', 'jet_pt_1', 'jet_eta_1', 'jet_phi_1',\n",
    "       'jet_logRatio_1', 'jet_jvt_1', 'delta_jet_1', 'jet_pt_2', 'jet_eta_2',\n",
    "       'jet_phi_2', 'jet_logRatio_2', 'jet_jvt_2', 'delta_jet_2', 'track_pt_1',\n",
    "       'delta_track_1', 'track_pt_2', 'delta_track_2', 'track_pt_3','delta_track_3'])\n",
    "print (\"Df shape of dataset to be used :\",data.shape)"
   ]
  },
  {
   "cell_type": "markdown",
   "id": "fab5e6fe",
   "metadata": {},
   "source": [
    "### PreProcess the data"
   ]
  },
  {
   "cell_type": "code",
   "execution_count": 680,
   "id": "70349cce",
   "metadata": {},
   "outputs": [
    {
     "name": "stdout",
     "output_type": "stream",
     "text": [
      "X_train shape: (17428, 11)\n",
      "y_train shape: (17428,)\n",
      "X_test shape: (5810, 11)\n",
      "y_test shape: (5810,)\n"
     ]
    }
   ],
   "source": [
    "#np.random.seed(31415)\n",
    "\n",
    "from sklearn.model_selection import train_test_split\n",
    "train_size = 0.75 # fraction of sample used for training\n",
    "\n",
    "X_train, X_test, y_train, y_test, = train_test_split(data, target, train_size=train_size)\n",
    "\n",
    "#Reset index for dataseries, not needed for ndarray (X_train, X_test)\n",
    "#Basically just re-adding the original element indexing from pandas\n",
    "y_train, y_test = \\\n",
    "    y_train.reset_index(drop=True),y_test.reset_index(drop=True)\n",
    "\n",
    "print (\"X_train shape:\",X_train.shape)\n",
    "print (\"y_train shape:\",y_train.shape)\n",
    "\n",
    "\n",
    "print (\"X_test shape:\",X_test.shape)\n",
    "print (\"y_test shape:\",y_test.shape)\n"
   ]
  },
  {
   "cell_type": "markdown",
   "id": "fee89d5b",
   "metadata": {},
   "source": [
    "### Train the BDT"
   ]
  },
  {
   "cell_type": "code",
   "execution_count": 681,
   "id": "fff02aa7",
   "metadata": {},
   "outputs": [
    {
     "name": "stderr",
     "output_type": "stream",
     "text": [
      "/Users/christopheralpert/miniconda3/lib/python3.8/site-packages/xgboost/sklearn.py:1395: UserWarning: `use_label_encoder` is deprecated in 1.7.0.\n",
      "  warnings.warn(\"`use_label_encoder` is deprecated in 1.7.0.\")\n"
     ]
    },
    {
     "name": "stdout",
     "output_type": "stream",
     "text": [
      "Training time: 0.3650960922241211\n",
      "auc test: 0.9205313337456195\n",
      "auc train: 0.9980977175856305 \n",
      "\n"
     ]
    }
   ],
   "source": [
    "np.random.seed(31415) # set the random seed\n",
    "\n",
    "from xgboost import XGBClassifier\n",
    "from sklearn.metrics import roc_auc_score # for binary classification if x > 0.5 -> 1 else -> 0\n",
    "\n",
    "xgb = XGBClassifier(tree_method=\"hist\",use_label_encoder=False,eval_metric='logloss')\n",
    "\n",
    "\n",
    "\n",
    "starting_time = time.time()\n",
    "\n",
    "xgb.fit(X_train, y_train.values) \n",
    "        \n",
    "training_time = time.time( ) - starting_time\n",
    "print(\"Training time:\",training_time)\n",
    "\n",
    "## prediction on test data by trained BDT classifier\n",
    "y_pred_xgb = xgb.predict_proba(X_test)[:,1]\n",
    "y_pred_xgb = y_pred_xgb.ravel()\n",
    "#prediction on train data by BDT classifier\n",
    "y_pred_train_xgb = xgb.predict_proba(X_train)[:,1].ravel()\n",
    "auc_test_xgb = roc_auc_score(y_true=y_test, y_score=y_pred_xgb)\n",
    "print(\"auc test:\",auc_test_xgb)\n",
    "print (\"auc train:\",roc_auc_score(y_true=y_train.values, y_score=y_pred_train_xgb),\"\\n\")"
   ]
  },
  {
   "cell_type": "code",
   "execution_count": 617,
   "id": "3f93a3b2",
   "metadata": {},
   "outputs": [],
   "source": [
    "#Overfit....try to add some rough cuts and see if it performs better. ALso consider adding more jets and tracks and see what happens\n",
    "#Plot hist of BDT output of signal to bkg\n",
    "#Correlation of the features"
   ]
  },
  {
   "cell_type": "code",
   "execution_count": 668,
   "id": "73f0dfb8",
   "metadata": {},
   "outputs": [],
   "source": [
    "#define a function to compare train and test\n",
    "# Plot score for signal and background, comparing training and testing\n",
    "def compare_train_test(y_pred_train, y_train, y_pred, y_test, high_low=(0,1), \n",
    "                       bins=30,xlabel=\"\", ylabel=\"Arbitrary units\", title=\"\", \n",
    "                       #weights_train=np.array([]), weights_test=np.array([]),\n",
    "                       density=True):\n",
    "    \n",
    "    plt.hist(y_pred_train[y_train == 1],\n",
    "                 color='r', alpha=0.5, range=high_low, bins=bins,\n",
    "                 histtype='stepfilled', density=density,\n",
    "                 label='S (train)') # alpha is transparancy\n",
    "    plt.hist(y_pred_train[y_train == 0],\n",
    "                 color='b', alpha=0.5, range=high_low, bins=bins,\n",
    "                 histtype='stepfilled', density=density,\n",
    "                 label='B (train)')\n",
    "\n",
    "    \n",
    "    hist, bins = np.histogram(y_pred[y_test == 1],\n",
    "                                  bins=bins, range=high_low, density=density)\n",
    "    scale = len(y_pred[y_test == 1]) / sum(hist)\n",
    "    err = np.sqrt(hist * scale) / scale\n",
    "\n",
    "    center = (bins[:-1] + bins[1:]) / 2\n",
    "    plt.errorbar(center, hist, yerr=err, fmt='o', c='r', label='S (test)')\n",
    "\n",
    "    hist, bins = np.histogram(y_pred[y_test == 0],\n",
    "                                  bins=bins, range=high_low, density=density)\n",
    "    scale = len(y_pred[y_test == 0]) / sum(hist)\n",
    "    err = np.sqrt(hist * scale) / scale\n",
    "\n",
    "    center = (bins[:-1] + bins[1:]) / 2\n",
    "    plt.errorbar(center, hist, yerr=err, fmt='o', c='b', label='B (test)')\n",
    "    plt.title(title)\n",
    "    plt.xlabel(xlabel)\n",
    "    plt.ylabel(ylabel)\n",
    "    plt.legend(loc='best')"
   ]
  },
  {
   "cell_type": "code",
   "execution_count": 669,
   "id": "92819330",
   "metadata": {},
   "outputs": [
    {
     "data": {
      "image/png": "[encoded data removed]",
      "text/plain": [
       "<Figure size 432x288 with 1 Axes>"
      ]
     },
     "metadata": {
      "needs_background": "light"
     },
     "output_type": "display_data"
    }
   ],
   "source": [
    "compare_train_test(y_pred_train_xgb, y_train, y_pred_xgb, y_test, \n",
    "                   xlabel=\"XGboost score\", title=\"Decision Score\") \n",
    "                   #weights_train=weights_train.values, weights_test=weights_test.values)\n",
    "\n",
    "plt.savefig(\"Score_BDT_XGBoost_Hist.pdf\")"
   ]
  },
  {
   "cell_type": "markdown",
   "id": "17accbfc",
   "metadata": {},
   "source": [
    "## Hyperparameter Optimization"
   ]
  },
  {
   "cell_type": "code",
   "execution_count": 670,
   "id": "6fe9110e",
   "metadata": {},
   "outputs": [],
   "source": [
    "#This takes a while. Feel free to come back here after finishing\n",
    "do_HP_optimization = True"
   ]
  },
  {
   "cell_type": "code",
   "execution_count": 672,
   "id": "61540194",
   "metadata": {},
   "outputs": [
    {
     "name": "stderr",
     "output_type": "stream",
     "text": [
      "/Users/christopheralpert/miniconda3/lib/python3.8/site-packages/xgboost/sklearn.py:1395: UserWarning: `use_label_encoder` is deprecated in 1.7.0.\n",
      "  warnings.warn(\"`use_label_encoder` is deprecated in 1.7.0.\")\n",
      "/Users/christopheralpert/miniconda3/lib/python3.8/site-packages/xgboost/sklearn.py:1395: UserWarning: `use_label_encoder` is deprecated in 1.7.0.\n",
      "  warnings.warn(\"`use_label_encoder` is deprecated in 1.7.0.\")\n",
      "/Users/christopheralpert/miniconda3/lib/python3.8/site-packages/xgboost/sklearn.py:1395: UserWarning: `use_label_encoder` is deprecated in 1.7.0.\n",
      "  warnings.warn(\"`use_label_encoder` is deprecated in 1.7.0.\")\n",
      "/Users/christopheralpert/miniconda3/lib/python3.8/site-packages/xgboost/sklearn.py:1395: UserWarning: `use_label_encoder` is deprecated in 1.7.0.\n",
      "  warnings.warn(\"`use_label_encoder` is deprecated in 1.7.0.\")\n",
      "/Users/christopheralpert/miniconda3/lib/python3.8/site-packages/xgboost/sklearn.py:1395: UserWarning: `use_label_encoder` is deprecated in 1.7.0.\n",
      "  warnings.warn(\"`use_label_encoder` is deprecated in 1.7.0.\")\n",
      "/Users/christopheralpert/miniconda3/lib/python3.8/site-packages/xgboost/sklearn.py:1395: UserWarning: `use_label_encoder` is deprecated in 1.7.0.\n",
      "  warnings.warn(\"`use_label_encoder` is deprecated in 1.7.0.\")\n",
      "/Users/christopheralpert/miniconda3/lib/python3.8/site-packages/xgboost/sklearn.py:1395: UserWarning: `use_label_encoder` is deprecated in 1.7.0.\n",
      "  warnings.warn(\"`use_label_encoder` is deprecated in 1.7.0.\")\n",
      "/Users/christopheralpert/miniconda3/lib/python3.8/site-packages/xgboost/sklearn.py:1395: UserWarning: `use_label_encoder` is deprecated in 1.7.0.\n",
      "  warnings.warn(\"`use_label_encoder` is deprecated in 1.7.0.\")\n",
      "/Users/christopheralpert/miniconda3/lib/python3.8/site-packages/xgboost/sklearn.py:1395: UserWarning: `use_label_encoder` is deprecated in 1.7.0.\n",
      "  warnings.warn(\"`use_label_encoder` is deprecated in 1.7.0.\")\n",
      "/Users/christopheralpert/miniconda3/lib/python3.8/site-packages/xgboost/sklearn.py:1395: UserWarning: `use_label_encoder` is deprecated in 1.7.0.\n",
      "  warnings.warn(\"`use_label_encoder` is deprecated in 1.7.0.\")\n",
      "/Users/christopheralpert/miniconda3/lib/python3.8/site-packages/xgboost/sklearn.py:1395: UserWarning: `use_label_encoder` is deprecated in 1.7.0.\n",
      "  warnings.warn(\"`use_label_encoder` is deprecated in 1.7.0.\")\n",
      "/Users/christopheralpert/miniconda3/lib/python3.8/site-packages/xgboost/sklearn.py:1395: UserWarning: `use_label_encoder` is deprecated in 1.7.0.\n",
      "  warnings.warn(\"`use_label_encoder` is deprecated in 1.7.0.\")\n",
      "/Users/christopheralpert/miniconda3/lib/python3.8/site-packages/xgboost/sklearn.py:1395: UserWarning: `use_label_encoder` is deprecated in 1.7.0.\n",
      "  warnings.warn(\"`use_label_encoder` is deprecated in 1.7.0.\")\n",
      "/Users/christopheralpert/miniconda3/lib/python3.8/site-packages/xgboost/sklearn.py:1395: UserWarning: `use_label_encoder` is deprecated in 1.7.0.\n",
      "  warnings.warn(\"`use_label_encoder` is deprecated in 1.7.0.\")\n",
      "/Users/christopheralpert/miniconda3/lib/python3.8/site-packages/xgboost/sklearn.py:1395: UserWarning: `use_label_encoder` is deprecated in 1.7.0.\n",
      "  warnings.warn(\"`use_label_encoder` is deprecated in 1.7.0.\")\n",
      "/Users/christopheralpert/miniconda3/lib/python3.8/site-packages/xgboost/sklearn.py:1395: UserWarning: `use_label_encoder` is deprecated in 1.7.0.\n",
      "  warnings.warn(\"`use_label_encoder` is deprecated in 1.7.0.\")\n",
      "/Users/christopheralpert/miniconda3/lib/python3.8/site-packages/xgboost/sklearn.py:1395: UserWarning: `use_label_encoder` is deprecated in 1.7.0.\n",
      "  warnings.warn(\"`use_label_encoder` is deprecated in 1.7.0.\")\n",
      "/Users/christopheralpert/miniconda3/lib/python3.8/site-packages/xgboost/sklearn.py:1395: UserWarning: `use_label_encoder` is deprecated in 1.7.0.\n",
      "  warnings.warn(\"`use_label_encoder` is deprecated in 1.7.0.\")\n",
      "/Users/christopheralpert/miniconda3/lib/python3.8/site-packages/xgboost/sklearn.py:1395: UserWarning: `use_label_encoder` is deprecated in 1.7.0.\n",
      "  warnings.warn(\"`use_label_encoder` is deprecated in 1.7.0.\")\n",
      "/Users/christopheralpert/miniconda3/lib/python3.8/site-packages/xgboost/sklearn.py:1395: UserWarning: `use_label_encoder` is deprecated in 1.7.0.\n",
      "  warnings.warn(\"`use_label_encoder` is deprecated in 1.7.0.\")\n",
      "/Users/christopheralpert/miniconda3/lib/python3.8/site-packages/xgboost/sklearn.py:1395: UserWarning: `use_label_encoder` is deprecated in 1.7.0.\n",
      "  warnings.warn(\"`use_label_encoder` is deprecated in 1.7.0.\")\n"
     ]
    },
    {
     "name": "stdout",
     "output_type": "stream",
     "text": [
      "Best parameters :  {'learning_rate': 0.470811843873447, 'max_depth': 4, 'n_estimators': 418}\n",
      "Best score (on train dataset CV) :  0.9239994366909619\n",
      "... corresponding score on test dataset :  0.9295001341652283\n"
     ]
    },
    {
     "data": {
      "text/html": [
       "<div>\n",
       "<style scoped>\n",
       "    .dataframe tbody tr th:only-of-type {\n",
       "        vertical-align: middle;\n",
       "    }\n",
       "\n",
       "    .dataframe tbody tr th {\n",
       "        vertical-align: top;\n",
       "    }\n",
       "\n",
       "    .dataframe thead th {\n",
       "        text-align: right;\n",
       "    }\n",
       "</style>\n",
       "<table border=\"1\" class=\"dataframe\">\n",
       "  <thead>\n",
       "    <tr style=\"text-align: right;\">\n",
       "      <th></th>\n",
       "      <th>mean_fit_time</th>\n",
       "      <th>std_fit_time</th>\n",
       "      <th>mean_score_time</th>\n",
       "      <th>std_score_time</th>\n",
       "      <th>param_learning_rate</th>\n",
       "      <th>param_max_depth</th>\n",
       "      <th>param_n_estimators</th>\n",
       "      <th>params</th>\n",
       "      <th>split0_test_score</th>\n",
       "      <th>split1_test_score</th>\n",
       "      <th>mean_test_score</th>\n",
       "      <th>std_test_score</th>\n",
       "      <th>rank_test_score</th>\n",
       "    </tr>\n",
       "  </thead>\n",
       "  <tbody>\n",
       "    <tr>\n",
       "      <th>0</th>\n",
       "      <td>0.829373</td>\n",
       "      <td>0.028056</td>\n",
       "      <td>0.064800</td>\n",
       "      <td>0.015897</td>\n",
       "      <td>0.422909</td>\n",
       "      <td>6</td>\n",
       "      <td>313</td>\n",
       "      <td>{'learning_rate': 0.42290930295437734, 'max_de...</td>\n",
       "      <td>0.919379</td>\n",
       "      <td>0.927633</td>\n",
       "      <td>0.923506</td>\n",
       "      <td>0.004127</td>\n",
       "      <td>2</td>\n",
       "    </tr>\n",
       "    <tr>\n",
       "      <th>1</th>\n",
       "      <td>1.554580</td>\n",
       "      <td>0.202000</td>\n",
       "      <td>0.074350</td>\n",
       "      <td>0.011924</td>\n",
       "      <td>0.585352</td>\n",
       "      <td>5</td>\n",
       "      <td>690</td>\n",
       "      <td>{'learning_rate': 0.5853519930243356, 'max_dep...</td>\n",
       "      <td>0.916913</td>\n",
       "      <td>0.924170</td>\n",
       "      <td>0.920541</td>\n",
       "      <td>0.003628</td>\n",
       "      <td>9</td>\n",
       "    </tr>\n",
       "    <tr>\n",
       "      <th>2</th>\n",
       "      <td>0.925073</td>\n",
       "      <td>0.014225</td>\n",
       "      <td>0.045282</td>\n",
       "      <td>0.001815</td>\n",
       "      <td>0.554533</td>\n",
       "      <td>8</td>\n",
       "      <td>314</td>\n",
       "      <td>{'learning_rate': 0.554532921359051, 'max_dept...</td>\n",
       "      <td>0.918891</td>\n",
       "      <td>0.926924</td>\n",
       "      <td>0.922907</td>\n",
       "      <td>0.004016</td>\n",
       "      <td>6</td>\n",
       "    </tr>\n",
       "    <tr>\n",
       "      <th>3</th>\n",
       "      <td>1.284601</td>\n",
       "      <td>0.194456</td>\n",
       "      <td>0.046451</td>\n",
       "      <td>0.008908</td>\n",
       "      <td>0.572983</td>\n",
       "      <td>3</td>\n",
       "      <td>692</td>\n",
       "      <td>{'learning_rate': 0.5729827777333318, 'max_dep...</td>\n",
       "      <td>0.920804</td>\n",
       "      <td>0.925904</td>\n",
       "      <td>0.923354</td>\n",
       "      <td>0.002550</td>\n",
       "      <td>3</td>\n",
       "    </tr>\n",
       "    <tr>\n",
       "      <th>4</th>\n",
       "      <td>0.893331</td>\n",
       "      <td>0.153751</td>\n",
       "      <td>0.038754</td>\n",
       "      <td>0.000915</td>\n",
       "      <td>0.470812</td>\n",
       "      <td>4</td>\n",
       "      <td>418</td>\n",
       "      <td>{'learning_rate': 0.470811843873447, 'max_dept...</td>\n",
       "      <td>0.921815</td>\n",
       "      <td>0.926184</td>\n",
       "      <td>0.923999</td>\n",
       "      <td>0.002185</td>\n",
       "      <td>1</td>\n",
       "    </tr>\n",
       "    <tr>\n",
       "      <th>5</th>\n",
       "      <td>1.552689</td>\n",
       "      <td>0.193747</td>\n",
       "      <td>0.063568</td>\n",
       "      <td>0.015624</td>\n",
       "      <td>0.404303</td>\n",
       "      <td>4</td>\n",
       "      <td>616</td>\n",
       "      <td>{'learning_rate': 0.40430322715768163, 'max_de...</td>\n",
       "      <td>0.918899</td>\n",
       "      <td>0.926244</td>\n",
       "      <td>0.922571</td>\n",
       "      <td>0.003673</td>\n",
       "      <td>7</td>\n",
       "    </tr>\n",
       "    <tr>\n",
       "      <th>6</th>\n",
       "      <td>1.345680</td>\n",
       "      <td>0.051210</td>\n",
       "      <td>0.057776</td>\n",
       "      <td>0.001532</td>\n",
       "      <td>0.433429</td>\n",
       "      <td>9</td>\n",
       "      <td>410</td>\n",
       "      <td>{'learning_rate': 0.4334288747439906, 'max_dep...</td>\n",
       "      <td>0.920685</td>\n",
       "      <td>0.925507</td>\n",
       "      <td>0.923096</td>\n",
       "      <td>0.002411</td>\n",
       "      <td>5</td>\n",
       "    </tr>\n",
       "    <tr>\n",
       "      <th>7</th>\n",
       "      <td>1.056859</td>\n",
       "      <td>0.207866</td>\n",
       "      <td>0.051321</td>\n",
       "      <td>0.001937</td>\n",
       "      <td>0.584544</td>\n",
       "      <td>10</td>\n",
       "      <td>350</td>\n",
       "      <td>{'learning_rate': 0.5845439889186795, 'max_dep...</td>\n",
       "      <td>0.918854</td>\n",
       "      <td>0.926180</td>\n",
       "      <td>0.922517</td>\n",
       "      <td>0.003663</td>\n",
       "      <td>8</td>\n",
       "    </tr>\n",
       "    <tr>\n",
       "      <th>8</th>\n",
       "      <td>1.551829</td>\n",
       "      <td>0.102389</td>\n",
       "      <td>0.101418</td>\n",
       "      <td>0.020459</td>\n",
       "      <td>0.298821</td>\n",
       "      <td>6</td>\n",
       "      <td>629</td>\n",
       "      <td>{'learning_rate': 0.2988212925946424, 'max_dep...</td>\n",
       "      <td>0.920334</td>\n",
       "      <td>0.926061</td>\n",
       "      <td>0.923198</td>\n",
       "      <td>0.002863</td>\n",
       "      <td>4</td>\n",
       "    </tr>\n",
       "    <tr>\n",
       "      <th>9</th>\n",
       "      <td>1.343553</td>\n",
       "      <td>0.077163</td>\n",
       "      <td>0.071676</td>\n",
       "      <td>0.000059</td>\n",
       "      <td>0.552594</td>\n",
       "      <td>6</td>\n",
       "      <td>704</td>\n",
       "      <td>{'learning_rate': 0.5525940072045796, 'max_dep...</td>\n",
       "      <td>0.916796</td>\n",
       "      <td>0.923872</td>\n",
       "      <td>0.920334</td>\n",
       "      <td>0.003538</td>\n",
       "      <td>10</td>\n",
       "    </tr>\n",
       "  </tbody>\n",
       "</table>\n",
       "</div>"
      ],
      "text/plain": [
       "   mean_fit_time  std_fit_time  mean_score_time  std_score_time  \\\n",
       "0       0.829373      0.028056         0.064800        0.015897   \n",
       "1       1.554580      0.202000         0.074350        0.011924   \n",
       "2       0.925073      0.014225         0.045282        0.001815   \n",
       "3       1.284601      0.194456         0.046451        0.008908   \n",
       "4       0.893331      0.153751         0.038754        0.000915   \n",
       "5       1.552689      0.193747         0.063568        0.015624   \n",
       "6       1.345680      0.051210         0.057776        0.001532   \n",
       "7       1.056859      0.207866         0.051321        0.001937   \n",
       "8       1.551829      0.102389         0.101418        0.020459   \n",
       "9       1.343553      0.077163         0.071676        0.000059   \n",
       "\n",
       "  param_learning_rate param_max_depth param_n_estimators  \\\n",
       "0            0.422909               6                313   \n",
       "1            0.585352               5                690   \n",
       "2            0.554533               8                314   \n",
       "3            0.572983               3                692   \n",
       "4            0.470812               4                418   \n",
       "5            0.404303               4                616   \n",
       "6            0.433429               9                410   \n",
       "7            0.584544              10                350   \n",
       "8            0.298821               6                629   \n",
       "9            0.552594               6                704   \n",
       "\n",
       "                                              params  split0_test_score  \\\n",
       "0  {'learning_rate': 0.42290930295437734, 'max_de...           0.919379   \n",
       "1  {'learning_rate': 0.5853519930243356, 'max_dep...           0.916913   \n",
       "2  {'learning_rate': 0.554532921359051, 'max_dept...           0.918891   \n",
       "3  {'learning_rate': 0.5729827777333318, 'max_dep...           0.920804   \n",
       "4  {'learning_rate': 0.470811843873447, 'max_dept...           0.921815   \n",
       "5  {'learning_rate': 0.40430322715768163, 'max_de...           0.918899   \n",
       "6  {'learning_rate': 0.4334288747439906, 'max_dep...           0.920685   \n",
       "7  {'learning_rate': 0.5845439889186795, 'max_dep...           0.918854   \n",
       "8  {'learning_rate': 0.2988212925946424, 'max_dep...           0.920334   \n",
       "9  {'learning_rate': 0.5525940072045796, 'max_dep...           0.916796   \n",
       "\n",
       "   split1_test_score  mean_test_score  std_test_score  rank_test_score  \n",
       "0           0.927633         0.923506        0.004127                2  \n",
       "1           0.924170         0.920541        0.003628                9  \n",
       "2           0.926924         0.922907        0.004016                6  \n",
       "3           0.925904         0.923354        0.002550                3  \n",
       "4           0.926184         0.923999        0.002185                1  \n",
       "5           0.926244         0.922571        0.003673                7  \n",
       "6           0.925507         0.923096        0.002411                5  \n",
       "7           0.926180         0.922517        0.003663                8  \n",
       "8           0.926061         0.923198        0.002863                4  \n",
       "9           0.923872         0.920334        0.003538               10  "
      ]
     },
     "metadata": {},
     "output_type": "display_data"
    }
   ],
   "source": [
    "#RandomSearchCV for advanced HPO \n",
    "import scipy.stats as stats\n",
    "if do_HP_optimization:\n",
    "    from sklearn.model_selection import RandomizedSearchCV\n",
    "\n",
    "    # specify parameters, range, and distributions to sample from\n",
    "    param_dist_XGB = {'max_depth': stats.randint(3, 12), # default 6\n",
    "                      'n_estimators': stats.randint(300, 800), #default 100\n",
    "                      'learning_rate': stats.uniform(0.1, 0.5)} #def 0.3 \n",
    "\n",
    "    # default CV is 5 fold, reduce to 2 for speed concern\n",
    "    gsearch = RandomizedSearchCV(estimator = XGBClassifier(tree_method=\"hist\",use_label_encoder=False,eval_metric='logloss'), \n",
    "                        param_distributions = param_dist_XGB, \n",
    "                        scoring='roc_auc',n_iter=10,cv=2)\n",
    "    gsearch.fit(X_train,y_train)\n",
    "\n",
    "    print (\"Best parameters : \",gsearch.best_params_)\n",
    "    print (\"Best score (on train dataset CV) : \",gsearch.best_score_)\n",
    "\n",
    "\n",
    "    y_pred_gs = gsearch.predict_proba(X_test)[:,1]\n",
    "    print(\"... corresponding score on test dataset : \",roc_auc_score(y_true=y_test, y_score=y_pred_gs))\n",
    "    dfsearch=pd.DataFrame.from_dict(gsearch.cv_results_)\n",
    "    display(dfsearch)"
   ]
  },
  {
   "cell_type": "code",
   "execution_count": 673,
   "id": "bb62351c",
   "metadata": {},
   "outputs": [
    {
     "name": "stderr",
     "output_type": "stream",
     "text": [
      "/Users/christopheralpert/miniconda3/lib/python3.8/site-packages/pandas/plotting/_matplotlib/core.py:1041: UserWarning: No data for colormapping provided via 'c'. Parameters 'cmap' will be ignored\n",
      "  scatter = ax.scatter(\n"
     ]
    },
    {
     "data": {
      "image/png": "[encoded data removed]",
      "text/plain": [
       "<Figure size 432x288 with 1 Axes>"
      ]
     },
     "metadata": {
      "needs_background": "light"
     },
     "output_type": "display_data"
    },
    {
     "data": {
      "image/png": "[encoded data removed]",
      "text/plain": [
       "<Figure size 432x288 with 1 Axes>"
      ]
     },
     "metadata": {
      "needs_background": "light"
     },
     "output_type": "display_data"
    },
    {
     "data": {
      "image/png": "[encoded data removed]",
      "text/plain": [
       "<Figure size 432x288 with 1 Axes>"
      ]
     },
     "metadata": {
      "needs_background": "light"
     },
     "output_type": "display_data"
    }
   ],
   "source": [
    "if do_HP_optimization: \n",
    "    dfsearch.plot.scatter(\"param_n_estimators\",\"mean_test_score\")\n",
    "    dfsearch.plot.scatter(\"param_max_depth\",\"mean_test_score\")\n",
    "    dfsearch.plot.scatter(\"param_learning_rate\",\"mean_test_score\")"
   ]
  },
  {
   "cell_type": "markdown",
   "id": "282c16e0",
   "metadata": {},
   "source": [
    "## Learning Curve - How learning changes with training size"
   ]
  },
  {
   "cell_type": "code",
   "execution_count": 623,
   "id": "2fdb4baf",
   "metadata": {},
   "outputs": [
    {
     "name": "stdout",
     "output_type": "stream",
     "text": [
      "training with  174  events\n",
      "training with  871  events\n",
      "training with  1742  events\n",
      "training with  3485  events\n",
      "training with  8714  events\n",
      "training with  13071  events\n",
      "training with  17428  events\n"
     ]
    },
    {
     "data": {
      "text/html": [
       "<div>\n",
       "<style scoped>\n",
       "    .dataframe tbody tr th:only-of-type {\n",
       "        vertical-align: middle;\n",
       "    }\n",
       "\n",
       "    .dataframe tbody tr th {\n",
       "        vertical-align: top;\n",
       "    }\n",
       "\n",
       "    .dataframe thead th {\n",
       "        text-align: right;\n",
       "    }\n",
       "</style>\n",
       "<table border=\"1\" class=\"dataframe\">\n",
       "  <thead>\n",
       "    <tr style=\"text-align: right;\">\n",
       "      <th></th>\n",
       "      <th>Ntraining</th>\n",
       "      <th>test_auc</th>\n",
       "      <th>train_auc</th>\n",
       "      <th>time</th>\n",
       "    </tr>\n",
       "  </thead>\n",
       "  <tbody>\n",
       "    <tr>\n",
       "      <th>0</th>\n",
       "      <td>174</td>\n",
       "      <td>0.911415</td>\n",
       "      <td>1.000000</td>\n",
       "      <td>0.071698</td>\n",
       "    </tr>\n",
       "    <tr>\n",
       "      <th>1</th>\n",
       "      <td>871</td>\n",
       "      <td>0.914185</td>\n",
       "      <td>1.000000</td>\n",
       "      <td>0.081916</td>\n",
       "    </tr>\n",
       "    <tr>\n",
       "      <th>2</th>\n",
       "      <td>1742</td>\n",
       "      <td>0.922032</td>\n",
       "      <td>1.000000</td>\n",
       "      <td>0.167713</td>\n",
       "    </tr>\n",
       "    <tr>\n",
       "      <th>3</th>\n",
       "      <td>3485</td>\n",
       "      <td>0.926792</td>\n",
       "      <td>1.000000</td>\n",
       "      <td>0.132477</td>\n",
       "    </tr>\n",
       "    <tr>\n",
       "      <th>4</th>\n",
       "      <td>8714</td>\n",
       "      <td>0.925274</td>\n",
       "      <td>0.999721</td>\n",
       "      <td>0.234720</td>\n",
       "    </tr>\n",
       "    <tr>\n",
       "      <th>5</th>\n",
       "      <td>13071</td>\n",
       "      <td>0.928058</td>\n",
       "      <td>0.999247</td>\n",
       "      <td>0.291092</td>\n",
       "    </tr>\n",
       "    <tr>\n",
       "      <th>6</th>\n",
       "      <td>17428</td>\n",
       "      <td>0.931385</td>\n",
       "      <td>0.998527</td>\n",
       "      <td>0.452159</td>\n",
       "    </tr>\n",
       "  </tbody>\n",
       "</table>\n",
       "</div>"
      ],
      "text/plain": [
       "   Ntraining  test_auc  train_auc      time\n",
       "0        174  0.911415   1.000000  0.071698\n",
       "1        871  0.914185   1.000000  0.081916\n",
       "2       1742  0.922032   1.000000  0.167713\n",
       "3       3485  0.926792   1.000000  0.132477\n",
       "4       8714  0.925274   0.999721  0.234720\n",
       "5      13071  0.928058   0.999247  0.291092\n",
       "6      17428  0.931385   0.998527  0.452159"
      ]
     },
     "metadata": {},
     "output_type": "display_data"
    }
   ],
   "source": [
    "\n",
    "from sklearn.metrics import roc_curve\n",
    "\n",
    "Do_Learning_Curve = True\n",
    "\n",
    "if Do_Learning_Curve : \n",
    "    train_sizes=[0.01,0.05,0.1,0.2,0.5,0.75,1]\n",
    "    ntrains=[]\n",
    "    test_aucs=[]\n",
    "    train_aucs=[]\n",
    "    times=[]\n",
    "    fpr=[]\n",
    "    tpr=[]\n",
    "\n",
    "    for train_size in train_sizes:\n",
    "        ntrain=int(len(X_train)*train_size)\n",
    "        print(\"training with \",ntrain,\" events\")\n",
    "        ntrains+=[ntrain]\n",
    "        starting_time = time.time()\n",
    "\n",
    "        # train using the first ntrain event of the training dataset\n",
    "        xgb.fit(X_train[:ntrain], y_train[:ntrain])\n",
    "        training_time = time.time( ) - starting_time\n",
    "        times+=[training_time]\n",
    "\n",
    "        # score on test dataset (always the same)\n",
    "        y_pred_xgb=xgb.predict_proba(X_test)[:,1]\n",
    "        auc_test_xgb = roc_auc_score(y_true=y_test, y_score=y_pred_xgb)\n",
    "        test_aucs+=[auc_test_xgb]\n",
    "\n",
    "        # score on the train dataset \n",
    "        y_train_xgb=xgb.predict_proba(X_train[:ntrain])[:,1]\n",
    "        auc_train_xgb = roc_auc_score(y_true=y_train[:ntrain], y_score=y_train_xgb)\n",
    "        train_aucs+=[auc_train_xgb]\n",
    "        dflearning=pd.DataFrame({\"Ntraining\":ntrains,\n",
    "                             \"test_auc\":test_aucs,\n",
    "                             \"train_auc\":train_aucs,\n",
    "                             \"time\":times})\n",
    "        \n",
    "        temp_fpr, temp_tpr,_ = roc_curve(y_true=y_train[:ntrain], y_score=y_train_xgb)\n",
    "        fpr+=[temp_fpr]\n",
    "        tpr+=[temp_tpr]\n",
    "        \n",
    "    display(dflearning)"
   ]
  },
  {
   "cell_type": "code",
   "execution_count": 624,
   "id": "22a5cf1e",
   "metadata": {},
   "outputs": [],
   "source": [
    "###### NEED TO SEE WHY train_auc is 1.0 here ############"
   ]
  },
  {
   "cell_type": "code",
   "execution_count": 625,
   "id": "30995434",
   "metadata": {},
   "outputs": [
    {
     "data": {
      "image/png": "[encoded data removed]",
      "text/plain": [
       "<Figure size 1080x360 with 2 Axes>"
      ]
     },
     "metadata": {
      "needs_background": "light"
     },
     "output_type": "display_data"
    }
   ],
   "source": [
    "if Do_Learning_Curve:\n",
    "    \n",
    "    fig, axes = plt.subplots(1, 2, figsize=(15,5))\n",
    "    lw = 2\n",
    "    #axes[0].plot(fpr_xgb, tpr_xgb, color='blue',lw=lw, label='XGBoost (AUC  = {})'.format(np.round(auc_test_xgb,decimals=2)))\n",
    "    axes[0].plot(fpr[0], tpr[0], color='blue',lw=lw, label='NTrain = %i'%(ntrains[0]))\n",
    "    axes[0].plot(fpr[1], tpr[1], color='red',lw=lw, label='NTrain = %i'%(ntrains[1]))\n",
    "    axes[0].plot(fpr[2], tpr[2], color='green',lw=lw, label='NTrain = %i'%(ntrains[2]))\n",
    "    axes[0].plot(fpr[6], tpr[6], color='orange',lw=lw, label='NTrain = %i'%(ntrains[6]))\n",
    "    \n",
    "    axes[0].legend()\n",
    "    axes[0].set_xlabel('False Positive Rate')\n",
    "    axes[0].set_ylabel('True Positive Rate')\n",
    "    axes[0].set_title('Receiver Operating Characteristic')\n",
    "    \n",
    "    axes[1].set_title(\"Test AUC vs. NTraining\")\n",
    "    #dflearning.plot.scatter(\"Ntraining\",\"test_auc\",ax=axes[1])\n",
    "    # focus on the last point\n",
    "    #dflearning[4:].plot.scatter(\"Ntraining\",\"test_auc\")"
   ]
  },
  {
   "cell_type": "markdown",
   "id": "247144f4",
   "metadata": {},
   "source": [
    "## Feature Importance"
   ]
  },
  {
   "cell_type": "code",
   "execution_count": 626,
   "id": "8a518ecf",
   "metadata": {},
   "outputs": [
    {
     "data": {
      "text/plain": [
       "Text(0.5, 1.0, 'Feature importances XGBoost Hist')"
      ]
     },
     "execution_count": 626,
     "metadata": {},
     "output_type": "execute_result"
    },
    {
     "data": {
      "image/png": "[encoded data removed]",
      "text/plain": [
       "<Figure size 432x288 with 1 Axes>"
      ]
     },
     "metadata": {
      "needs_background": "light"
     },
     "output_type": "display_data"
    }
   ],
   "source": [
    "plt.bar(data.columns.values, xgb.feature_importances_)\n",
    "plt.xticks(rotation=90)\n",
    "plt.title(\"Feature importances XGBoost Hist\")"
   ]
  },
  {
   "cell_type": "markdown",
   "id": "8f3bdc04",
   "metadata": {},
   "source": [
    "## Permutation Importance"
   ]
  },
  {
   "cell_type": "code",
   "execution_count": 627,
   "id": "0e2fe984",
   "metadata": {},
   "outputs": [
    {
     "data": {
      "image/png": "[encoded data removed]",
      "text/plain": [
       "<Figure size 432x288 with 1 Axes>"
      ]
     },
     "metadata": {
      "needs_background": "light"
     },
     "output_type": "display_data"
    }
   ],
   "source": [
    "Do_Permutation = True\n",
    "if Do_Permutation:\n",
    "    from sklearn.inspection import permutation_importance\n",
    "    r = permutation_importance(xgb, X_test, y_test,\n",
    "                           scoring='roc_auc',n_repeats=1,n_jobs=-1,\n",
    "                            random_state=0)\n",
    "    plt.bar(data.columns,r.importances.mean(axis=1).T,)\n",
    "\n",
    "    plt.xlabel('features')\n",
    "    plt.ylabel('impact on auc')\n",
    "    plt.title('Permutation Importance XGBoost')\n",
    "    plt.xticks(rotation=45)  # Rotate labels by 45 degrees\n",
    "    plt.show()"
   ]
  },
  {
   "cell_type": "markdown",
   "id": "6bc74ebd",
   "metadata": {},
   "source": [
    "## Overtraining the BDT"
   ]
  },
  {
   "cell_type": "code",
   "execution_count": 631,
   "id": "20c33bc1",
   "metadata": {},
   "outputs": [
    {
     "name": "stderr",
     "output_type": "stream",
     "text": [
      "/Users/christopheralpert/miniconda3/lib/python3.8/site-packages/xgboost/sklearn.py:1395: UserWarning: `use_label_encoder` is deprecated in 1.7.0.\n",
      "  warnings.warn(\"`use_label_encoder` is deprecated in 1.7.0.\")\n"
     ]
    },
    {
     "name": "stdout",
     "output_type": "stream",
     "text": [
      "Training time: 20.263671875\n",
      "auc test: 0.9237713053325924\n",
      "auc train: 1.0 \n",
      "\n"
     ]
    },
    {
     "data": {
      "image/png": "[encoded data removed]",
      "text/plain": [
       "<Figure size 432x288 with 1 Axes>"
      ]
     },
     "metadata": {
      "needs_background": "light"
     },
     "output_type": "display_data"
    }
   ],
   "source": [
    "n_trees = 20000\n",
    "\n",
    "#defining new XGBClassifier with more trees\n",
    "xgb = XGBClassifier(tree_method=\"hist\",n_estimators=n_trees, use_label_encoder=False,eval_metric='logloss')\n",
    "# tree_method=\"hist\" is 10 times faster, however less robust against awkwards features (not a bad idea to double check without it)\n",
    "# can even try tree_method=\"gpu_hist\" if proper GPU installation\n",
    "# use_label_encoder and eval_metric to silence warning in 1.3.0\n",
    "\n",
    "# HPO (==Hyper Parameter Optimization), check on the web https://xgboost.readthedocs.io/ for other parameters\n",
    "#xgb = XGBClassifier(tree_method=\"hist\",use_label_encoder=False,max_depth=10,n_estimators=100) \n",
    "\n",
    "\n",
    "starting_time = time.time()\n",
    "\n",
    "xgb.fit(X_train, y_train.values) # note that XGB 1.3.X requires positive weight\n",
    "        \n",
    "training_time = time.time( ) - starting_time\n",
    "print(\"Training time:\",training_time)\n",
    "\n",
    "## prediction on test data by trained BDT classifier\n",
    "y_pred_xgb = xgb.predict_proba(X_test)[:,1]\n",
    "y_pred_xgb = y_pred_xgb.ravel()\n",
    "#prediction on train data by BDT classifier\n",
    "y_pred_train_xgb = xgb.predict_proba(X_train)[:,1].ravel()\n",
    "auc_test_xgb = roc_auc_score(y_true=y_test, y_score=y_pred_xgb)\n",
    "print(\"auc test:\",auc_test_xgb)\n",
    "print (\"auc train:\",roc_auc_score(y_true=y_train.values, y_score=y_pred_train_xgb),\"\\n\")\n",
    "\n",
    "compare_train_test(y_pred_train_xgb, y_train, y_pred_xgb, y_test, \n",
    "                   xlabel=\"XGboost score\", title=\"Decision Score\")\n"
   ]
  },
  {
   "cell_type": "code",
   "execution_count": null,
   "id": "d065cfd3",
   "metadata": {},
   "outputs": [],
   "source": []
  }
 ],
 "metadata": {
  "kernelspec": {
   "display_name": "Python 3",
   "language": "python",
   "name": "python3"
  },
  "language_info": {
   "codemirror_mode": {
    "name": "ipython",
    "version": 3
   },
   "file_extension": ".py",
   "mimetype": "text/x-python",
   "name": "python",
   "nbconvert_exporter": "python",
   "pygments_lexer": "ipython3",
   "version": "3.8.5"
  }
 },
 "nbformat": 4,
 "nbformat_minor": 5
}
