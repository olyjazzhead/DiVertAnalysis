{
 "cells": [
  {
   "cell_type": "code",
   "execution_count": 1,
   "id": "ff94fce5",
   "metadata": {},
   "outputs": [],
   "source": [
    "#Begin with preselection cuts: trigger and has good PV"
   ]
  },
  {
   "cell_type": "code",
   "execution_count": 2,
   "id": "e1015683",
   "metadata": {},
   "outputs": [],
   "source": [
    "import uproot\n",
    "import numpy as np\n",
    "import awkward as ak\n",
    "import matplotlib.pyplot as plt"
   ]
  },
  {
   "cell_type": "code",
   "execution_count": 12,
   "id": "36273afb",
   "metadata": {},
   "outputs": [],
   "source": [
    "branches = [(\"pass_HLT_j30_muvtx_noiso\"), (\"hasGoodPV\")]"
   ]
  },
  {
   "cell_type": "code",
   "execution_count": 3,
   "id": "0afde3e9",
   "metadata": {},
   "outputs": [],
   "source": [
    "sig_file = uproot.open(\"user.calpert.mc16_13TeV.311423.MGPy8EG_A14NNPDF23_NNPDF31ME_HSS_LLP_mH600_mS150_lthigh.032123_trees.root/user.calpert.311423.e7357_e5984_s3234_r10201_r10210_p4696.32829947._000001.trees.root:trees_DV_\")"
   ]
  },
  {
   "cell_type": "code",
   "execution_count": 15,
   "id": "19316de0",
   "metadata": {},
   "outputs": [],
   "source": [
    "bkg_file = uproot.concatenate(\"user.calpert.mc16_13TeV.361022.Pythia8EvtGen_A14NNPDF23LO_jetjet_JZ2W.032123_trees.root.479322611/user.calpert*.root:trees_DV_\", branches)"
   ]
  },
  {
   "cell_type": "code",
   "execution_count": 29,
   "id": "7f8317fa",
   "metadata": {},
   "outputs": [],
   "source": [
    "#Start by looking at histograms of trigger and goodPV of signal"
   ]
  },
  {
   "cell_type": "code",
   "execution_count": 28,
   "id": "44c71a49",
   "metadata": {},
   "outputs": [
    {
     "data": {
      "text/plain": [
       "Text(0.5, 1.0, 'Histogram of Trigger and Good PV (Signal)')"
      ]
     },
     "execution_count": 28,
     "metadata": {},
     "output_type": "execute_result"
    },
    {
     "data": {
      "image/png": "[encoded data removed]",
      "text/plain": [
       "<Figure size 432x288 with 1 Axes>"
      ]
     },
     "metadata": {
      "needs_background": "light"
     },
     "output_type": "display_data"
    }
   ],
   "source": [
    "plt.hist(sig_file[\"pass_HLT_j30_muvtx_noiso\"].array(), label = \"Trigger\")\n",
    "plt.hist(sig_file[\"hasGoodPV\"].array(), label = \"Good PV\")\n",
    "plt.legend()\n",
    "plt.title(\"Histogram of Trigger and Good PV (Signal)\")"
   ]
  },
  {
   "cell_type": "code",
   "execution_count": 26,
   "id": "9a9eee5e",
   "metadata": {},
   "outputs": [],
   "source": [
    "#All candidates have good PV, so we'd expect a preselection to contain all events that pass trigger, roughly 10,000 or so"
   ]
  },
  {
   "cell_type": "code",
   "execution_count": 27,
   "id": "fb665937",
   "metadata": {},
   "outputs": [],
   "source": [
    "#Take a look at background"
   ]
  },
  {
   "cell_type": "code",
   "execution_count": 30,
   "id": "5bcdc092",
   "metadata": {},
   "outputs": [
    {
     "data": {
      "text/plain": [
       "Text(0.5, 1.0, 'Histogram of Trigger and Good PV (Background)')"
      ]
     },
     "execution_count": 30,
     "metadata": {},
     "output_type": "execute_result"
    },
    {
     "data": {
      "image/png": "[encoded data removed]",
      "text/plain": [
       "<Figure size 432x288 with 1 Axes>"
      ]
     },
     "metadata": {
      "needs_background": "light"
     },
     "output_type": "display_data"
    }
   ],
   "source": [
    "plt.hist(bkg_file[\"pass_HLT_j30_muvtx_noiso\"], label = \"Trigger\")\n",
    "plt.hist(bkg_file[\"hasGoodPV\"], label = \"Good PV\")\n",
    "plt.legend()\n",
    "plt.title(\"Histogram of Trigger and Good PV (Background)\")"
   ]
  },
  {
   "cell_type": "code",
   "execution_count": null,
   "id": "f167f351",
   "metadata": {},
   "outputs": [],
   "source": [
    "#Again, all candidates have good PV so we'd expect our preselection to contain around 275 events"
   ]
  },
  {
   "cell_type": "code",
   "execution_count": 39,
   "id": "0bf3cf69",
   "metadata": {},
   "outputs": [],
   "source": [
    "sig_batch=sig_file.arrays(branches)"
   ]
  },
  {
   "cell_type": "code",
   "execution_count": 40,
   "id": "bb36eb0b",
   "metadata": {},
   "outputs": [],
   "source": [
    "sig_cut = (batch.pass_HLT_j30_muvtx_noiso ==1) & (batch.hasGoodPV ==1)"
   ]
  },
  {
   "cell_type": "code",
   "execution_count": 42,
   "id": "c0378f09",
   "metadata": {},
   "outputs": [
    {
     "data": {
      "text/plain": [
       "<Array [False, False, True, ... True, False] type='50000 * bool'>"
      ]
     },
     "execution_count": 42,
     "metadata": {},
     "output_type": "execute_result"
    }
   ],
   "source": [
    "sig_cut #Tells us which entries satisfy both conditions - an array of booleans"
   ]
  },
  {
   "cell_type": "code",
   "execution_count": 43,
   "id": "305d187b",
   "metadata": {},
   "outputs": [],
   "source": [
    "presel_sig = sig_batch[cut] #Applies the cut to the both branches"
   ]
  },
  {
   "cell_type": "code",
   "execution_count": 44,
   "id": "379cd542",
   "metadata": {},
   "outputs": [
    {
     "data": {
      "text/plain": [
       "<Array [{pass_HLT_j30_muvtx_noiso: 1, ... ] type='11859 * {\"pass_HLT_j30_muvtx_n...'>"
      ]
     },
     "execution_count": 44,
     "metadata": {},
     "output_type": "execute_result"
    }
   ],
   "source": [
    "presel_sig #As you can see we have about 20% of number of original events"
   ]
  },
  {
   "cell_type": "code",
   "execution_count": null,
   "id": "278d0e5e",
   "metadata": {
    "collapsed": true
   },
   "outputs": [],
   "source": [
    "#Now to do the same for background"
   ]
  },
  {
   "cell_type": "code",
   "execution_count": 33,
   "id": "2602549f",
   "metadata": {},
   "outputs": [],
   "source": [
    "bkg_cut = (bkg_file[\"pass_HLT_j30_muvtx_noiso\"] ==1) & (bkg_file[\"hasGoodPV\"] ==1)"
   ]
  },
  {
   "cell_type": "code",
   "execution_count": 37,
   "id": "85a49cce",
   "metadata": {},
   "outputs": [
    {
     "data": {
      "text/plain": [
       "<Array [False, False, True, ... True, False] type='691 * bool'>"
      ]
     },
     "execution_count": 37,
     "metadata": {},
     "output_type": "execute_result"
    }
   ],
   "source": [
    "bkg_cut #Again this returns an array of booleans"
   ]
  },
  {
   "cell_type": "code",
   "execution_count": 46,
   "id": "8e41b371",
   "metadata": {},
   "outputs": [
    {
     "data": {
      "text/plain": [
       "<Array [{pass_HLT_j30_muvtx_noiso: 1, ... ] type='270 * {\"pass_HLT_j30_muvtx_noi...'>"
      ]
     },
     "execution_count": 46,
     "metadata": {},
     "output_type": "execute_result"
    }
   ],
   "source": [
    "#Now to apply the cuts to the background\n",
    "bkg_file[bkg_cut]"
   ]
  },
  {
   "cell_type": "code",
   "execution_count": 47,
   "id": "6fb406bb",
   "metadata": {},
   "outputs": [],
   "source": [
    "#And it looks like we have 270 events, consistent with our expectations"
   ]
  },
  {
   "cell_type": "code",
   "execution_count": null,
   "id": "a97d8c72",
   "metadata": {},
   "outputs": [],
   "source": []
  }
 ],
 "metadata": {
  "kernelspec": {
   "display_name": "Python 3",
   "language": "python",
   "name": "python3"
  },
  "language_info": {
   "codemirror_mode": {
    "name": "ipython",
    "version": 3
   },
   "file_extension": ".py",
   "mimetype": "text/x-python",
   "name": "python",
   "nbconvert_exporter": "python",
   "pygments_lexer": "ipython3",
   "version": "3.8.5"
  }
 },
 "nbformat": 4,
 "nbformat_minor": 5
}
