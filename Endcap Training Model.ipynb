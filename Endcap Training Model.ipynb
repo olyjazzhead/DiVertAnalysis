{
 "cells": [
  {
   "cell_type": "code",
   "execution_count": 1,
   "id": "77c6708e",
   "metadata": {},
   "outputs": [
    {
     "name": "stdout",
     "output_type": "stream",
     "text": [
      "1.7.3\n",
      "0.23.2\n"
     ]
    }
   ],
   "source": [
    "#Import Libraries\n",
    "import numpy as np\n",
    "import pandas as pd\n",
    "import os \n",
    "import itertools \n",
    "import uproot\n",
    "import time\n",
    "import awkward as ak\n",
    "from IPython.display import display, HTML\n",
    "import hist\n",
    "#import vector\n",
    "import pickle\n",
    "import matplotlib.pyplot as plt\n",
    "\n",
    "import xgboost\n",
    "print(xgboost.__version__)\n",
    "import sklearn\n",
    "print (sklearn.__version__)"
   ]
  },
  {
   "cell_type": "markdown",
   "id": "f2cb99ff",
   "metadata": {},
   "source": [
    "## Load datasets and concatenate"
   ]
  },
  {
   "cell_type": "code",
   "execution_count": 25,
   "id": "a290093e",
   "metadata": {},
   "outputs": [],
   "source": [
    "#Set to read all columns\n",
    "pd.set_option('display.max_columns', None)\n",
    "\n",
    "#Import and concatenate the training sets\n",
    "df_bkg = pd.read_csv('bkg_train')\n",
    "df_sig = pd.read_csv('sig_train_endcap')\n",
    "df = pd.concat([df_bkg,df_sig], ignore_index=True)\n"
   ]
  },
  {
   "cell_type": "markdown",
   "id": "3de55b13",
   "metadata": {},
   "source": [
    "## Begin Training"
   ]
  },
  {
   "cell_type": "code",
   "execution_count": 26,
   "id": "521e255e",
   "metadata": {},
   "outputs": [],
   "source": [
    "#Shuffle the dataset\n",
    "df = df.sample(frac=1).reset_index(drop=True)"
   ]
  },
  {
   "cell_type": "code",
   "execution_count": 27,
   "id": "e5cccd02",
   "metadata": {},
   "outputs": [
    {
     "data": {
      "text/plain": [
       "Index(['Event #', 'Mult', 'MDT', 'RPC', 'TGC', 'ntrks', 'Vtx_eta', 'Vtx_phi',\n",
       "       'Vtx_Sum_pT', 'jet_pt_1', 'jet_eta_1', 'jet_phi_1', 'jet_logRatio_1',\n",
       "       'jet_jvt_1', 'delta_jet_1', 'jet_pt_2', 'jet_eta_2', 'jet_phi_2',\n",
       "       'jet_logRatio_2', 'jet_jvt_2', 'delta_jet_2', 'jet_pt_3', 'jet_eta_3',\n",
       "       'jet_phi_3', 'jet_logRatio_3', 'jet_jvt_3', 'delta_jet_3', 'track_pt_1',\n",
       "       'delta_track_1', 'track_pt_2', 'delta_track_2', 'track_pt_3',\n",
       "       'delta_track_3', 'Label'],\n",
       "      dtype='object')"
      ]
     },
     "execution_count": 27,
     "metadata": {},
     "output_type": "execute_result"
    }
   ],
   "source": [
    "#Check columns of df\n",
    "df.columns"
   ]
  },
  {
   "cell_type": "code",
   "execution_count": 28,
   "id": "6d7d7da9",
   "metadata": {},
   "outputs": [],
   "source": [
    "#Delcare Target\n",
    "#WARNING : there should be no selection nor shuffling later on ! (otherwise misalignement)\n",
    "target = df[\"Label\"]"
   ]
  },
  {
   "cell_type": "code",
   "execution_count": 29,
   "id": "54cea746",
   "metadata": {},
   "outputs": [
    {
     "name": "stdout",
     "output_type": "stream",
     "text": [
      "Df shape of dataset to be used : (23238, 11)\n"
     ]
    },
    {
     "data": {
      "text/html": [
       "<div>\n",
       "<style scoped>\n",
       "    .dataframe tbody tr th:only-of-type {\n",
       "        vertical-align: middle;\n",
       "    }\n",
       "\n",
       "    .dataframe tbody tr th {\n",
       "        vertical-align: top;\n",
       "    }\n",
       "\n",
       "    .dataframe thead th {\n",
       "        text-align: right;\n",
       "    }\n",
       "</style>\n",
       "<table border=\"1\" class=\"dataframe\">\n",
       "  <thead>\n",
       "    <tr style=\"text-align: right;\">\n",
       "      <th></th>\n",
       "      <th>Mult</th>\n",
       "      <th>ntrks</th>\n",
       "      <th>Vtx_eta</th>\n",
       "      <th>Vtx_phi</th>\n",
       "      <th>Vtx_Sum_pT</th>\n",
       "      <th>jet_pt_1</th>\n",
       "      <th>jet_eta_1</th>\n",
       "      <th>jet_phi_1</th>\n",
       "      <th>delta_jet_1</th>\n",
       "      <th>track_pt_1</th>\n",
       "      <th>delta_track_1</th>\n",
       "    </tr>\n",
       "  </thead>\n",
       "  <tbody>\n",
       "    <tr>\n",
       "      <th>0</th>\n",
       "      <td>1.0</td>\n",
       "      <td>5</td>\n",
       "      <td>1.587242</td>\n",
       "      <td>-1.554146</td>\n",
       "      <td>528.125115</td>\n",
       "      <td>9.468896</td>\n",
       "      <td>1.285432</td>\n",
       "      <td>0.490877</td>\n",
       "      <td>4.273209</td>\n",
       "      <td>0.528125</td>\n",
       "      <td>3.426711e-02</td>\n",
       "    </tr>\n",
       "    <tr>\n",
       "      <th>1</th>\n",
       "      <td>1.0</td>\n",
       "      <td>4</td>\n",
       "      <td>0.390761</td>\n",
       "      <td>-2.243741</td>\n",
       "      <td>1186.164507</td>\n",
       "      <td>1041.179000</td>\n",
       "      <td>0.409590</td>\n",
       "      <td>-2.206659</td>\n",
       "      <td>0.001730</td>\n",
       "      <td>176.779893</td>\n",
       "      <td>1.465877e-03</td>\n",
       "    </tr>\n",
       "    <tr>\n",
       "      <th>2</th>\n",
       "      <td>1.0</td>\n",
       "      <td>4</td>\n",
       "      <td>-0.278262</td>\n",
       "      <td>-1.578477</td>\n",
       "      <td>5247.907147</td>\n",
       "      <td>1003.722813</td>\n",
       "      <td>-0.274693</td>\n",
       "      <td>-1.583912</td>\n",
       "      <td>0.000042</td>\n",
       "      <td>39.992087</td>\n",
       "      <td>5.938379e-07</td>\n",
       "    </tr>\n",
       "    <tr>\n",
       "      <th>3</th>\n",
       "      <td>1.0</td>\n",
       "      <td>4</td>\n",
       "      <td>1.518889</td>\n",
       "      <td>-0.178636</td>\n",
       "      <td>10967.468909</td>\n",
       "      <td>1082.072875</td>\n",
       "      <td>1.548059</td>\n",
       "      <td>-0.173891</td>\n",
       "      <td>0.000873</td>\n",
       "      <td>43.846749</td>\n",
       "      <td>5.329692e-04</td>\n",
       "    </tr>\n",
       "    <tr>\n",
       "      <th>4</th>\n",
       "      <td>1.0</td>\n",
       "      <td>4</td>\n",
       "      <td>0.377367</td>\n",
       "      <td>1.448707</td>\n",
       "      <td>5766.677266</td>\n",
       "      <td>1028.182750</td>\n",
       "      <td>0.429710</td>\n",
       "      <td>1.351330</td>\n",
       "      <td>0.012222</td>\n",
       "      <td>3.693482</td>\n",
       "      <td>1.898665e-03</td>\n",
       "    </tr>\n",
       "  </tbody>\n",
       "</table>\n",
       "</div>"
      ],
      "text/plain": [
       "   Mult  ntrks   Vtx_eta   Vtx_phi    Vtx_Sum_pT     jet_pt_1  jet_eta_1  \\\n",
       "0   1.0      5  1.587242 -1.554146    528.125115     9.468896   1.285432   \n",
       "1   1.0      4  0.390761 -2.243741   1186.164507  1041.179000   0.409590   \n",
       "2   1.0      4 -0.278262 -1.578477   5247.907147  1003.722813  -0.274693   \n",
       "3   1.0      4  1.518889 -0.178636  10967.468909  1082.072875   1.548059   \n",
       "4   1.0      4  0.377367  1.448707   5766.677266  1028.182750   0.429710   \n",
       "\n",
       "   jet_phi_1  delta_jet_1  track_pt_1  delta_track_1  \n",
       "0   0.490877     4.273209    0.528125   3.426711e-02  \n",
       "1  -2.206659     0.001730  176.779893   1.465877e-03  \n",
       "2  -1.583912     0.000042   39.992087   5.938379e-07  \n",
       "3  -0.173891     0.000873   43.846749   5.329692e-04  \n",
       "4   1.351330     0.012222    3.693482   1.898665e-03  "
      ]
     },
     "metadata": {},
     "output_type": "display_data"
    },
    {
     "data": {
      "text/plain": [
       "0    1.0\n",
       "1    0.0\n",
       "2    0.0\n",
       "3    0.0\n",
       "4    0.0\n",
       "Name: Label, dtype: float64"
      ]
     },
     "metadata": {},
     "output_type": "display_data"
    }
   ],
   "source": [
    "# For simplicity only keep some most important features. Can add more later down below\n",
    "data=pd.DataFrame(df, columns=['Mult','ntrks','Vtx_eta','Vtx_phi','Vtx_Sum_pT','jet_pt_1','jet_eta_1','jet_phi_1','delta_jet_1','track_pt_1','delta_track_1'])\n",
    "\n",
    "print (\"Df shape of dataset to be used :\",data.shape)\n",
    "display(data.head())\n",
    "display(target.head())\n"
   ]
  },
  {
   "cell_type": "code",
   "execution_count": 30,
   "id": "a63ac21d",
   "metadata": {},
   "outputs": [
    {
     "name": "stdout",
     "output_type": "stream",
     "text": [
      "Df shape of dataset to be used : (23238, 11)\n"
     ]
    }
   ],
   "source": [
    "more_features = False\n",
    "if (more_features):\n",
    "    data=pd.DataFrame(df, columns=['Event #', 'Mult', 'MDT', 'RPC', 'TGC', 'ntrks', 'Vtx_eta', 'Vtx_phi',\n",
    "       'Vtx_Sum_pT', 'Label', 'jet_pt_1', 'jet_eta_1', 'jet_phi_1',\n",
    "       'jet_logRatio_1', 'jet_jvt_1', 'delta_jet_1', 'jet_pt_2', 'jet_eta_2',\n",
    "       'jet_phi_2', 'jet_logRatio_2', 'jet_jvt_2', 'delta_jet_2', 'track_pt_1',\n",
    "       'delta_track_1', 'track_pt_2', 'delta_track_2', 'track_pt_3','delta_track_3'])\n",
    "print (\"Df shape of dataset to be used :\",data.shape)"
   ]
  },
  {
   "cell_type": "markdown",
   "id": "fab5e6fe",
   "metadata": {},
   "source": [
    "### PreProcess the data"
   ]
  },
  {
   "cell_type": "code",
   "execution_count": 31,
   "id": "70349cce",
   "metadata": {},
   "outputs": [
    {
     "name": "stdout",
     "output_type": "stream",
     "text": [
      "X_train shape: (17428, 11)\n",
      "y_train shape: (17428,)\n",
      "X_test shape: (5810, 11)\n",
      "y_test shape: (5810,)\n"
     ]
    }
   ],
   "source": [
    "#np.random.seed(31415)\n",
    "\n",
    "from sklearn.model_selection import train_test_split\n",
    "train_size = 0.75 # fraction of sample used for training\n",
    "\n",
    "X_train, X_test, y_train, y_test, = train_test_split(data, target, train_size=train_size)\n",
    "\n",
    "#Reset index for dataseries, not needed for ndarray (X_train, X_test)\n",
    "#Basically just re-adding the original element indexing from pandas\n",
    "y_train, y_test = \\\n",
    "    y_train.reset_index(drop=True),y_test.reset_index(drop=True)\n",
    "\n",
    "print (\"X_train shape:\",X_train.shape)\n",
    "print (\"y_train shape:\",y_train.shape)\n",
    "\n",
    "\n",
    "print (\"X_test shape:\",X_test.shape)\n",
    "print (\"y_test shape:\",y_test.shape)\n"
   ]
  },
  {
   "cell_type": "markdown",
   "id": "fee89d5b",
   "metadata": {},
   "source": [
    "### Train the BDT"
   ]
  },
  {
   "cell_type": "code",
   "execution_count": 32,
   "id": "fff02aa7",
   "metadata": {},
   "outputs": [
    {
     "name": "stderr",
     "output_type": "stream",
     "text": [
      "/Users/christopheralpert/miniconda3/lib/python3.8/site-packages/xgboost/sklearn.py:1395: UserWarning: `use_label_encoder` is deprecated in 1.7.0.\n",
      "  warnings.warn(\"`use_label_encoder` is deprecated in 1.7.0.\")\n"
     ]
    },
    {
     "name": "stdout",
     "output_type": "stream",
     "text": [
      "Training time: 0.3365776538848877\n",
      "auc test: 0.9830818158307423\n",
      "auc train: 0.999929016909921 \n",
      "\n"
     ]
    }
   ],
   "source": [
    "np.random.seed(31415) # set the random seed\n",
    "\n",
    "from xgboost import XGBClassifier\n",
    "from sklearn.metrics import roc_auc_score # for binary classification if x > 0.5 -> 1 else -> 0\n",
    "\n",
    "xgb = XGBClassifier(tree_method=\"hist\",use_label_encoder=False,eval_metric='logloss')\n",
    "\n",
    "\n",
    "\n",
    "starting_time = time.time()\n",
    "\n",
    "xgb.fit(X_train, y_train.values) \n",
    "        \n",
    "training_time = time.time( ) - starting_time\n",
    "print(\"Training time:\",training_time)\n",
    "\n",
    "## prediction on test data by trained BDT classifier\n",
    "y_pred_xgb = xgb.predict_proba(X_test)[:,1]\n",
    "y_pred_xgb = y_pred_xgb.ravel()\n",
    "#prediction on train data by BDT classifier\n",
    "y_pred_train_xgb = xgb.predict_proba(X_train)[:,1].ravel()\n",
    "auc_test_xgb = roc_auc_score(y_true=y_test, y_score=y_pred_xgb)\n",
    "print(\"auc test:\",auc_test_xgb)\n",
    "print (\"auc train:\",roc_auc_score(y_true=y_train.values, y_score=y_pred_train_xgb),\"\\n\")"
   ]
  },
  {
   "cell_type": "code",
   "execution_count": 18,
   "id": "84c83216",
   "metadata": {},
   "outputs": [],
   "source": [
    "#define a function to compare train and test\n",
    "# Plot score for signal and background, comparing training and testing\n",
    "def compare_train_test(y_pred_train, y_train, y_pred, y_test, high_low=(0,1), \n",
    "                       bins=30,xlabel=\"\", ylabel=\"Arbitrary units\", title=\"\", \n",
    "                       #weights_train=np.array([]), weights_test=np.array([]),\n",
    "                       density=True):\n",
    "    \n",
    "    plt.hist(y_pred_train[y_train == 1],\n",
    "                 color='r', alpha=0.5, range=high_low, bins=bins,\n",
    "                 histtype='stepfilled', density=density,\n",
    "                 label='S (train)') # alpha is transparancy\n",
    "    plt.hist(y_pred_train[y_train == 0],\n",
    "                 color='b', alpha=0.5, range=high_low, bins=bins,\n",
    "                 histtype='stepfilled', density=density,\n",
    "                 label='B (train)')\n",
    "\n",
    "    \n",
    "    hist, bins = np.histogram(y_pred[y_test == 1],\n",
    "                                  bins=bins, range=high_low, density=density)\n",
    "    scale = len(y_pred[y_test == 1]) / sum(hist)\n",
    "    err = np.sqrt(hist * scale) / scale\n",
    "\n",
    "    center = (bins[:-1] + bins[1:]) / 2\n",
    "    plt.errorbar(center, hist, yerr=err, fmt='o', c='r', label='S (test)')\n",
    "\n",
    "    hist, bins = np.histogram(y_pred[y_test == 0],\n",
    "                                  bins=bins, range=high_low, density=density)\n",
    "    scale = len(y_pred[y_test == 0]) / sum(hist)\n",
    "    err = np.sqrt(hist * scale) / scale\n",
    "\n",
    "    center = (bins[:-1] + bins[1:]) / 2\n",
    "    plt.errorbar(center, hist, yerr=err, fmt='o', c='b', label='B (test)')\n",
    "    plt.title(title)\n",
    "    plt.xlabel(xlabel)\n",
    "    plt.ylabel(ylabel)\n",
    "    plt.legend(loc='best')"
   ]
  },
  {
   "cell_type": "code",
   "execution_count": 19,
   "id": "71e50ce5",
   "metadata": {},
   "outputs": [
    {
     "data": {
      "image/png": "[encoded data removed]",
      "text/plain": [
       "<Figure size 432x288 with 1 Axes>"
      ]
     },
     "metadata": {
      "needs_background": "light"
     },
     "output_type": "display_data"
    }
   ],
   "source": [
    "compare_train_test(y_pred_train_xgb, y_train, y_pred_xgb, y_test, \n",
    "                   xlabel=\"XGboost score\", title=\"Decision Score\") \n",
    "                   #weights_train=weights_train.values, weights_test=weights_test.values)\n",
    "\n",
    "plt.savefig(\"Score_BDT_XGBoost_Hist.pdf\")"
   ]
  },
  {
   "cell_type": "markdown",
   "id": "0876c2cc",
   "metadata": {},
   "source": [
    "## Hyperparameter Optimization"
   ]
  },
  {
   "cell_type": "code",
   "execution_count": 620,
   "id": "0a9aa0aa",
   "metadata": {},
   "outputs": [],
   "source": [
    "#This takes a while. Feel free to come back here after finishing\n",
    "do_HP_optimization = False"
   ]
  },
  {
   "cell_type": "code",
   "execution_count": 621,
   "id": "9008b557",
   "metadata": {},
   "outputs": [],
   "source": [
    "#RandomSearchCV for advanced HPO \n",
    "import scipy.stats as stats\n",
    "if do_HP_optimization:\n",
    "    from sklearn.model_selection import RandomizedSearchCV\n",
    "\n",
    "    # specify parameters, range, and distributions to sample from\n",
    "    param_dist_XGB = {'max_depth': stats.randint(3, 12), # default 6\n",
    "                      'n_estimators': stats.randint(300, 800), #default 100\n",
    "                      'learning_rate': stats.uniform(0.1, 0.5)} #def 0.3 \n",
    "\n",
    "    # default CV is 5 fold, reduce to 2 for speed concern\n",
    "    gsearch = RandomizedSearchCV(estimator = XGBClassifier(tree_method=\"hist\",use_label_encoder=False,eval_metric='logloss'), \n",
    "                        param_distributions = param_dist_XGB, \n",
    "                        scoring='roc_auc',n_iter=10,cv=2)\n",
    "    gsearch.fit(X_train,y_train, sample_weight=weights_train)\n",
    "\n",
    "    print (\"Best parameters : \",gsearch.best_params_)\n",
    "    print (\"Best score (on train dataset CV) : \",gsearch.best_score_)\n",
    "\n",
    "\n",
    "    y_pred_gs = gsearch.predict_proba(X_test)[:,1]\n",
    "    print(\"... corresponding score on test dataset : \",roc_auc_score(y_true=y_test, y_score=y_pred_gs, sample_weight=weights_test))\n",
    "    dfsearch=pd.DataFrame.from_dict(gsearch.cv_results_)\n",
    "    display(dfsearch)"
   ]
  },
  {
   "cell_type": "code",
   "execution_count": 622,
   "id": "68e31494",
   "metadata": {},
   "outputs": [],
   "source": [
    "if do_HP_optimization: \n",
    "    dfsearch.plot.scatter(\"param_n_estimators\",\"mean_test_score\")\n",
    "    dfsearch.plot.scatter(\"param_max_depth\",\"mean_test_score\")\n",
    "    dfsearch.plot.scatter(\"param_learning_rate\",\"mean_test_score\")"
   ]
  },
  {
   "cell_type": "markdown",
   "id": "e028de59",
   "metadata": {},
   "source": [
    "## Learning Curve - How learning changes with training size"
   ]
  },
  {
   "cell_type": "code",
   "execution_count": 20,
   "id": "43810e07",
   "metadata": {},
   "outputs": [
    {
     "name": "stdout",
     "output_type": "stream",
     "text": [
      "training with  174  events\n",
      "training with  871  events\n",
      "training with  1742  events\n",
      "training with  3485  events\n",
      "training with  8714  events\n",
      "training with  13071  events\n",
      "training with  17428  events\n"
     ]
    },
    {
     "data": {
      "text/html": [
       "<div>\n",
       "<style scoped>\n",
       "    .dataframe tbody tr th:only-of-type {\n",
       "        vertical-align: middle;\n",
       "    }\n",
       "\n",
       "    .dataframe tbody tr th {\n",
       "        vertical-align: top;\n",
       "    }\n",
       "\n",
       "    .dataframe thead th {\n",
       "        text-align: right;\n",
       "    }\n",
       "</style>\n",
       "<table border=\"1\" class=\"dataframe\">\n",
       "  <thead>\n",
       "    <tr style=\"text-align: right;\">\n",
       "      <th></th>\n",
       "      <th>Ntraining</th>\n",
       "      <th>test_auc</th>\n",
       "      <th>train_auc</th>\n",
       "      <th>time</th>\n",
       "    </tr>\n",
       "  </thead>\n",
       "  <tbody>\n",
       "    <tr>\n",
       "      <th>0</th>\n",
       "      <td>174</td>\n",
       "      <td>0.923665</td>\n",
       "      <td>1.000000</td>\n",
       "      <td>0.073693</td>\n",
       "    </tr>\n",
       "    <tr>\n",
       "      <th>1</th>\n",
       "      <td>871</td>\n",
       "      <td>0.970719</td>\n",
       "      <td>1.000000</td>\n",
       "      <td>0.066338</td>\n",
       "    </tr>\n",
       "    <tr>\n",
       "      <th>2</th>\n",
       "      <td>1742</td>\n",
       "      <td>0.978340</td>\n",
       "      <td>1.000000</td>\n",
       "      <td>0.103882</td>\n",
       "    </tr>\n",
       "    <tr>\n",
       "      <th>3</th>\n",
       "      <td>3485</td>\n",
       "      <td>0.976195</td>\n",
       "      <td>1.000000</td>\n",
       "      <td>0.108042</td>\n",
       "    </tr>\n",
       "    <tr>\n",
       "      <th>4</th>\n",
       "      <td>8714</td>\n",
       "      <td>0.981545</td>\n",
       "      <td>1.000000</td>\n",
       "      <td>0.177404</td>\n",
       "    </tr>\n",
       "    <tr>\n",
       "      <th>5</th>\n",
       "      <td>13071</td>\n",
       "      <td>0.980499</td>\n",
       "      <td>1.000000</td>\n",
       "      <td>0.177882</td>\n",
       "    </tr>\n",
       "    <tr>\n",
       "      <th>6</th>\n",
       "      <td>17428</td>\n",
       "      <td>0.983082</td>\n",
       "      <td>0.999929</td>\n",
       "      <td>0.225865</td>\n",
       "    </tr>\n",
       "  </tbody>\n",
       "</table>\n",
       "</div>"
      ],
      "text/plain": [
       "   Ntraining  test_auc  train_auc      time\n",
       "0        174  0.923665   1.000000  0.073693\n",
       "1        871  0.970719   1.000000  0.066338\n",
       "2       1742  0.978340   1.000000  0.103882\n",
       "3       3485  0.976195   1.000000  0.108042\n",
       "4       8714  0.981545   1.000000  0.177404\n",
       "5      13071  0.980499   1.000000  0.177882\n",
       "6      17428  0.983082   0.999929  0.225865"
      ]
     },
     "metadata": {},
     "output_type": "display_data"
    }
   ],
   "source": [
    "\n",
    "from sklearn.metrics import roc_curve\n",
    "\n",
    "Do_Learning_Curve = True\n",
    "\n",
    "if Do_Learning_Curve : \n",
    "    train_sizes=[0.01,0.05,0.1,0.2,0.5,0.75,1]\n",
    "    ntrains=[]\n",
    "    test_aucs=[]\n",
    "    train_aucs=[]\n",
    "    times=[]\n",
    "    fpr=[]\n",
    "    tpr=[]\n",
    "\n",
    "    for train_size in train_sizes:\n",
    "        ntrain=int(len(X_train)*train_size)\n",
    "        print(\"training with \",ntrain,\" events\")\n",
    "        ntrains+=[ntrain]\n",
    "        starting_time = time.time()\n",
    "\n",
    "        # train using the first ntrain event of the training dataset\n",
    "        xgb.fit(X_train[:ntrain], y_train[:ntrain])\n",
    "        training_time = time.time( ) - starting_time\n",
    "        times+=[training_time]\n",
    "\n",
    "        # score on test dataset (always the same)\n",
    "        y_pred_xgb=xgb.predict_proba(X_test)[:,1]\n",
    "        auc_test_xgb = roc_auc_score(y_true=y_test, y_score=y_pred_xgb)\n",
    "        test_aucs+=[auc_test_xgb]\n",
    "\n",
    "        # score on the train dataset \n",
    "        y_train_xgb=xgb.predict_proba(X_train[:ntrain])[:,1]\n",
    "        auc_train_xgb = roc_auc_score(y_true=y_train[:ntrain], y_score=y_train_xgb)\n",
    "        train_aucs+=[auc_train_xgb]\n",
    "        dflearning=pd.DataFrame({\"Ntraining\":ntrains,\n",
    "                             \"test_auc\":test_aucs,\n",
    "                             \"train_auc\":train_aucs,\n",
    "                             \"time\":times})\n",
    "        \n",
    "        temp_fpr, temp_tpr,_ = roc_curve(y_true=y_train[:ntrain], y_score=y_train_xgb)\n",
    "        fpr+=[temp_fpr]\n",
    "        tpr+=[temp_tpr]\n",
    "        \n",
    "    display(dflearning)"
   ]
  },
  {
   "cell_type": "code",
   "execution_count": 21,
   "id": "4386be25",
   "metadata": {},
   "outputs": [
    {
     "data": {
      "image/png": "[encoded data removed]",
      "text/plain": [
       "<Figure size 1080x360 with 2 Axes>"
      ]
     },
     "metadata": {
      "needs_background": "light"
     },
     "output_type": "display_data"
    }
   ],
   "source": [
    "if Do_Learning_Curve:\n",
    "    \n",
    "    fig, axes = plt.subplots(1, 2, figsize=(15,5))\n",
    "    lw = 2\n",
    "    #axes[0].plot(fpr_xgb, tpr_xgb, color='blue',lw=lw, label='XGBoost (AUC  = {})'.format(np.round(auc_test_xgb,decimals=2)))\n",
    "    axes[0].plot(fpr[0], tpr[0], color='blue',lw=lw, label='NTrain = %i'%(ntrains[0]))\n",
    "    axes[0].plot(fpr[1], tpr[1], color='red',lw=lw, label='NTrain = %i'%(ntrains[1]))\n",
    "    axes[0].plot(fpr[2], tpr[2], color='green',lw=lw, label='NTrain = %i'%(ntrains[2]))\n",
    "    axes[0].plot(fpr[6], tpr[6], color='orange',lw=lw, label='NTrain = %i'%(ntrains[6]))\n",
    "    \n",
    "    axes[0].legend()\n",
    "    axes[0].set_xlabel('False Positive Rate')\n",
    "    axes[0].set_ylabel('True Positive Rate')\n",
    "    axes[0].set_title('Receiver Operating Characteristic')\n",
    "    \n",
    "    axes[1].set_title(\"Test AUC vs. NTraining\")\n",
    "    #dflearning.plot.scatter(\"Ntraining\",\"test_auc\",ax=axes[1])\n",
    "    # focus on the last point\n",
    "    #dflearning[4:].plot.scatter(\"Ntraining\",\"test_auc\")"
   ]
  },
  {
   "cell_type": "markdown",
   "id": "c4064766",
   "metadata": {},
   "source": [
    "## Feature Importance"
   ]
  },
  {
   "cell_type": "code",
   "execution_count": 22,
   "id": "f4240ecd",
   "metadata": {},
   "outputs": [
    {
     "data": {
      "text/plain": [
       "Text(0.5, 1.0, 'Feature importances XGBoost Hist')"
      ]
     },
     "execution_count": 22,
     "metadata": {},
     "output_type": "execute_result"
    },
    {
     "data": {
      "image/png": "[encoded data removed]",
      "text/plain": [
       "<Figure size 432x288 with 1 Axes>"
      ]
     },
     "metadata": {
      "needs_background": "light"
     },
     "output_type": "display_data"
    }
   ],
   "source": [
    "plt.bar(data.columns.values, xgb.feature_importances_)\n",
    "plt.xticks(rotation=90)\n",
    "plt.title(\"Feature importances XGBoost Hist\")"
   ]
  },
  {
   "cell_type": "markdown",
   "id": "ebd1a381",
   "metadata": {},
   "source": [
    "## Permutation Importance"
   ]
  },
  {
   "cell_type": "code",
   "execution_count": 23,
   "id": "7ac3a0bf",
   "metadata": {},
   "outputs": [
    {
     "data": {
      "image/png": "[encoded data removed]",
      "text/plain": [
       "<Figure size 432x288 with 1 Axes>"
      ]
     },
     "metadata": {
      "needs_background": "light"
     },
     "output_type": "display_data"
    }
   ],
   "source": [
    "Do_Permutation = True\n",
    "if Do_Permutation:\n",
    "    from sklearn.inspection import permutation_importance\n",
    "    r = permutation_importance(xgb, X_test, y_test,\n",
    "                           scoring='roc_auc',n_repeats=1,n_jobs=-1,\n",
    "                            random_state=0)\n",
    "    plt.bar(data.columns,r.importances.mean(axis=1).T,)\n",
    "\n",
    "    plt.xlabel('features')\n",
    "    plt.ylabel('impact on auc')\n",
    "    plt.title('Permutation Importance XGBoost')\n",
    "    plt.xticks(rotation=45)  # Rotate labels by 45 degrees\n",
    "    plt.show()"
   ]
  },
  {
   "cell_type": "markdown",
   "id": "0c426f13",
   "metadata": {},
   "source": [
    "## Overtraining the BDT"
   ]
  },
  {
   "cell_type": "code",
   "execution_count": 24,
   "id": "2709ce87",
   "metadata": {},
   "outputs": [
    {
     "name": "stderr",
     "output_type": "stream",
     "text": [
      "/Users/christopheralpert/miniconda3/lib/python3.8/site-packages/xgboost/sklearn.py:1395: UserWarning: `use_label_encoder` is deprecated in 1.7.0.\n",
      "  warnings.warn(\"`use_label_encoder` is deprecated in 1.7.0.\")\n"
     ]
    },
    {
     "name": "stdout",
     "output_type": "stream",
     "text": [
      "Training time: 2.9697859287261963\n",
      "auc test: 0.9784564063127774\n",
      "auc train: 1.0 \n",
      "\n"
     ]
    },
    {
     "data": {
      "image/png": "[encoded data removed]",
      "text/plain": [
       "<Figure size 432x288 with 1 Axes>"
      ]
     },
     "metadata": {
      "needs_background": "light"
     },
     "output_type": "display_data"
    }
   ],
   "source": [
    "n_trees = 2000\n",
    "\n",
    "#defining new XGBClassifier with more trees\n",
    "xgb = XGBClassifier(tree_method=\"hist\",n_estimators=n_trees, use_label_encoder=False,eval_metric='logloss')\n",
    "# tree_method=\"hist\" is 10 times faster, however less robust against awkwards features (not a bad idea to double check without it)\n",
    "# can even try tree_method=\"gpu_hist\" if proper GPU installation\n",
    "# use_label_encoder and eval_metric to silence warning in 1.3.0\n",
    "\n",
    "# HPO (==Hyper Parameter Optimization), check on the web https://xgboost.readthedocs.io/ for other parameters\n",
    "#xgb = XGBClassifier(tree_method=\"hist\",use_label_encoder=False,max_depth=10,n_estimators=100) \n",
    "\n",
    "\n",
    "starting_time = time.time()\n",
    "\n",
    "xgb.fit(X_train, y_train.values) # note that XGB 1.3.X requires positive weight\n",
    "        \n",
    "training_time = time.time( ) - starting_time\n",
    "print(\"Training time:\",training_time)\n",
    "\n",
    "## prediction on test data by trained BDT classifier\n",
    "y_pred_xgb = xgb.predict_proba(X_test)[:,1]\n",
    "y_pred_xgb = y_pred_xgb.ravel()\n",
    "#prediction on train data by BDT classifier\n",
    "y_pred_train_xgb = xgb.predict_proba(X_train)[:,1].ravel()\n",
    "auc_test_xgb = roc_auc_score(y_true=y_test, y_score=y_pred_xgb)\n",
    "print(\"auc test:\",auc_test_xgb)\n",
    "print (\"auc train:\",roc_auc_score(y_true=y_train.values, y_score=y_pred_train_xgb),\"\\n\")\n",
    "\n",
    "compare_train_test(y_pred_train_xgb, y_train, y_pred_xgb, y_test, \n",
    "                   xlabel=\"XGboost score\", title=\"Decision Score\")\n"
   ]
  },
  {
   "cell_type": "code",
   "execution_count": null,
   "id": "946e4d53",
   "metadata": {},
   "outputs": [],
   "source": []
  }
 ],
 "metadata": {
  "kernelspec": {
   "display_name": "Python 3",
   "language": "python",
   "name": "python3"
  },
  "language_info": {
   "codemirror_mode": {
    "name": "ipython",
    "version": 3
   },
   "file_extension": ".py",
   "mimetype": "text/x-python",
   "name": "python",
   "nbconvert_exporter": "python",
   "pygments_lexer": "ipython3",
   "version": "3.8.5"
  }
 },
 "nbformat": 4,
 "nbformat_minor": 5
}
