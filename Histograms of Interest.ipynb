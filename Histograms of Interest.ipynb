{
 "cells": [
  {
   "cell_type": "code",
   "execution_count": null,
   "id": "145dd5ac",
   "metadata": {},
   "outputs": [],
   "source": [
    "##Histograms of Interest for relevant branches (More branches to come later)"
   ]
  },
  {
   "cell_type": "code",
   "execution_count": 1,
   "id": "7116ea79",
   "metadata": {},
   "outputs": [],
   "source": [
    "import uproot\n",
    "import numpy as np\n",
    "import awkward as ak\n",
    "import matplotlib.pyplot as plt"
   ]
  },
  {
   "cell_type": "code",
   "execution_count": 2,
   "id": "2c5749b8",
   "metadata": {},
   "outputs": [],
   "source": [
    "##Import Signal File"
   ]
  },
  {
   "cell_type": "code",
   "execution_count": 7,
   "id": "adf3e699",
   "metadata": {},
   "outputs": [],
   "source": [
    "sig_file = uproot.open(\"user.calpert.mc16_13TeV.311423.MGPy8EG_A14NNPDF23_NNPDF31ME_HSS_LLP_mH600_mS150_lthigh.032123_trees.root/user.calpert.311423.e7357_e5984_s3234_r10201_r10210_p4696.32829947._000001.trees.root:trees_DV_\")"
   ]
  },
  {
   "cell_type": "code",
   "execution_count": null,
   "id": "41c917bb",
   "metadata": {},
   "outputs": [],
   "source": [
    "##Concatenate Background files"
   ]
  },
  {
   "cell_type": "code",
   "execution_count": 8,
   "id": "5e0adfbe",
   "metadata": {},
   "outputs": [],
   "source": [
    "Branches = [(\"pass_HLT_j30_muvtx_noiso\"), (\"hasGoodPV\"), (\"MSVtx_nMDT\"), (\"MSVtx_nRPC\"),(\"MSVtx_nTGC\"),(\"MSVtx_eta\"),(\"jet_pT\")]"
   ]
  },
  {
   "cell_type": "code",
   "execution_count": null,
   "id": "040a6fd5",
   "metadata": {},
   "outputs": [],
   "source": [
    "#The below concatenation takes each specified branch, converts to an array, and then concatenates the array\n",
    "#Left with an awkward array object, so no need to convert to array as in case with signal."
   ]
  },
  {
   "cell_type": "code",
   "execution_count": 9,
   "id": "53ed3962",
   "metadata": {},
   "outputs": [],
   "source": [
    "bkg_file = uproot.concatenate(\"user.calpert.mc16_13TeV.361022.Pythia8EvtGen_A14NNPDF23LO_jetjet_JZ2W.032123_trees.root.479322611/user.calpert*.root:trees_DV_\", Branches)"
   ]
  },
  {
   "cell_type": "code",
   "execution_count": null,
   "id": "c3751da6",
   "metadata": {},
   "outputs": [],
   "source": [
    "##Check trigger "
   ]
  },
  {
   "cell_type": "code",
   "execution_count": 37,
   "id": "6be5ace3",
   "metadata": {
    "scrolled": true
   },
   "outputs": [
    {
     "data": {
      "text/plain": [
       "Text(0.5, 1.0, 'Signal Trigger')"
      ]
     },
     "execution_count": 37,
     "metadata": {},
     "output_type": "execute_result"
    },
    {
     "data": {
      "image/png": "[encoded data removed]",
      "text/plain": [
       "<Figure size 432x288 with 1 Axes>"
      ]
     },
     "metadata": {
      "needs_background": "light"
     },
     "output_type": "display_data"
    }
   ],
   "source": [
    "pass_trig=sig_file[\"pass_HLT_j30_muvtx_noiso\"].array()\n",
    "pass_trig_hist=plt.hist(pass_trig, bins=10)\n",
    "plt.title(\"Signal Trigger\")\n"
   ]
  },
  {
   "cell_type": "code",
   "execution_count": null,
   "id": "21704a26",
   "metadata": {},
   "outputs": [],
   "source": [
    "##Check trigger background"
   ]
  },
  {
   "cell_type": "code",
   "execution_count": 11,
   "id": "77a4237a",
   "metadata": {
    "scrolled": true
   },
   "outputs": [
    {
     "data": {
      "text/plain": [
       "Text(0.5, 1.0, 'Background Trigger')"
      ]
     },
     "execution_count": 11,
     "metadata": {},
     "output_type": "execute_result"
    },
    {
     "data": {
      "image/png": "[encoded data removed]",
      "text/plain": [
       "<Figure size 432x288 with 1 Axes>"
      ]
     },
     "metadata": {
      "needs_background": "light"
     },
     "output_type": "display_data"
    }
   ],
   "source": [
    "pass_trig=bkg_file[\"pass_HLT_j30_muvtx_noiso\"]\n",
    "pass_trig_hist=plt.hist(pass_trig, bins=10)\n",
    "plt.title(\"Background Trigger\")"
   ]
  },
  {
   "cell_type": "code",
   "execution_count": null,
   "id": "4b5a0212",
   "metadata": {},
   "outputs": [],
   "source": [
    "##Check for good primary vertex"
   ]
  },
  {
   "cell_type": "code",
   "execution_count": 15,
   "id": "0da32063",
   "metadata": {
    "scrolled": false
   },
   "outputs": [
    {
     "data": {
      "text/plain": [
       "Text(0.5, 1.0, 'Signal Good PV')"
      ]
     },
     "execution_count": 15,
     "metadata": {},
     "output_type": "execute_result"
    },
    {
     "data": {
      "image/png": "[encoded data removed]",
      "text/plain": [
       "<Figure size 432x288 with 1 Axes>"
      ]
     },
     "metadata": {
      "needs_background": "light"
     },
     "output_type": "display_data"
    }
   ],
   "source": [
    "goodPV=sig_file[\"hasGoodPV\"].array()\n",
    "goodPV_hist=plt.hist(goodPV, bins=10)\n",
    "plt.title(\"Signal Good PV\")"
   ]
  },
  {
   "cell_type": "code",
   "execution_count": 16,
   "id": "58dbf626",
   "metadata": {},
   "outputs": [
    {
     "data": {
      "text/plain": [
       "Text(0.5, 1.0, 'Background Good PV')"
      ]
     },
     "execution_count": 16,
     "metadata": {},
     "output_type": "execute_result"
    },
    {
     "data": {
      "image/png": "[encoded data removed]",
      "text/plain": [
       "<Figure size 432x288 with 1 Axes>"
      ]
     },
     "metadata": {
      "needs_background": "light"
     },
     "output_type": "display_data"
    }
   ],
   "source": [
    "goodPV=bkg_file[\"hasGoodPV\"]\n",
    "goodPV_hist=plt.hist(goodPV, bins=10)\n",
    "plt.title(\"Background Good PV\")"
   ]
  },
  {
   "cell_type": "code",
   "execution_count": 13,
   "id": "db544951",
   "metadata": {},
   "outputs": [],
   "source": [
    "##Looks like all candidates have good PV"
   ]
  },
  {
   "cell_type": "code",
   "execution_count": 18,
   "id": "590266ca",
   "metadata": {},
   "outputs": [],
   "source": [
    "##Plot histograms for MDT, RPC, TGC hits"
   ]
  },
  {
   "cell_type": "code",
   "execution_count": 17,
   "id": "29d01668",
   "metadata": {
    "scrolled": true
   },
   "outputs": [
    {
     "data": {
      "text/plain": [
       "Text(0.5, 1.0, 'Signal MDT Hits')"
      ]
     },
     "execution_count": 17,
     "metadata": {},
     "output_type": "execute_result"
    },
    {
     "data": {
      "image/png": "[encoded data removed]",
      "text/plain": [
       "<Figure size 432x288 with 1 Axes>"
      ]
     },
     "metadata": {
      "needs_background": "light"
     },
     "output_type": "display_data"
    }
   ],
   "source": [
    "MDT_hits=ak.flatten(sig_file[\"MSVtx_nMDT\"].array())\n",
    "FilterMDT_hits=MDT_hits[MDT_hits>0]\n",
    "MDT_hits_hist=plt.hist(FilterMDT_hits, bins=10)\n",
    "plt.title(\"Signal MDT Hits\")"
   ]
  },
  {
   "cell_type": "code",
   "execution_count": 18,
   "id": "a4a8f24d",
   "metadata": {},
   "outputs": [
    {
     "data": {
      "text/plain": [
       "Text(0.5, 1.0, 'Background MDT Hits')"
      ]
     },
     "execution_count": 18,
     "metadata": {},
     "output_type": "execute_result"
    },
    {
     "data": {
      "image/png": "[encoded data removed]",
      "text/plain": [
       "<Figure size 432x288 with 1 Axes>"
      ]
     },
     "metadata": {
      "needs_background": "light"
     },
     "output_type": "display_data"
    }
   ],
   "source": [
    "MDT_hits=ak.flatten(bkg_file[\"MSVtx_nMDT\"])\n",
    "FilterMDT_hits=MDT_hits[MDT_hits>0]\n",
    "MDT_hits_hist=plt.hist(FilterMDT_hits, bins=10)\n",
    "plt.title(\"Background MDT Hits\")"
   ]
  },
  {
   "cell_type": "code",
   "execution_count": 19,
   "id": "d4375b69",
   "metadata": {
    "scrolled": true
   },
   "outputs": [
    {
     "data": {
      "text/plain": [
       "Text(0.5, 1.0, 'Signal RPC Hits')"
      ]
     },
     "execution_count": 19,
     "metadata": {},
     "output_type": "execute_result"
    },
    {
     "data": {
      "image/png": "[encoded data removed]",
      "text/plain": [
       "<Figure size 432x288 with 1 Axes>"
      ]
     },
     "metadata": {
      "needs_background": "light"
     },
     "output_type": "display_data"
    }
   ],
   "source": [
    "RPC_hits=ak.flatten(sig_file[\"MSVtx_nRPC\"].array())\n",
    "FilterRPC_hits=RPC_hits[RPC_hits>0]\n",
    "RPC_hits_hist=plt.hist(FilterRPC_hits, bins=10)\n",
    "plt.title(\"Signal RPC Hits\")"
   ]
  },
  {
   "cell_type": "code",
   "execution_count": 20,
   "id": "9be16bc9",
   "metadata": {},
   "outputs": [
    {
     "data": {
      "text/plain": [
       "Text(0.5, 1.0, 'Background RPC Hits')"
      ]
     },
     "execution_count": 20,
     "metadata": {},
     "output_type": "execute_result"
    },
    {
     "data": {
      "image/png": "[encoded data removed]",
      "text/plain": [
       "<Figure size 432x288 with 1 Axes>"
      ]
     },
     "metadata": {
      "needs_background": "light"
     },
     "output_type": "display_data"
    }
   ],
   "source": [
    "RPC_hits=ak.flatten(bkg_file[\"MSVtx_nRPC\"])\n",
    "FilterRPC_hits=RPC_hits[RPC_hits>0]\n",
    "RPC_hits_hist=plt.hist(FilterRPC_hits, bins=10)\n",
    "plt.title(\"Background RPC Hits\")"
   ]
  },
  {
   "cell_type": "code",
   "execution_count": 21,
   "id": "ee919f7c",
   "metadata": {},
   "outputs": [
    {
     "data": {
      "text/plain": [
       "Text(0.5, 1.0, 'Signal TGC Hits')"
      ]
     },
     "execution_count": 21,
     "metadata": {},
     "output_type": "execute_result"
    },
    {
     "data": {
      "image/png": "[encoded data removed]",
      "text/plain": [
       "<Figure size 432x288 with 1 Axes>"
      ]
     },
     "metadata": {
      "needs_background": "light"
     },
     "output_type": "display_data"
    }
   ],
   "source": [
    "TGC_hits=ak.flatten(sig_file[\"MSVtx_nTGC\"].array())\n",
    "FilterTGC_hits=TGC_hits[TGC_hits>0]\n",
    "TGC_hits_hist=plt.hist(FilterTGC_hits, bins=10)\n",
    "plt.title(\"Signal TGC Hits\")"
   ]
  },
  {
   "cell_type": "code",
   "execution_count": 22,
   "id": "3f8cdfcd",
   "metadata": {},
   "outputs": [
    {
     "data": {
      "text/plain": [
       "Text(0.5, 1.0, 'Background TGC Hits')"
      ]
     },
     "execution_count": 22,
     "metadata": {},
     "output_type": "execute_result"
    },
    {
     "data": {
      "image/png": "[encoded data removed]",
      "text/plain": [
       "<Figure size 432x288 with 1 Axes>"
      ]
     },
     "metadata": {
      "needs_background": "light"
     },
     "output_type": "display_data"
    }
   ],
   "source": [
    "TGC_hits=ak.flatten(bkg_file[\"MSVtx_nTGC\"])\n",
    "FilterTGC_hits=TGC_hits[TGC_hits>0]\n",
    "TGC_hits_hist=plt.hist(FilterTGC_hits, bins=10)\n",
    "plt.title(\"Background TGC Hits\")"
   ]
  },
  {
   "cell_type": "code",
   "execution_count": 24,
   "id": "3bd168d2",
   "metadata": {},
   "outputs": [],
   "source": [
    "#Filter out eta for barrel/endcap overlap"
   ]
  },
  {
   "cell_type": "code",
   "execution_count": 24,
   "id": "2fa86308",
   "metadata": {},
   "outputs": [],
   "source": [
    "eta=ak.flatten(sig_file[\"MSVtx_eta\"].array()) #Have a look at the eta branch"
   ]
  },
  {
   "cell_type": "code",
   "execution_count": 38,
   "id": "a7336b85",
   "metadata": {},
   "outputs": [
    {
     "data": {
      "text/plain": [
       "Text(0.5, 1.0, 'Signal (Raw eta values)')"
      ]
     },
     "execution_count": 38,
     "metadata": {},
     "output_type": "execute_result"
    },
    {
     "data": {
      "image/png": "[encoded data removed]",
      "text/plain": [
       "<Figure size 432x288 with 1 Axes>"
      ]
     },
     "metadata": {
      "needs_background": "light"
     },
     "output_type": "display_data"
    }
   ],
   "source": [
    "#Inspect array....filter out extreme values, get a sense of real values of eta\n",
    "eta_hist=plt.hist(eta, bins=50)\n",
    "plt.title(\"Signal (Raw eta values)\")"
   ]
  },
  {
   "cell_type": "code",
   "execution_count": 27,
   "id": "ab9b8042",
   "metadata": {},
   "outputs": [],
   "source": [
    "eta_filter=eta[eta>-3]"
   ]
  },
  {
   "cell_type": "code",
   "execution_count": 28,
   "id": "d69c1f23",
   "metadata": {},
   "outputs": [
    {
     "data": {
      "text/plain": [
       "Text(0.5, 1.0, 'Signal Good Eta Values')"
      ]
     },
     "execution_count": 28,
     "metadata": {},
     "output_type": "execute_result"
    },
    {
     "data": {
      "image/png": "[encoded data removed]",
      "text/plain": [
       "<Figure size 432x288 with 1 Axes>"
      ]
     },
     "metadata": {
      "needs_background": "light"
     },
     "output_type": "display_data"
    }
   ],
   "source": [
    "eta_filter_hist = plt.hist(eta_filter, bins = 50) #Take a look at our real values of eta\n",
    "plt.title(\"Signal Good Eta Values\")"
   ]
  },
  {
   "cell_type": "code",
   "execution_count": 27,
   "id": "9994976e",
   "metadata": {},
   "outputs": [],
   "source": [
    "#Now filter out veto region "
   ]
  },
  {
   "cell_type": "code",
   "execution_count": 30,
   "id": "840a90a4",
   "metadata": {
    "scrolled": true
   },
   "outputs": [
    {
     "data": {
      "text/plain": [
       "Text(0.5, 1.0, 'Signal Eta Filtered Region')"
      ]
     },
     "execution_count": 30,
     "metadata": {},
     "output_type": "execute_result"
    },
    {
     "data": {
      "image/png": "[encoded data removed]",
      "text/plain": [
       "<Figure size 432x288 with 1 Axes>"
      ]
     },
     "metadata": {
      "needs_background": "light"
     },
     "output_type": "display_data"
    }
   ],
   "source": [
    "eta_veto = eta_filter[(eta_filter>0.7) * (eta_filter<1.3)]\n",
    "plt.hist(eta_veto, bins=50)\n",
    "plt.title(\"Signal Eta Filtered Region\")"
   ]
  },
  {
   "cell_type": "code",
   "execution_count": 31,
   "id": "db3df7e7",
   "metadata": {},
   "outputs": [],
   "source": [
    "eta=ak.flatten(bkg_file[\"MSVtx_eta\"])"
   ]
  },
  {
   "cell_type": "code",
   "execution_count": 32,
   "id": "fc1a21cc",
   "metadata": {},
   "outputs": [
    {
     "data": {
      "text/plain": [
       "Text(0.5, 1.0, 'Background Eta Filtered Region')"
      ]
     },
     "execution_count": 32,
     "metadata": {},
     "output_type": "execute_result"
    },
    {
     "data": {
      "image/png": "[encoded data removed]",
      "text/plain": [
       "<Figure size 432x288 with 1 Axes>"
      ]
     },
     "metadata": {
      "needs_background": "light"
     },
     "output_type": "display_data"
    }
   ],
   "source": [
    "eta_filter=eta[eta>-3]\n",
    "eta_veto = eta_filter[(eta_filter > 0.7) & (eta_filter < 1.3)]\n",
    "eta_veto_hist = plt.hist(eta_veto, bins = 50)\n",
    "plt.title(\"Background Eta Filtered Region\")"
   ]
  },
  {
   "cell_type": "code",
   "execution_count": 28,
   "id": "941e4f59",
   "metadata": {},
   "outputs": [],
   "source": [
    "##Check out Jet pT"
   ]
  },
  {
   "cell_type": "code",
   "execution_count": 33,
   "id": "50a63563",
   "metadata": {},
   "outputs": [
    {
     "data": {
      "text/plain": [
       "Text(0.5, 1.0, 'Signal Jet pT')"
      ]
     },
     "execution_count": 33,
     "metadata": {},
     "output_type": "execute_result"
    },
    {
     "data": {
      "image/png": "[encoded data removed]",
      "text/plain": [
       "<Figure size 432x288 with 1 Axes>"
      ]
     },
     "metadata": {
      "needs_background": "light"
     },
     "output_type": "display_data"
    }
   ],
   "source": [
    "jet_pt=ak.flatten(sig_file[\"jet_pT\"].array())\n",
    "plt.hist(jet_pt, bins=50, log=True)\n",
    "plt.title(\"Signal Jet pT\")"
   ]
  },
  {
   "cell_type": "code",
   "execution_count": 34,
   "id": "120539bb",
   "metadata": {
    "scrolled": true
   },
   "outputs": [
    {
     "data": {
      "text/plain": [
       "Text(0.5, 1.0, 'Background Jet_pT')"
      ]
     },
     "execution_count": 34,
     "metadata": {},
     "output_type": "execute_result"
    },
    {
     "data": {
      "image/png": "[encoded data removed]",
      "text/plain": [
       "<Figure size 432x288 with 1 Axes>"
      ]
     },
     "metadata": {
      "needs_background": "light"
     },
     "output_type": "display_data"
    }
   ],
   "source": [
    "##Check out Jet pT\n",
    "jet_pt=ak.flatten(bkg_file[\"jet_pT\"])\n",
    "plt.hist(jet_pt, bins=50, log=True)\n",
    "plt.title(\"Background Jet_pT\")"
   ]
  }
 ],
 "metadata": {
  "kernelspec": {
   "display_name": "Python 3",
   "language": "python",
   "name": "python3"
  },
  "language_info": {
   "codemirror_mode": {
    "name": "ipython",
    "version": 3
   },
   "file_extension": ".py",
   "mimetype": "text/x-python",
   "name": "python",
   "nbconvert_exporter": "python",
   "pygments_lexer": "ipython3",
   "version": "3.8.5"
  }
 },
 "nbformat": 4,
 "nbformat_minor": 5
}
