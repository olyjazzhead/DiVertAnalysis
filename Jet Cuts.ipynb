{
 "cells": [
  {
   "cell_type": "code",
   "execution_count": 1,
   "id": "6a63684a",
   "metadata": {},
   "outputs": [],
   "source": [
    "#Import libraries\n",
    "import uproot\n",
    "import numpy as np\n",
    "import awkward as ak\n",
    "import matplotlib.pyplot as plt\n",
    "import time"
   ]
  },
  {
   "cell_type": "code",
   "execution_count": 2,
   "id": "467ef1fe",
   "metadata": {},
   "outputs": [],
   "source": [
    "#Load signal file\n",
    "sig_file = uproot.open(\"user.calpert.mc16_13TeV.311423.MGPy8EG_A14NNPDF23_NNPDF31ME_HSS_LLP_mH600_mS150_lthigh.032123_trees.root/user.calpert.311423.e7357_e5984_s3234_r10201_r10210_p4696.32829947._000001.trees.root:trees_DV_\")"
   ]
  },
  {
   "cell_type": "code",
   "execution_count": 6,
   "id": "ebc2b1df",
   "metadata": {},
   "outputs": [],
   "source": [
    "#Display all elements\n",
    "def dp(branch):\n",
    "    for i, value in enumerate(branch):\n",
    "        print(branch[i])"
   ]
  },
  {
   "cell_type": "code",
   "execution_count": 7,
   "id": "76b893e8",
   "metadata": {},
   "outputs": [],
   "source": [
    "#Display first 10 elements\n",
    "def dp10(branch):\n",
    "    for i, value in enumerate(branch[1:10]):\n",
    "        print(branch[i])"
   ]
  },
  {
   "cell_type": "code",
   "execution_count": 8,
   "id": "1c30eb52",
   "metadata": {},
   "outputs": [],
   "source": [
    "#Display first 100 elements\n",
    "def dp100(branch):\n",
    "    for i, value in enumerate(branch[1:100]):\n",
    "        print(branch[i])"
   ]
  },
  {
   "cell_type": "code",
   "execution_count": 113,
   "id": "e1c03bdd",
   "metadata": {},
   "outputs": [],
   "source": [
    "#Calculate ratio of events that pass cut \n",
    "def pctpass(branch1, branch2):\n",
    "    ratio = (ak.count_nonzero(branch1))/ak.count(branch2)\n",
    "    print(ratio)"
   ]
  },
  {
   "cell_type": "code",
   "execution_count": 4,
   "id": "f06c0801",
   "metadata": {},
   "outputs": [],
   "source": [
    "jet_pT=sig_file['jet_pT'].array()\n",
    "jet_logRatio=sig_file['jet_logRatio'].array() #correct? Check jet_E, jet_EMScale, jet_ET, jet_EMF\n",
    "jet_JVT=sig_file['jet_jvt'].array() #correct? Check jet_passJVT, "
   ]
  },
  {
   "cell_type": "code",
   "execution_count": 41,
   "id": "06a22244",
   "metadata": {
    "scrolled": true
   },
   "outputs": [
    {
     "data": {
      "text/plain": [
       "(array([6.73065e+05, 2.47760e+04, 1.79700e+03, 4.47000e+02, 1.27000e+02,\n",
       "        4.50000e+01, 2.00000e+01, 1.00000e+01, 0.00000e+00, 3.00000e+00]),\n",
       " array([1.86815357e-03, 2.01403156e+02, 4.02804445e+02, 6.04205733e+02,\n",
       "        8.05607021e+02, 1.00700831e+03, 1.20840960e+03, 1.40981089e+03,\n",
       "        1.61121217e+03, 1.81261346e+03, 2.01401475e+03]),\n",
       " <BarContainer object of 10 artists>)"
      ]
     },
     "execution_count": 41,
     "metadata": {},
     "output_type": "execute_result"
    },
    {
     "data": {
      "image/png": "[encoded data removed]",
      "text/plain": [
       "<Figure size 432x288 with 1 Axes>"
      ]
     },
     "metadata": {
      "needs_background": "light"
     },
     "output_type": "display_data"
    }
   ],
   "source": [
    "plt.hist(ak.flatten(jet_pT), log=True)"
   ]
  },
  {
   "cell_type": "code",
   "execution_count": 42,
   "id": "c774240e",
   "metadata": {},
   "outputs": [
    {
     "data": {
      "text/plain": [
       "(array([ 59736.,      0.,      0.,      0., 552073.,  87754.,      0.,\n",
       "             0.,      0.,    727.]),\n",
       " array([-999. , -799.2, -599.4, -399.6, -199.8,    0. ,  199.8,  399.6,\n",
       "         599.4,  799.2,  999. ]),\n",
       " <BarContainer object of 10 artists>)"
      ]
     },
     "execution_count": 42,
     "metadata": {},
     "output_type": "execute_result"
    },
    {
     "data": {
      "image/png": "[encoded data removed]",
      "text/plain": [
       "<Figure size 432x288 with 1 Axes>"
      ]
     },
     "metadata": {
      "needs_background": "light"
     },
     "output_type": "display_data"
    }
   ],
   "source": [
    "plt.hist(ak.flatten(jet_logRatio), log=True)"
   ]
  },
  {
   "cell_type": "code",
   "execution_count": 51,
   "id": "b4f3312a",
   "metadata": {},
   "outputs": [
    {
     "data": {
      "text/plain": [
       "True"
      ]
     },
     "execution_count": 51,
     "metadata": {},
     "output_type": "execute_result"
    }
   ],
   "source": [
    "ak.any(jet_JVT == 1)"
   ]
  },
  {
   "cell_type": "code",
   "execution_count": 43,
   "id": "8eb7ff8d",
   "metadata": {},
   "outputs": [
    {
     "data": {
      "text/plain": [
       "(array([362021., 109633.,  41145.,  22494.,  13707.,  11418.,   9168.,\n",
       "         10594.,  13901., 106209.]),\n",
       " array([-0.1 ,  0.01,  0.12,  0.23,  0.34,  0.45,  0.56,  0.67,  0.78,\n",
       "         0.89,  1.  ]),\n",
       " <BarContainer object of 10 artists>)"
      ]
     },
     "execution_count": 43,
     "metadata": {},
     "output_type": "execute_result"
    },
    {
     "data": {
      "image/png": "[encoded data removed]",
      "text/plain": [
       "<Figure size 432x288 with 1 Axes>"
      ]
     },
     "metadata": {
      "needs_background": "light"
     },
     "output_type": "display_data"
    }
   ],
   "source": [
    "plt.hist(ak.flatten(jet_JVT), log=True)"
   ]
  },
  {
   "cell_type": "code",
   "execution_count": 33,
   "id": "f0ef2a76",
   "metadata": {},
   "outputs": [
    {
     "data": {
      "text/plain": [
       "700290"
      ]
     },
     "execution_count": 33,
     "metadata": {},
     "output_type": "execute_result"
    }
   ],
   "source": [
    "#Count total number of jets in sample\n",
    "total_jets = ak.count(jet_pT)\n",
    "total_jets"
   ]
  },
  {
   "cell_type": "code",
   "execution_count": 12,
   "id": "f0af5cec",
   "metadata": {},
   "outputs": [],
   "source": [
    "jet_cut1= (jet_pT > 30) "
   ]
  },
  {
   "cell_type": "code",
   "execution_count": 15,
   "id": "9abd4282",
   "metadata": {},
   "outputs": [
    {
     "name": "stdout",
     "output_type": "stream",
     "text": [
      "0.2235331077125191\n"
     ]
    }
   ],
   "source": [
    "#Check pct of jets that pass jet_pT\n",
    "pctpass(jet_cut1, jet_pT)"
   ]
  },
  {
   "cell_type": "code",
   "execution_count": 20,
   "id": "fb140f8d",
   "metadata": {},
   "outputs": [],
   "source": [
    "jet_cut2= (jet_logRatio < 0.5)"
   ]
  },
  {
   "cell_type": "code",
   "execution_count": 22,
   "id": "e700d069",
   "metadata": {},
   "outputs": [
    {
     "name": "stdout",
     "output_type": "stream",
     "text": [
      "0.9586828313984207\n"
     ]
    }
   ],
   "source": [
    "#Check pct of jets that pass jet_pT\n",
    "pctpass(jet_cut2, jet_logRatio)"
   ]
  },
  {
   "cell_type": "code",
   "execution_count": 106,
   "id": "46da5c41",
   "metadata": {},
   "outputs": [],
   "source": [
    "jet_cut3= ((jet_JVT > 0.59) & (jet_pT < 60)) | ((jet_JVT == jet_JVT) & (jet_pT >= 60))   "
   ]
  },
  {
   "cell_type": "code",
   "execution_count": 107,
   "id": "31ccbccb",
   "metadata": {},
   "outputs": [
    {
     "data": {
      "text/plain": [
       "0.2802224792585929"
      ]
     },
     "execution_count": 107,
     "metadata": {},
     "output_type": "execute_result"
    }
   ],
   "source": [
    "#Check pct of jets that pass jet_pT\n",
    "pctpass(jet_cut3, jet_JVT)"
   ]
  },
  {
   "cell_type": "code",
   "execution_count": 74,
   "id": "3b8d5f1b",
   "metadata": {},
   "outputs": [],
   "source": [
    "jet_finalCut = jet_cut1 & jet_cut2 & jet_cut3"
   ]
  },
  {
   "cell_type": "code",
   "execution_count": 75,
   "id": "8ddcb5b8",
   "metadata": {},
   "outputs": [
    {
     "data": {
      "text/plain": [
       "0.13895957389081667"
      ]
     },
     "execution_count": 75,
     "metadata": {},
     "output_type": "execute_result"
    }
   ],
   "source": [
    "#Check pct of jets that pass jet_finalCut\n",
    "passfraction = pctpass(jet_finalCut, jet_pT)\n",
    "passfraction"
   ]
  },
  {
   "cell_type": "code",
   "execution_count": 76,
   "id": "635f7e75",
   "metadata": {},
   "outputs": [
    {
     "data": {
      "text/plain": [
       "97312.00000000001"
      ]
     },
     "execution_count": 76,
     "metadata": {},
     "output_type": "execute_result"
    }
   ],
   "source": [
    "#Leaves us with total number of jets that pass. ~ 24839 jets\n",
    "passfraction * total_jets"
   ]
  },
  {
   "cell_type": "code",
   "execution_count": 102,
   "id": "6e93b58f",
   "metadata": {},
   "outputs": [],
   "source": [
    "#How many jets pass per event\n",
    "jet_pass = ak.count_nonzero(jet_finalCut, axis=1)"
   ]
  },
  {
   "cell_type": "code",
   "execution_count": 104,
   "id": "377ec371",
   "metadata": {},
   "outputs": [
    {
     "data": {
      "text/plain": [
       "(array([ 8324., 12966., 12855.,  8702.,  4417.,  1883.,   606.,   187.,\n",
       "           42.,    18.]),\n",
       " array([ 0.,  1.,  2.,  3.,  4.,  5.,  6.,  7.,  8.,  9., 10.]),\n",
       " <BarContainer object of 10 artists>)"
      ]
     },
     "execution_count": 104,
     "metadata": {},
     "output_type": "execute_result"
    },
    {
     "data": {
      "image/png": "[encoded data removed]",
      "text/plain": [
       "<Figure size 432x288 with 1 Axes>"
      ]
     },
     "metadata": {
      "needs_background": "light"
     },
     "output_type": "display_data"
    }
   ],
   "source": [
    "#Plot histogram to show how may jets pass per event\n",
    "plt.hist(jet_pass, bins = ak.max(jet_pass))"
   ]
  },
  {
   "cell_type": "code",
   "execution_count": 115,
   "id": "f7481bbc",
   "metadata": {},
   "outputs": [
    {
     "data": {
      "text/plain": [
       "28710"
      ]
     },
     "execution_count": 115,
     "metadata": {},
     "output_type": "execute_result"
    }
   ],
   "source": [
    "#How many events have at least 2 jets that pass\n",
    "jet_pass_greater_than_two = jet_pass[jet_pass >= 2]\n",
    "ak.count(jet_pass_greater_than_two)"
   ]
  },
  {
   "cell_type": "code",
   "execution_count": null,
   "id": "95f6120d",
   "metadata": {},
   "outputs": [],
   "source": []
  }
 ],
 "metadata": {
  "kernelspec": {
   "display_name": "Python 3",
   "language": "python",
   "name": "python3"
  },
  "language_info": {
   "codemirror_mode": {
    "name": "ipython",
    "version": 3
   },
   "file_extension": ".py",
   "mimetype": "text/x-python",
   "name": "python",
   "nbconvert_exporter": "python",
   "pygments_lexer": "ipython3",
   "version": "3.8.5"
  }
 },
 "nbformat": 4,
 "nbformat_minor": 5
}
