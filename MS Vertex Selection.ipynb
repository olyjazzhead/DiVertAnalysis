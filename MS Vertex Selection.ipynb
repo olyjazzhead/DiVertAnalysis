{
 "cells": [
  {
   "cell_type": "code",
   "execution_count": 3,
   "id": "bc7441ad",
   "metadata": {},
   "outputs": [],
   "source": [
    "#Import libraries\n",
    "import uproot\n",
    "import numpy as np\n",
    "import awkward as ak\n",
    "import matplotlib.pyplot as plt\n",
    "import time\n",
    "\n",
    "#Load signal file\n",
    "sig_file = uproot.open(\"user.calpert.mc16_13TeV.311423.MGPy8EG_A14NNPDF23_NNPDF31ME_HSS_LLP_mH600_mS150_lthigh.032123_trees.root/user.calpert.311423.e7357_e5984_s3234_r10201_r10210_p4696.32829947._000001.trees.root:trees_DV_\")"
   ]
  },
  {
   "cell_type": "code",
   "execution_count": 4,
   "id": "496ea834",
   "metadata": {},
   "outputs": [],
   "source": [
    "def dp(branch):\n",
    "    for i, value in enumerate(branch):\n",
    "        print(branch[i])"
   ]
  },
  {
   "cell_type": "code",
   "execution_count": 5,
   "id": "753bb51c",
   "metadata": {},
   "outputs": [],
   "source": [
    "def dp10(branch):\n",
    "    for i, value in enumerate(branch[1:10]):\n",
    "        print(branch[i])"
   ]
  },
  {
   "cell_type": "code",
   "execution_count": 6,
   "id": "1da12ea7",
   "metadata": {},
   "outputs": [],
   "source": [
    "def dp100(branch):\n",
    "    for i, value in enumerate(branch[1:100]):\n",
    "        print(branch[i])"
   ]
  },
  {
   "cell_type": "code",
   "execution_count": 7,
   "id": "897d9f96",
   "metadata": {},
   "outputs": [],
   "source": [
    "def pct(branch):\n",
    "    ratio = ak.count_nonzero(branch)/ak.count(branch)\n",
    "    print(ratio)"
   ]
  },
  {
   "cell_type": "code",
   "execution_count": 36,
   "id": "c83b8df3",
   "metadata": {},
   "outputs": [],
   "source": [
    "#Import relevant branches\n",
    "mdt = sig_file[\"MSVtx_nMDT\"].array()#(entry_stop = 10)\n",
    "rpc = sig_file[\"MSVtx_nRPC\"].array()#(entry_stop = 10)\n",
    "tgc = sig_file[\"MSVtx_nTGC\"].array()#(entry_stop = 10)\n",
    "eta = sig_file[\"MSVtx_eta\"].array()#(entry_stop = 10)\n",
    "ntrks = sig_file['MSVtx_nTrks'].array()"
   ]
  },
  {
   "cell_type": "markdown",
   "id": "daa3d73b",
   "metadata": {},
   "source": [
    "### MDT/TGC/RPC Hits"
   ]
  },
  {
   "cell_type": "code",
   "execution_count": 9,
   "id": "b5f22c24",
   "metadata": {},
   "outputs": [],
   "source": [
    "#Flatten arrays\n",
    "MDT_flat =ak.flatten(sig_file[\"MSVtx_nMDT\"].array())\n",
    "RPC_flat = ak.flatten(sig_file[\"MSVtx_nRPC\"].array())\n",
    "TGC_flat = ak.flatten(sig_file[\"MSVtx_nTGC\"].array())"
   ]
  },
  {
   "cell_type": "code",
   "execution_count": 10,
   "id": "885e6d2e",
   "metadata": {},
   "outputs": [
    {
     "data": {
      "text/plain": [
       "<Figure size 432x288 with 0 Axes>"
      ]
     },
     "execution_count": 10,
     "metadata": {},
     "output_type": "execute_result"
    },
    {
     "data": {
      "image/png": "[encoded data removed]",
      "text/plain": [
       "<Figure size 432x288 with 1 Axes>"
      ]
     },
     "metadata": {
      "needs_background": "light"
     },
     "output_type": "display_data"
    },
    {
     "data": {
      "image/png": "[encoded data removed]",
      "text/plain": [
       "<Figure size 432x288 with 1 Axes>"
      ]
     },
     "metadata": {
      "needs_background": "light"
     },
     "output_type": "display_data"
    },
    {
     "data": {
      "image/png": "[encoded data removed]",
      "text/plain": [
       "<Figure size 432x288 with 1 Axes>"
      ]
     },
     "metadata": {
      "needs_background": "light"
     },
     "output_type": "display_data"
    },
    {
     "data": {
      "text/plain": [
       "<Figure size 432x288 with 0 Axes>"
      ]
     },
     "metadata": {},
     "output_type": "display_data"
    }
   ],
   "source": [
    "#Plot a histogram of hits from all three sources. Include only nonnegative values\n",
    "plt.hist(MDT_flat[MDT_flat>0], label = \"MDT hits\")\n",
    "plt.title(\"MDT Hits\")\n",
    "plt.figure()\n",
    "plt.hist(RPC_flat[RPC_flat>0], label = \"RPC hits\")\n",
    "plt.title(\"RPC Hits\")\n",
    "plt.figure()\n",
    "plt.hist(TGC_flat[TGC_flat>0], label = \"TGC hits\")\n",
    "plt.title(\"TGC Hits\")\n",
    "plt.figure()"
   ]
  },
  {
   "cell_type": "markdown",
   "id": "79604038",
   "metadata": {},
   "source": [
    "#### Barrel and Endcap cuts for MDT/TGC/RPC hits"
   ]
  },
  {
   "cell_type": "code",
   "execution_count": 15,
   "id": "fb1d3bf9",
   "metadata": {},
   "outputs": [],
   "source": [
    "#CUT FOR MDT AND RPC HITS IN BARREL\n",
    "hits_barrel_cut= ((mdt > 300) & (mdt < 3000))\\\n",
    "& ((rpc > 250) & (abs(eta) < 1.0))"
   ]
  },
  {
   "cell_type": "code",
   "execution_count": 16,
   "id": "c63cf56a",
   "metadata": {},
   "outputs": [],
   "source": [
    "#CUT FOR MDT AND TGC HITS IN THE ENDCAP\n",
    "hits_endcap_cut= ((mdt > 300) & (mdt < 3000))\\\n",
    "& ((tgc > 250) & ((abs(eta) > 1.0) & (abs(eta) < 2.5)))"
   ]
  },
  {
   "cell_type": "code",
   "execution_count": 22,
   "id": "e266c3f1",
   "metadata": {},
   "outputs": [
    {
     "name": "stdout",
     "output_type": "stream",
     "text": [
      "0.07698333431251592\n"
     ]
    }
   ],
   "source": [
    "#Check pct of hits that pass\n",
    "pct(hits_barrel_cut)"
   ]
  },
  {
   "cell_type": "code",
   "execution_count": 18,
   "id": "2eb4948d",
   "metadata": {},
   "outputs": [
    {
     "name": "stdout",
     "output_type": "stream",
     "text": [
      "0.13555803615142079\n"
     ]
    }
   ],
   "source": [
    "#Check pct of hits that pass\n",
    "pct(hits_endcap_cut) *100"
   ]
  },
  {
   "cell_type": "markdown",
   "id": "ff770997",
   "metadata": {},
   "source": [
    "### Filter events with minimum number of tracklets"
   ]
  },
  {
   "cell_type": "code",
   "execution_count": 41,
   "id": "5136b794",
   "metadata": {},
   "outputs": [],
   "source": [
    "#Discard erroneous values\n",
    "good_trks = ntrks[ntrks > 0]"
   ]
  },
  {
   "cell_type": "code",
   "execution_count": 50,
   "id": "a2a8624b",
   "metadata": {
    "scrolled": true
   },
   "outputs": [
    {
     "data": {
      "text/plain": [
       "(array([2.246e+03, 2.160e+03, 1.912e+03, 1.528e+03, 1.205e+03, 9.110e+02,\n",
       "        6.750e+02, 4.860e+02, 3.590e+02, 2.170e+02, 1.670e+02, 9.300e+01,\n",
       "        5.500e+01, 5.300e+01, 2.700e+01, 1.300e+01, 1.100e+01, 7.000e+00,\n",
       "        3.000e+00, 3.000e+00, 2.000e+00, 0.000e+00, 0.000e+00, 1.000e+00]),\n",
       " array([ 3.        ,  3.95833333,  4.91666667,  5.875     ,  6.83333333,\n",
       "         7.79166667,  8.75      ,  9.70833333, 10.66666667, 11.625     ,\n",
       "        12.58333333, 13.54166667, 14.5       , 15.45833333, 16.41666667,\n",
       "        17.375     , 18.33333333, 19.29166667, 20.25      , 21.20833333,\n",
       "        22.16666667, 23.125     , 24.08333333, 25.04166667, 26.        ]),\n",
       " <BarContainer object of 24 artists>)"
      ]
     },
     "execution_count": 50,
     "metadata": {},
     "output_type": "execute_result"
    },
    {
     "data": {
      "image/png": "[encoded data removed]",
      "text/plain": [
       "<Figure size 432x288 with 1 Axes>"
      ]
     },
     "metadata": {
      "needs_background": "light"
     },
     "output_type": "display_data"
    }
   ],
   "source": [
    "#Plot number of tracks per event\n",
    "plt.hist(ak.flatten(good_trks), bins = ak.max(ntrks-2))"
   ]
  },
  {
   "cell_type": "code",
   "execution_count": 53,
   "id": "0d171693",
   "metadata": {},
   "outputs": [],
   "source": [
    "#Will need to check # of tracks per vertex. Make sure there are 3(4) in barrel(endcap)\n",
    "ntrks_barrel = ntracks >=3\n",
    "ntrks_endcap = ntracks>=4"
   ]
  },
  {
   "cell_type": "code",
   "execution_count": 55,
   "id": "5f2ada1b",
   "metadata": {},
   "outputs": [
    {
     "name": "stdout",
     "output_type": "stream",
     "text": [
      "0.23762802812212366\n"
     ]
    }
   ],
   "source": [
    "#Calculate pct of events with ntrks > 3\n",
    "pct(ntrks_barrel)"
   ]
  },
  {
   "cell_type": "code",
   "execution_count": 56,
   "id": "10887459",
   "metadata": {},
   "outputs": [
    {
     "name": "stdout",
     "output_type": "stream",
     "text": [
      "0.1936431467011339\n"
     ]
    }
   ],
   "source": [
    "#Calculate pct of events with ntrks > 4\n",
    "pct(ntrks_endcap)"
   ]
  },
  {
   "cell_type": "markdown",
   "id": "d954129c",
   "metadata": {},
   "source": [
    "#### Veto Region Cut"
   ]
  },
  {
   "cell_type": "code",
   "execution_count": 52,
   "id": "8587bb7b",
   "metadata": {},
   "outputs": [],
   "source": [
    "#CUT FOR VETO REGION\n",
    "veto_cut = (0.7 < eta) & (1.3 > eta)"
   ]
  },
  {
   "cell_type": "code",
   "execution_count": 57,
   "id": "a2070b5b",
   "metadata": {},
   "outputs": [
    {
     "name": "stdout",
     "output_type": "stream",
     "text": [
      "0.0368564322503574\n"
     ]
    }
   ],
   "source": [
    "#Calculate pct of verticies that pass veto region\n",
    "pct(veto_cut)"
   ]
  },
  {
   "cell_type": "markdown",
   "id": "06a29a43",
   "metadata": {},
   "source": [
    "### Final selection for good MS Vertices"
   ]
  },
  {
   "cell_type": "code",
   "execution_count": 59,
   "id": "29957364",
   "metadata": {},
   "outputs": [],
   "source": [
    "goodMSvert_barrel = veto_cut & hits_barrel_cut & ntrks_barrel\n",
    "goodMSvert_endcap = veto_cut & hits_endcap_cut & ntrks_endcap"
   ]
  },
  {
   "cell_type": "code",
   "execution_count": 62,
   "id": "43eef7d5",
   "metadata": {},
   "outputs": [
    {
     "name": "stdout",
     "output_type": "stream",
     "text": [
      "0.015059828055539235\n"
     ]
    }
   ],
   "source": [
    "#Calculate percent of vertices in barrel that make final cut\n",
    "pct(goodMSvert_barrel)"
   ]
  },
  {
   "cell_type": "code",
   "execution_count": 63,
   "id": "353d11e0",
   "metadata": {},
   "outputs": [
    {
     "name": "stdout",
     "output_type": "stream",
     "text": [
      "0.01225936588136224\n"
     ]
    }
   ],
   "source": [
    "#Calculate percent of vertices in endcap that make final cut\n",
    "pct(goodMSvert_endcap)"
   ]
  },
  {
   "cell_type": "code",
   "execution_count": 64,
   "id": "0cbb822b",
   "metadata": {},
   "outputs": [
    {
     "data": {
      "text/plain": [
       "769"
      ]
     },
     "execution_count": 64,
     "metadata": {},
     "output_type": "execute_result"
    }
   ],
   "source": [
    "#Calc # of good verticies in barrel\n",
    "ak.count_nonzero(goodMSvert_barrel)"
   ]
  },
  {
   "cell_type": "code",
   "execution_count": 65,
   "id": "c3ba83bb",
   "metadata": {},
   "outputs": [
    {
     "data": {
      "text/plain": [
       "626"
      ]
     },
     "execution_count": 65,
     "metadata": {},
     "output_type": "execute_result"
    }
   ],
   "source": [
    "#Calc # of good verticies in endcap\n",
    "ak.count_nonzero(goodMSvert_endcap)"
   ]
  },
  {
   "cell_type": "markdown",
   "id": "47a02781",
   "metadata": {},
   "source": [
    "### We have 769 good vertices in barrel and 626 good vertices in endcap"
   ]
  }
 ],
 "metadata": {
  "kernelspec": {
   "display_name": "Python 3",
   "language": "python",
   "name": "python3"
  },
  "language_info": {
   "codemirror_mode": {
    "name": "ipython",
    "version": 3
   },
   "file_extension": ".py",
   "mimetype": "text/x-python",
   "name": "python",
   "nbconvert_exporter": "python",
   "pygments_lexer": "ipython3",
   "version": "3.8.5"
  }
 },
 "nbformat": 4,
 "nbformat_minor": 5
}
