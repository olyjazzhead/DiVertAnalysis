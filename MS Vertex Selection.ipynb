{
 "cells": [
  {
   "cell_type": "code",
   "execution_count": 1,
   "id": "512b6ad0",
   "metadata": {},
   "outputs": [],
   "source": [
    "#Import libraries\n",
    "import uproot\n",
    "import numpy as np\n",
    "import awkward as ak\n",
    "import matplotlib.pyplot as plt\n",
    "import time\n",
    "\n",
    "#Load signal file\n",
    "sig_file = uproot.open(\"user.calpert.mc16_13TeV.311423.MGPy8EG_A14NNPDF23_NNPDF31ME_HSS_LLP_mH600_mS150_lthigh.032123_trees.root/user.calpert.311423.e7357_e5984_s3234_r10201_r10210_p4696.32829947._000001.trees.root:trees_DV_\")"
   ]
  },
  {
   "cell_type": "code",
   "execution_count": 280,
   "id": "496ea834",
   "metadata": {},
   "outputs": [],
   "source": [
    "#Define helper functions\n",
    "def dp(branch):\n",
    "    for i, value in enumerate(branch):\n",
    "        print(\"Value:\", branch[i], \"   Index:\",i) #Display all elements\n",
    "\n",
    "def dp10(branch):\n",
    "    for i, value in enumerate(branch[0:10]):\n",
    "        print(\"Value:\", branch[i], \"   Index:\",i) #Display first 10 elements\n",
    "        \n",
    "def dp100(branch):\n",
    "    for i, value in enumerate(branch[0:100]):\n",
    "        print(\"Value:\", branch[i], \"   Index:\",i) #Display first 100 elements\n",
    "        \n",
    "def dp1000(branch):\n",
    "    for i, value in enumerate(branch[0:1000]):\n",
    "        print(\"Value:\", branch[i], \"   Index:\",i) #Display all elements\n",
    "\n",
    "        \n",
    "def ratio(branch):\n",
    "    ratio = ak.count_nonzero(branch)/ak.count(branch)\n",
    "    print(ratio) #Display ratio of number of elements that pass"
   ]
  },
  {
   "cell_type": "code",
   "execution_count": 6,
   "id": "ca1ab605",
   "metadata": {},
   "outputs": [],
   "source": [
    "#Import relevant branches\n",
    "mdt = sig_file[\"MSVtx_nMDT\"].array()#(entry_stop = 10)\n",
    "rpc = sig_file[\"MSVtx_nRPC\"].array()#(entry_stop = 10)\n",
    "tgc = sig_file[\"MSVtx_nTGC\"].array()#(entry_stop = 10)\n",
    "eta = sig_file[\"MSVtx_eta\"].array()#(entry_stop = 10)\n",
    "ntrks = sig_file['MSVtx_nTrks'].array()"
   ]
  },
  {
   "cell_type": "markdown",
   "id": "daa3d73b",
   "metadata": {},
   "source": [
    "### MDT/TGC/RPC Hits"
   ]
  },
  {
   "cell_type": "code",
   "execution_count": 7,
   "id": "b5f22c24",
   "metadata": {},
   "outputs": [],
   "source": [
    "#Flatten arrays\n",
    "MDT_flat =ak.flatten(sig_file[\"MSVtx_nMDT\"].array())\n",
    "RPC_flat = ak.flatten(sig_file[\"MSVtx_nRPC\"].array())\n",
    "TGC_flat = ak.flatten(sig_file[\"MSVtx_nTGC\"].array())"
   ]
  },
  {
   "cell_type": "code",
   "execution_count": 8,
   "id": "885e6d2e",
   "metadata": {},
   "outputs": [
    {
     "data": {
      "text/plain": [
       "<Figure size 432x288 with 0 Axes>"
      ]
     },
     "execution_count": 8,
     "metadata": {},
     "output_type": "execute_result"
    },
    {
     "data": {
      "image/png": "[encoded data removed]",
      "text/plain": [
       "<Figure size 432x288 with 1 Axes>"
      ]
     },
     "metadata": {
      "needs_background": "light"
     },
     "output_type": "display_data"
    },
    {
     "data": {
      "image/png": "[encoded data removed]",
      "text/plain": [
       "<Figure size 432x288 with 1 Axes>"
      ]
     },
     "metadata": {
      "needs_background": "light"
     },
     "output_type": "display_data"
    },
    {
     "data": {
      "image/png": "[encoded data removed]",
      "text/plain": [
       "<Figure size 432x288 with 1 Axes>"
      ]
     },
     "metadata": {
      "needs_background": "light"
     },
     "output_type": "display_data"
    },
    {
     "data": {
      "text/plain": [
       "<Figure size 432x288 with 0 Axes>"
      ]
     },
     "metadata": {},
     "output_type": "display_data"
    }
   ],
   "source": [
    "#Plot a histogram of hits from all three sources. Include only nonnegative values\n",
    "plt.hist(MDT_flat[MDT_flat>0], label = \"MDT hits\")\n",
    "plt.title(\"MDT Hits\")\n",
    "plt.figure()\n",
    "plt.hist(RPC_flat[RPC_flat>0], label = \"RPC hits\")\n",
    "plt.title(\"RPC Hits\")\n",
    "plt.figure()\n",
    "plt.hist(TGC_flat[TGC_flat>0], label = \"TGC hits\")\n",
    "plt.title(\"TGC Hits\")\n",
    "plt.figure()"
   ]
  },
  {
   "cell_type": "markdown",
   "id": "79604038",
   "metadata": {},
   "source": [
    "#### Barrel and Endcap cuts for MDT/TGC/RPC hits"
   ]
  },
  {
   "cell_type": "code",
   "execution_count": 9,
   "id": "fb1d3bf9",
   "metadata": {},
   "outputs": [],
   "source": [
    "#CUT FOR MDT AND RPC HITS IN BARREL\n",
    "hits_barrel_cut= ((mdt > 300) & (mdt < 3000))\\\n",
    "& ((rpc > 250) & (abs(eta) <= 1.0))"
   ]
  },
  {
   "cell_type": "code",
   "execution_count": 10,
   "id": "c63cf56a",
   "metadata": {},
   "outputs": [],
   "source": [
    "#CUT FOR MDT AND TGC HITS IN THE ENDCAP\n",
    "hits_endcap_cut= ((mdt > 300) & (mdt < 3000))\\\n",
    "& ((tgc > 250) & ((abs(eta) > 1.0) & (abs(eta) < 2.5)))"
   ]
  },
  {
   "cell_type": "code",
   "execution_count": 276,
   "id": "55c94d14",
   "metadata": {},
   "outputs": [
    {
     "name": "stdout",
     "output_type": "stream",
     "text": [
      "0.07698333431251592\n"
     ]
    }
   ],
   "source": [
    "#Check pct of hits that pass\n",
    "ratio(hits_barrel_cut)"
   ]
  },
  {
   "cell_type": "code",
   "execution_count": 277,
   "id": "26001818",
   "metadata": {},
   "outputs": [
    {
     "name": "stdout",
     "output_type": "stream",
     "text": [
      "0.13555803615142079\n"
     ]
    }
   ],
   "source": [
    "#Check pct of hits that pass\n",
    "ratio(hits_endcap_cut)"
   ]
  },
  {
   "cell_type": "markdown",
   "id": "cd43cfb1",
   "metadata": {},
   "source": [
    "### Filter events with minimum number of tracklets"
   ]
  },
  {
   "cell_type": "code",
   "execution_count": 14,
   "id": "541e2fcb",
   "metadata": {},
   "outputs": [],
   "source": [
    "#Discard erroneous values\n",
    "good_trks = ntrks[ntrks > 0]"
   ]
  },
  {
   "cell_type": "code",
   "execution_count": 15,
   "id": "f72bd228",
   "metadata": {
    "scrolled": true
   },
   "outputs": [
    {
     "data": {
      "text/plain": [
       "Text(0.5, 1.0, '# of tracks per vertex')"
      ]
     },
     "execution_count": 15,
     "metadata": {},
     "output_type": "execute_result"
    },
    {
     "data": {
      "image/png": "[encoded data removed]",
      "text/plain": [
       "<Figure size 432x288 with 1 Axes>"
      ]
     },
     "metadata": {
      "needs_background": "light"
     },
     "output_type": "display_data"
    }
   ],
   "source": [
    "#Plot number of tracks per vertex\n",
    "plt.hist(ak.flatten(good_trks), bins = (ak.max(ntrks)-2), label = \"#number of track per vertex\")\n",
    "plt.title(\"# of tracks per vertex\")"
   ]
  },
  {
   "cell_type": "code",
   "execution_count": 167,
   "id": "cf667e4b",
   "metadata": {},
   "outputs": [],
   "source": [
    "#Will need to check # of tracks per vertex. Make sure there are 3(4) in barrel(endcap)\n",
    "ntrks_barrel = ntrks >=3\n",
    "ntrks_endcap = ntrks >=4"
   ]
  },
  {
   "cell_type": "code",
   "execution_count": 168,
   "id": "16662e22",
   "metadata": {},
   "outputs": [
    {
     "name": "stdout",
     "output_type": "stream",
     "text": [
      "0.23762802812212366\n"
     ]
    }
   ],
   "source": [
    "#Calculate pct of events with ntrks > 3\n",
    "pct(ntrks_barrel)"
   ]
  },
  {
   "cell_type": "code",
   "execution_count": 169,
   "id": "0df903b5",
   "metadata": {},
   "outputs": [
    {
     "name": "stdout",
     "output_type": "stream",
     "text": [
      "0.1936431467011339\n"
     ]
    }
   ],
   "source": [
    "#Calculate pct of events with ntrks > 4\n",
    "pct(ntrks_endcap)"
   ]
  },
  {
   "cell_type": "markdown",
   "id": "d954129c",
   "metadata": {},
   "source": [
    "#### Veto Region Cut"
   ]
  },
  {
   "cell_type": "code",
   "execution_count": 170,
   "id": "8587bb7b",
   "metadata": {},
   "outputs": [],
   "source": [
    "#CUT FOR VETO REGION\n",
    "veto_cut = (0.7 < eta) & (1.3 > eta)"
   ]
  },
  {
   "cell_type": "code",
   "execution_count": 171,
   "id": "1f022e22",
   "metadata": {},
   "outputs": [
    {
     "name": "stdout",
     "output_type": "stream",
     "text": [
      "0.0368564322503574\n"
     ]
    }
   ],
   "source": [
    "#Calculate pct of verticies that pass veto region\n",
    "pct(veto_cut)"
   ]
  },
  {
   "cell_type": "markdown",
   "id": "d07b71e1",
   "metadata": {},
   "source": [
    "### Final selection for good MS Vertices"
   ]
  },
  {
   "cell_type": "code",
   "execution_count": 22,
   "id": "2d874d0e",
   "metadata": {},
   "outputs": [],
   "source": [
    "goodMSvert_barrel = veto_cut & hits_barrel_cut & ntrks_barrel\n",
    "goodMSvert_endcap = veto_cut & hits_endcap_cut & ntrks_endcap"
   ]
  },
  {
   "cell_type": "code",
   "execution_count": 23,
   "id": "7aa1d298",
   "metadata": {},
   "outputs": [
    {
     "name": "stdout",
     "output_type": "stream",
     "text": [
      "0.015059828055539235\n"
     ]
    }
   ],
   "source": [
    "#Calculate percent of vertices in barrel that make final cut\n",
    "pct(goodMSvert_barrel)"
   ]
  },
  {
   "cell_type": "code",
   "execution_count": 24,
   "id": "749e0d22",
   "metadata": {},
   "outputs": [
    {
     "name": "stdout",
     "output_type": "stream",
     "text": [
      "0.01225936588136224\n"
     ]
    }
   ],
   "source": [
    "#Calculate percent of vertices in endcap that make final cut\n",
    "pct(goodMSvert_endcap)"
   ]
  },
  {
   "cell_type": "code",
   "execution_count": 25,
   "id": "e9272203",
   "metadata": {},
   "outputs": [
    {
     "data": {
      "text/plain": [
       "769"
      ]
     },
     "execution_count": 25,
     "metadata": {},
     "output_type": "execute_result"
    }
   ],
   "source": [
    "#Calc # of good verticies in barrel\n",
    "ak.count_nonzero(goodMSvert_barrel)"
   ]
  },
  {
   "cell_type": "code",
   "execution_count": 26,
   "id": "1ed19530",
   "metadata": {},
   "outputs": [
    {
     "data": {
      "text/plain": [
       "626"
      ]
     },
     "execution_count": 26,
     "metadata": {},
     "output_type": "execute_result"
    }
   ],
   "source": [
    "#Calc # of good verticies in endcap\n",
    "ak.count_nonzero(goodMSvert_endcap)"
   ]
  },
  {
   "cell_type": "markdown",
   "id": "ca6b654b",
   "metadata": {},
   "source": [
    "### We have 769 good vertices in barrel and 626 good vertices in endcap. Now apply preselection, then perform isolation requirements on any leftover events"
   ]
  },
  {
   "cell_type": "markdown",
   "id": "f9fc8992",
   "metadata": {},
   "source": [
    "## Preselection"
   ]
  },
  {
   "cell_type": "code",
   "execution_count": 175,
   "id": "6dc2de77",
   "metadata": {},
   "outputs": [
    {
     "data": {
      "text/plain": [
       "1014"
      ]
     },
     "execution_count": 175,
     "metadata": {},
     "output_type": "execute_result"
    }
   ],
   "source": [
    "#Keep verticies with a multiplicity of at least 2\n",
    "multiplicity = ak.num(eta) >=2\n",
    "#print # of events with multiplicity > 1\n",
    "ak.count_nonzero(multiplicity)"
   ]
  },
  {
   "cell_type": "code",
   "execution_count": 55,
   "id": "022c4c59",
   "metadata": {},
   "outputs": [],
   "source": [
    "#Add trigger and goodPV\n",
    "trig = sig_file[\"pass_HLT_j30_muvtx_noiso\"].array()\n",
    "goodPV = sig_file[\"hasGoodPV\"].array()"
   ]
  },
  {
   "cell_type": "code",
   "execution_count": 178,
   "id": "3e3660df",
   "metadata": {},
   "outputs": [],
   "source": [
    "#Take preselection\n",
    "preselection = (trig == True) & (goodPV == True) & (multiplicity == True)"
   ]
  },
  {
   "cell_type": "code",
   "execution_count": 179,
   "id": "0454b68e",
   "metadata": {
    "scrolled": true
   },
   "outputs": [
    {
     "data": {
      "text/plain": [
       "669"
      ]
     },
     "execution_count": 179,
     "metadata": {},
     "output_type": "execute_result"
    }
   ],
   "source": [
    "#How many events pass preselection?\n",
    "ak.count_nonzero(preselection)"
   ]
  },
  {
   "cell_type": "markdown",
   "id": "0aeb8202",
   "metadata": {},
   "source": [
    "### 669 events pass preselection"
   ]
  },
  {
   "cell_type": "code",
   "execution_count": 184,
   "id": "34020016",
   "metadata": {},
   "outputs": [],
   "source": [
    "barrel_pass = goodMSvert_barrel & preselection\n",
    "endcap_pass = goodMSvert_endcap & preselection"
   ]
  },
  {
   "cell_type": "code",
   "execution_count": 183,
   "id": "bcdc259f",
   "metadata": {},
   "outputs": [
    {
     "data": {
      "text/plain": [
       "105"
      ]
     },
     "execution_count": 183,
     "metadata": {},
     "output_type": "execute_result"
    }
   ],
   "source": [
    "ak.count_nonzero(barrel_pass)"
   ]
  },
  {
   "cell_type": "code",
   "execution_count": 185,
   "id": "123493ce",
   "metadata": {},
   "outputs": [
    {
     "data": {
      "text/plain": [
       "99"
      ]
     },
     "execution_count": 185,
     "metadata": {},
     "output_type": "execute_result"
    }
   ],
   "source": [
    "ak.count_nonzero(endcap_pass)"
   ]
  },
  {
   "cell_type": "markdown",
   "id": "53beeec1",
   "metadata": {},
   "source": [
    "### We have 105 events in barrel and 99 in endcap that contain good vertices and pass preselection before isolation"
   ]
  },
  {
   "cell_type": "markdown",
   "id": "749c5524",
   "metadata": {},
   "source": [
    "## Now time to eliminate vertices from punch through jets"
   ]
  },
  {
   "cell_type": "code",
   "execution_count": 27,
   "id": "dc5a3aea",
   "metadata": {},
   "outputs": [],
   "source": [
    "#Do I need these????? Would eliminate events significantly\n",
    "trig400 = sig_file['pass_HLT_j400'].array()\n",
    "trig420 = sig_file['pass_HLT_j420'].array()"
   ]
  },
  {
   "cell_type": "markdown",
   "id": "2f0abed5",
   "metadata": {},
   "source": [
    "### Jet Isolation"
   ]
  },
  {
   "cell_type": "code",
   "execution_count": 196,
   "id": "a4b7c075",
   "metadata": {},
   "outputs": [],
   "source": [
    "#Calculate jet cutflow first\n",
    "#Load necessary branches\n",
    "jet_pT=sig_file['jet_pT'].array()\n",
    "jet_logRatio=sig_file['jet_logRatio'].array() \n",
    "jet_JVT=sig_file['jet_jvt'].array() \n",
    "jet_eta=sig_file['jet_eta'].array() \n",
    "jet_phi=sig_file['jet_phi'].array() \n",
    "\n",
    "#Cutflow on jets\n",
    "jet_cut = (jet_pT > 30) & (jet_logRatio < 0.5) & (((jet_JVT > 0.59) & (jet_pT < 60)) | ((jet_JVT == True) & (jet_pT >= 60)))\n",
    "good_jets = ak.count_nonzero(jet_cut, axis =1)"
   ]
  },
  {
   "cell_type": "code",
   "execution_count": 281,
   "id": "493ce40f",
   "metadata": {},
   "outputs": [
    {
     "name": "stdout",
     "output_type": "stream",
     "text": [
      "Value: 0    Index: 0\n",
      "Value: 1    Index: 1\n",
      "Value: 1    Index: 2\n",
      "Value: 0    Index: 3\n",
      "Value: 2    Index: 4\n",
      "Value: 0    Index: 5\n",
      "Value: 1    Index: 6\n",
      "Value: 1    Index: 7\n",
      "Value: 0    Index: 8\n",
      "Value: 0    Index: 9\n"
     ]
    }
   ],
   "source": [
    "#Take a look at first 10 of good_jets\n",
    "dp10(good_jets)"
   ]
  },
  {
   "cell_type": "code",
   "execution_count": 197,
   "id": "9013df4c",
   "metadata": {},
   "outputs": [],
   "source": [
    "jet_eta_pairs = ak.combinations(jet_eta, n=2, fields = [\"x\",\"y\"])\n",
    "jet_delta_eta=abs(jet_eta_pairs[\"y\"] - jet_eta_pairs[\"x\"])"
   ]
  },
  {
   "cell_type": "code",
   "execution_count": 198,
   "id": "5435d06b",
   "metadata": {},
   "outputs": [],
   "source": [
    "jet_phi_pairs = ak.combinations(jet_phi, n=2, fields = [\"x\",\"y\"])\n",
    "jet_delta_phi=abs(jet_phi_pairs[\"y\"] - jet_phi_pairs[\"x\"])"
   ]
  },
  {
   "cell_type": "code",
   "execution_count": 199,
   "id": "8e21fe8a",
   "metadata": {},
   "outputs": [],
   "source": [
    "jet_eta_sq = jet_delta_eta * jet_delta_eta\n",
    "jet_phi_sq = jet_delta_phi * jet_delta_phi"
   ]
  },
  {
   "cell_type": "code",
   "execution_count": 200,
   "id": "21cf4711",
   "metadata": {},
   "outputs": [],
   "source": [
    "jet_delta = jet_eta_sq + jet_phi_sq"
   ]
  },
  {
   "cell_type": "code",
   "execution_count": 206,
   "id": "af6da9ce",
   "metadata": {},
   "outputs": [
    {
     "name": "stdout",
     "output_type": "stream",
     "text": [
      "False\n",
      "True\n"
     ]
    }
   ],
   "source": [
    "#Check if any value of jet_delta < 0.09 (barrel) and 0.36 (endcap)\n",
    "print(ak.any(jet_delta < 0.09))\n",
    "print(ak.any(jet_delta < 0.36))"
   ]
  },
  {
   "cell_type": "markdown",
   "id": "e957e907",
   "metadata": {},
   "source": [
    "#### We have some punch through jets in the endcap so need to check if these correspond with any good verticies"
   ]
  },
  {
   "cell_type": "code",
   "execution_count": 243,
   "id": "094e2f63",
   "metadata": {},
   "outputs": [],
   "source": [
    "#Create a cut with jet_delta > 0.36. This will help us create an appropriate boolean array to compare with good MS vert\n",
    "jet_delta_cut_endcap = jet_delta < 0.36\n",
    "jet_delta_cut_barrel = jet_delta < 0.09"
   ]
  },
  {
   "cell_type": "code",
   "execution_count": 244,
   "id": "7a3e940d",
   "metadata": {},
   "outputs": [],
   "source": [
    "jet_bool_endcap = ak.any(jet_delta_cut_endcap, axis =1)\n",
    "jet_bool_barrel = ak.any(jet_delta_cut_barrel, axis =1)"
   ]
  },
  {
   "cell_type": "code",
   "execution_count": 282,
   "id": "c148566c",
   "metadata": {},
   "outputs": [
    {
     "name": "stdout",
     "output_type": "stream",
     "text": [
      "Value: False    Index: 0\n",
      "Value: True    Index: 1\n",
      "Value: False    Index: 2\n",
      "Value: True    Index: 3\n",
      "Value: True    Index: 4\n",
      "Value: False    Index: 5\n",
      "Value: False    Index: 6\n",
      "Value: True    Index: 7\n",
      "Value: True    Index: 8\n",
      "Value: True    Index: 9\n"
     ]
    }
   ],
   "source": [
    "#Take a look at first 10 in endcap\n",
    "dp10(jet_bool_endcap)"
   ]
  },
  {
   "cell_type": "code",
   "execution_count": 283,
   "id": "e113198a",
   "metadata": {},
   "outputs": [
    {
     "name": "stdout",
     "output_type": "stream",
     "text": [
      "Value: False    Index: 0\n",
      "Value: False    Index: 1\n",
      "Value: False    Index: 2\n",
      "Value: False    Index: 3\n",
      "Value: False    Index: 4\n",
      "Value: False    Index: 5\n",
      "Value: False    Index: 6\n",
      "Value: False    Index: 7\n",
      "Value: False    Index: 8\n",
      "Value: False    Index: 9\n"
     ]
    }
   ],
   "source": [
    "#Take a look at first 10 in barrel. We expect all false\n",
    "dp10(jet_bool_barrel)"
   ]
  },
  {
   "cell_type": "code",
   "execution_count": null,
   "id": "a1fd8f49",
   "metadata": {},
   "outputs": [],
   "source": [
    "#Now apply sum_pT cut\n",
    "#cut abs(sum(track pT))...removes erroneous values of -1e+05 as well\n",
    "log_ratio_cut = (jet_logRatio > -1e+05) & (abs(jet_logRatio) < 10 )\n",
    "log_ratio_bool = ak.any(log_ratio_cut, axis =1)"
   ]
  },
  {
   "cell_type": "code",
   "execution_count": 220,
   "id": "19c2642c",
   "metadata": {},
   "outputs": [],
   "source": [
    "#Now apply our jet_bool with endcap_pass"
   ]
  },
  {
   "cell_type": "code",
   "execution_count": 273,
   "id": "d439c6d7",
   "metadata": {},
   "outputs": [],
   "source": [
    "true_endcap = endcap_pass & (jet_bool_endcap == False) & log_ratio_bool\n",
    "true_barrel = barrel_pass & (jet_bool_barrel == False) & log_ratio_bool"
   ]
  },
  {
   "cell_type": "code",
   "execution_count": 274,
   "id": "15d8ee0f",
   "metadata": {},
   "outputs": [
    {
     "data": {
      "text/plain": [
       "105"
      ]
     },
     "execution_count": 274,
     "metadata": {},
     "output_type": "execute_result"
    }
   ],
   "source": [
    "ak.count_nonzero(true_barrel)"
   ]
  },
  {
   "cell_type": "code",
   "execution_count": 275,
   "id": "8ab01120",
   "metadata": {},
   "outputs": [
    {
     "data": {
      "text/plain": [
       "40"
      ]
     },
     "execution_count": 275,
     "metadata": {},
     "output_type": "execute_result"
    }
   ],
   "source": [
    "ak.count_nonzero(true_endcap)"
   ]
  },
  {
   "cell_type": "markdown",
   "id": "bef3b53c",
   "metadata": {},
   "source": [
    "### Our number of good vertices in the endcap decreased from 99 to 40"
   ]
  },
  {
   "cell_type": "markdown",
   "id": "a34b48f1",
   "metadata": {},
   "source": [
    "### We still need to account for track isolation then we are finished"
   ]
  },
  {
   "cell_type": "code",
   "execution_count": null,
   "id": "7819c796",
   "metadata": {},
   "outputs": [],
   "source": []
  }
 ],
 "metadata": {
  "kernelspec": {
   "display_name": "Python 3",
   "language": "python",
   "name": "python3"
  },
  "language_info": {
   "codemirror_mode": {
    "name": "ipython",
    "version": 3
   },
   "file_extension": ".py",
   "mimetype": "text/x-python",
   "name": "python",
   "nbconvert_exporter": "python",
   "pygments_lexer": "ipython3",
   "version": "3.8.5"
  }
 },
 "nbformat": 4,
 "nbformat_minor": 5
}
