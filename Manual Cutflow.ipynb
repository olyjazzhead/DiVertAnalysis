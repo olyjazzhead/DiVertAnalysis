{
 "cells": [
  {
   "cell_type": "code",
   "execution_count": 1,
   "id": "50c76143",
   "metadata": {},
   "outputs": [],
   "source": [
    "#Manual cutflow on search for LLPs decaying in muon spectrometer"
   ]
  },
  {
   "cell_type": "code",
   "execution_count": 1,
   "id": "29da7677",
   "metadata": {},
   "outputs": [],
   "source": [
    "#Import libraries\n",
    "import uproot\n",
    "import numpy as np\n",
    "import awkward as ak\n",
    "import matplotlib.pyplot as plt\n",
    "import time\n",
    "import math\n",
    "\n",
    "#Load signal file\n",
    "sig_file = uproot.open(\"user.calpert.mc16_13TeV.311423.MGPy8EG_A14NNPDF23_NNPDF31ME_HSS_LLP_mH600_mS150_lthigh.032123_trees.root/user.calpert.311423.e7357_e5984_s3234_r10201_r10210_p4696.32829947._000001.trees.root:trees_DV_\")"
   ]
  },
  {
   "cell_type": "code",
   "execution_count": 2,
   "id": "d6ca556a",
   "metadata": {},
   "outputs": [],
   "source": [
    "#Define helper functions. These functions display relevant info about a branch if needed.\n",
    "def dp(branch, length):\n",
    "    if length > len(branch):\n",
    "        length = len(branch)  # Ensures we do not go out of range if length is greater than the branch size\n",
    "    for i, value in enumerate(branch[:length]):\n",
    "        print(\"Value:\", value, \"   Index:\", i)\n",
    "\n",
    "def ratio(branch):\n",
    "    ratio = ak.count_nonzero(branch)/ak.count(branch)\n",
    "    print(ratio) #Display ratio of number of elements that pass"
   ]
  },
  {
   "cell_type": "markdown",
   "id": "41caaec9",
   "metadata": {},
   "source": [
    "## Pass Qual"
   ]
  },
  {
   "cell_type": "code",
   "execution_count": 3,
   "id": "ce1da9ee",
   "metadata": {},
   "outputs": [],
   "source": [
    "goodPV = sig_file[\"hasGoodPV\"].array()"
   ]
  },
  {
   "cell_type": "code",
   "execution_count": 4,
   "id": "1949c065",
   "metadata": {},
   "outputs": [],
   "source": [
    "cut1 = goodPV == True"
   ]
  },
  {
   "cell_type": "code",
   "execution_count": 5,
   "id": "683dcae7",
   "metadata": {},
   "outputs": [
    {
     "name": "stdout",
     "output_type": "stream",
     "text": [
      "1.0\n"
     ]
    }
   ],
   "source": [
    "ratio(cut1)"
   ]
  },
  {
   "cell_type": "markdown",
   "id": "02208389",
   "metadata": {},
   "source": [
    "## Pass Trigger"
   ]
  },
  {
   "cell_type": "code",
   "execution_count": 6,
   "id": "8d299fc3",
   "metadata": {},
   "outputs": [],
   "source": [
    "trig = sig_file[\"pass_HLT_j30_muvtx_noiso\"].array()"
   ]
  },
  {
   "cell_type": "code",
   "execution_count": 7,
   "id": "2c66404b",
   "metadata": {},
   "outputs": [],
   "source": [
    "cut2 = cut1 & trig == True"
   ]
  },
  {
   "cell_type": "code",
   "execution_count": 8,
   "id": "afdf2c1e",
   "metadata": {},
   "outputs": [
    {
     "name": "stdout",
     "output_type": "stream",
     "text": [
      "0.23718\n"
     ]
    }
   ],
   "source": [
    "ratio(cut2)"
   ]
  },
  {
   "cell_type": "markdown",
   "id": "fa3b27d3",
   "metadata": {},
   "source": [
    "## With 2 Vertices"
   ]
  },
  {
   "cell_type": "code",
   "execution_count": 9,
   "id": "e7461198",
   "metadata": {},
   "outputs": [],
   "source": [
    "#Keep verticies with a multiplicity of at least 2\n",
    "#Use any MsVtx branch but eta will do.\n",
    "eta = sig_file[\"MSVtx_eta\"].array()\n",
    "multiplicity = ak.num(eta) >=2  #COUNT AFTER GOOD VERTICES\n"
   ]
  },
  {
   "cell_type": "code",
   "execution_count": 10,
   "id": "80c789b0",
   "metadata": {},
   "outputs": [],
   "source": [
    "cut3 = cut2 & multiplicity == True"
   ]
  },
  {
   "cell_type": "code",
   "execution_count": 11,
   "id": "9a7dc407",
   "metadata": {},
   "outputs": [
    {
     "name": "stdout",
     "output_type": "stream",
     "text": [
      "0.01338\n"
     ]
    }
   ],
   "source": [
    "ratio(cut3)"
   ]
  },
  {
   "cell_type": "markdown",
   "id": "7947553e",
   "metadata": {},
   "source": [
    "## With Two Good Vertices"
   ]
  },
  {
   "cell_type": "code",
   "execution_count": 12,
   "id": "8fb51192",
   "metadata": {},
   "outputs": [],
   "source": [
    "eta = sig_file[\"MSVtx_eta\"].array()\n",
    "mdt = sig_file[\"MSVtx_nMDT\"].array()\n",
    "rpc = sig_file[\"MSVtx_nRPC\"].array()\n",
    "tgc = sig_file[\"MSVtx_nTGC\"].array()\n",
    "ntrks = sig_file['MSVtx_nTrks'].array()"
   ]
  },
  {
   "cell_type": "code",
   "execution_count": 13,
   "id": "ff625ac4",
   "metadata": {},
   "outputs": [],
   "source": [
    "#CUT FOR MDT AND RPC HITS IN BARREL\n",
    "mdt_hits = (mdt >= 300) & (mdt < 3000)\n",
    "rpc_hits = ((rpc > 250) & (abs(eta) <= 1.0)) | ((abs(eta) > 1.0) & (rpc == True))\n",
    "tgc_hits = ((tgc > 250) & ((abs(eta) > 1) & (abs(eta) < 2.5))) | ((((abs(eta) <= 1.0) | (abs(eta) >= 2.5)) & (tgc == True)))\n",
    "\n",
    "#Will need to check # of tracks per vertex. Make sure there are 3(4) in barrel(endcap)\n",
    "ntrks_barrel = ntrks >=3\n",
    "ntrks_endcap = ntrks >=4\n",
    "\n",
    "#CUT FOR VETO REGION\n",
    "veto_cut = (0.7 < eta) & (1.3 > eta)\n",
    "\n",
    "hits_barrel_cut= mdt_hits & rpc_hits & ntrks_barrel \n",
    "hits_endcap_cut = mdt_hits & tgc_hits & ntrks_endcap\n",
    "\n",
    "\n",
    "#Discard erroneous values\n",
    "#MS_good_trks = ntrks[ntrks > 0]  #LABEL MS GOOD TRACKS\n",
    "\n"
   ]
  },
  {
   "cell_type": "code",
   "execution_count": 14,
   "id": "49b74778",
   "metadata": {},
   "outputs": [],
   "source": [
    "hits_cut = (hits_barrel_cut) | hits_endcap_cut"
   ]
  },
  {
   "cell_type": "code",
   "execution_count": 15,
   "id": "931b8400",
   "metadata": {},
   "outputs": [],
   "source": [
    "final_hits_cut = hits_cut & veto_cut"
   ]
  },
  {
   "cell_type": "code",
   "execution_count": 16,
   "id": "a714b28b",
   "metadata": {},
   "outputs": [],
   "source": [
    "cut4 = final_hits_cut & cut3"
   ]
  },
  {
   "cell_type": "code",
   "execution_count": 17,
   "id": "4f11fb22",
   "metadata": {},
   "outputs": [
    {
     "name": "stdout",
     "output_type": "stream",
     "text": [
      "0.003995064919804947\n"
     ]
    }
   ],
   "source": [
    "ratio(cut4)"
   ]
  },
  {
   "cell_type": "code",
   "execution_count": 18,
   "id": "f1879203",
   "metadata": {},
   "outputs": [
    {
     "data": {
      "text/plain": [
       "204"
      ]
     },
     "execution_count": 18,
     "metadata": {},
     "output_type": "execute_result"
    }
   ],
   "source": [
    "ak.count_nonzero(cut4)"
   ]
  },
  {
   "cell_type": "markdown",
   "id": "a8dfa719",
   "metadata": {},
   "source": [
    "## 2 good vtx w/ Iso cuts"
   ]
  },
  {
   "cell_type": "markdown",
   "id": "e26cf805",
   "metadata": {},
   "source": [
    "### 3 Criteria: Jet isolation, track isolation and sum pT cut"
   ]
  },
  {
   "cell_type": "code",
   "execution_count": 19,
   "id": "4ff59104",
   "metadata": {},
   "outputs": [],
   "source": [
    "#Calculate jet cutflow first\n",
    "#Load necessary branches\n",
    "jet_pT=sig_file['jet_pT'].array()\n",
    "jet_logRatio=sig_file['jet_logRatio'].array() \n",
    "jet_JVT=sig_file['jet_jvt'].array() \n",
    "jet_eta=sig_file['jet_eta'].array() \n",
    "jet_phi=sig_file['jet_phi'].array() \n",
    "track_pT = sig_file['track_pT'].array()\n",
    "track_eta = sig_file['track_eta'].array()\n",
    "track_phi = sig_file['track_phi'].array()\n",
    "MS_eta = sig_file[\"MSVtx_eta\"].array()\n",
    "MS_phi = sig_file[\"MSVtx_phi\"].array()\n",
    "sum_pT = sig_file['MSVtx_sumTrackPt0p2Cone'].array()"
   ]
  },
  {
   "cell_type": "code",
   "execution_count": 20,
   "id": "ccb49c7f",
   "metadata": {},
   "outputs": [],
   "source": [
    "#Reduce to event level for eliminating vertices due to iso cuts. Produces 1-d array showing # of good vertices per event\n",
    "good_vtx = ak.count_nonzero(cut4, axis=1)"
   ]
  },
  {
   "cell_type": "code",
   "execution_count": 21,
   "id": "5bc29230",
   "metadata": {},
   "outputs": [
    {
     "name": "stdout",
     "output_type": "stream",
     "text": [
      "0.003995064919804947\n"
     ]
    }
   ],
   "source": [
    "ratio(cut4)"
   ]
  },
  {
   "cell_type": "code",
   "execution_count": 22,
   "id": "a6383341",
   "metadata": {},
   "outputs": [],
   "source": [
    "#First perform cutflow on jets. \n",
    "#logRatio < 0.5 rejects vertices near end of calorimeters\n",
    "#jetpT and jetJVT requirements prevent pileup/underlying event spoiling a true vertex\n",
    "jet_cut = (jet_logRatio < 0.5) & (jet_pT > 30) & (((jet_JVT > 0.59) & (jet_pT < 60)) | ((jet_pT > 60)))\n",
    "#produce a 1-d array with number of jets passing cut per event\n",
    "jet_count = ak.count_nonzero(jet_cut, axis=1)"
   ]
  },
  {
   "cell_type": "code",
   "execution_count": 23,
   "id": "e17b2cee",
   "metadata": {},
   "outputs": [
    {
     "name": "stdout",
     "output_type": "stream",
     "text": [
      "0.13895957389081667\n"
     ]
    }
   ],
   "source": [
    "ratio(jet_cut)"
   ]
  },
  {
   "cell_type": "code",
   "execution_count": 278,
   "id": "ff3d9d0b",
   "metadata": {},
   "outputs": [],
   "source": [
    "#Jet Isolation\n",
    "#Create cross products of jet_eta, MS_Vtx_eta, jet_phi,and MS_Vtx_phi\n",
    "jet_etaPairs = ak.cartesian({\"x\":jet_eta, \"y\":MS_eta}, axis=1) \n",
    "jet_phiPairs = ak.cartesian({\"x\":jet_phi, \"y\":MS_phi}, axis=1) "
   ]
  },
  {
   "cell_type": "code",
   "execution_count": 279,
   "id": "68f24615",
   "metadata": {},
   "outputs": [],
   "source": [
    "delta_jet_eta = abs(jet_etaPairs[\"x\"] - jet_etaPairs[\"y\"])\n",
    "delta_jet_phi = abs(jet_phiPairs[\"x\"] - jet_phiPairs[\"y\"])"
   ]
  },
  {
   "cell_type": "code",
   "execution_count": 280,
   "id": "9938f589",
   "metadata": {},
   "outputs": [],
   "source": [
    "delta_jet = (delta_jet_eta * delta_jet_eta) + (delta_jet_phi * delta_jet_phi)"
   ]
  },
  {
   "cell_type": "code",
   "execution_count": 281,
   "id": "370e32e4",
   "metadata": {},
   "outputs": [],
   "source": [
    "#Place cut on delta threshold for barrel and endcap\n",
    "delta_cut_barrel = delta_jet<0.09\n",
    "delta_cut_endcap = delta_jet<0.36"
   ]
  },
  {
   "cell_type": "code",
   "execution_count": 282,
   "id": "9c8e6292",
   "metadata": {},
   "outputs": [],
   "source": [
    "delta_count_barrel = ak.count_nonzero(delta_cut_barrel, axis=1)\n",
    "delta_count_endcap = ak.count_nonzero(delta_cut_endcap, axis=1)"
   ]
  },
  {
   "cell_type": "code",
   "execution_count": 298,
   "id": "3b5b3291",
   "metadata": {},
   "outputs": [],
   "source": [
    "#Using good_vtx, jet_count and delta_count....figure how many vertices to cut in barrel\n",
    "jet_iso_vtx_barrel = ak.to_numpy(good_vtx)\n",
    "for i, value in enumerate(good_vtx):\n",
    "    if ((delta_count_barrel[i] > jet_count[i])) | (((delta_count_barrel[i] == jet_count[i]) & (jet_count[i] > 0))):\n",
    "        jet_iso_vtx_barrel[i] = good_vtx[i] - jet_count[i]\n",
    "    elif (delta_count_barrel[i] <= jet_count[i]):\n",
    "        jet_iso_vtx_barrel[i] = (good_vtx[i] - delta_count_barrel[i])"
   ]
  },
  {
   "cell_type": "code",
   "execution_count": 299,
   "id": "a35887c5",
   "metadata": {},
   "outputs": [],
   "source": [
    "#Using good_vtx, jet_count and delta_count....figure how many vertices to cut in endcap\n",
    "jet_iso_vtx_endcap = ak.to_numpy(good_vtx)\n",
    "for i, value in enumerate(good_vtx):\n",
    "    if ((delta_count_endcap[i] > jet_count[i])) | (((delta_count_endcap[i] == jet_count[i]) & (jet_count[i] > 0))):\n",
    "        jet_iso_vtx_endcap[i] = good_vtx[i] - jet_count[i]\n",
    "    elif (delta_count_endcap[i] <= jet_count[i]):\n",
    "        jet_iso_vtx_endcap[i] = (good_vtx[i] - delta_count_endcap[i])"
   ]
  },
  {
   "cell_type": "code",
   "execution_count": 300,
   "id": "46e08dc8",
   "metadata": {},
   "outputs": [],
   "source": [
    "good_vtx_np = ak.to_numpy(good_vtx)\n",
    "for i, value in enumerate(good_vtx):\n",
    "    if good_vtx[i] <0:\n",
    "        good_vtx_np[i] = 0\n",
    "good_vtx = ak.from_numpy(good_vtx_np)"
   ]
  },
  {
   "cell_type": "code",
   "execution_count": 301,
   "id": "0bdb4879",
   "metadata": {},
   "outputs": [
    {
     "data": {
      "text/plain": [
       "48"
      ]
     },
     "execution_count": 301,
     "metadata": {},
     "output_type": "execute_result"
    }
   ],
   "source": [
    "ak.count_nonzero(good_vtx)"
   ]
  },
  {
   "cell_type": "markdown",
   "id": "08e64ec6",
   "metadata": {},
   "source": [
    "#### Track Isolation"
   ]
  },
  {
   "cell_type": "code",
   "execution_count": 217,
   "id": "3d9120aa",
   "metadata": {},
   "outputs": [],
   "source": [
    "track_etaPairs = ak.cartesian({\"x\":track_eta, \"y\":MS_eta}, axis=1) \n",
    "track_phiPairs = ak.cartesian({\"x\":track_phi, \"y\":MS_phi}, axis=1) "
   ]
  },
  {
   "cell_type": "code",
   "execution_count": 218,
   "id": "58e0141b",
   "metadata": {},
   "outputs": [],
   "source": [
    "delta_track_eta = abs(track_etaPairs[\"x\"] - track_etaPairs[\"y\"])\n",
    "delta_track_phi = abs(track_phiPairs[\"x\"] - track_phiPairs[\"y\"])"
   ]
  },
  {
   "cell_type": "code",
   "execution_count": 219,
   "id": "62e37aa5",
   "metadata": {},
   "outputs": [],
   "source": [
    "delta_track = (delta_track_eta * delta_track_eta) + (delta_track_phi * delta_track_phi)"
   ]
  },
  {
   "cell_type": "code",
   "execution_count": 220,
   "id": "79f9e842",
   "metadata": {},
   "outputs": [],
   "source": [
    "delta_cut_barrel = (delta_track<0.09)\n",
    "delta_cut_endcap = (delta_track<0.36)"
   ]
  },
  {
   "cell_type": "code",
   "execution_count": 221,
   "id": "a3fcd29e",
   "metadata": {},
   "outputs": [],
   "source": [
    "delta_count_barrel = ak.count_nonzero(delta_cut_barrel, axis=1)\n",
    "delta_count_endcap = ak.count_nonzero(delta_cut_endcap, axis=1)\n",
    "track_pt_count = ak.any(track_pT > 17, axis =1)"
   ]
  },
  {
   "cell_type": "code",
   "execution_count": 222,
   "id": "bab0e779",
   "metadata": {},
   "outputs": [],
   "source": [
    "track_iso_vtx_barrel = ak.to_numpy(good_vtx)\n",
    "for i, value in enumerate(good_vtx):\n",
    "    if ((delta_count_barrel[i] > jet_count[i])) & (track_pt_count[i] == True) | ((delta_count_barrel[i] == jet_count[i]) & (jet_count[i] > 0) & (track_pt_count[i] == True)):\n",
    "        track_iso_vtx_barrel[i] = good_vtx[i] - jet_count[i]\n",
    "    elif (delta_count_barrel[i] <= jet_count[i]):\n",
    "        track_iso_vtx_barrel[i] = (good_vtx[i] - delta_count_barrel[i])"
   ]
  },
  {
   "cell_type": "code",
   "execution_count": 223,
   "id": "c0506419",
   "metadata": {},
   "outputs": [],
   "source": [
    "track_iso_vtx_endcap = ak.to_numpy(good_vtx)\n",
    "for i, value in enumerate(good_vtx):\n",
    "    if ((delta_count_endcap[i] > jet_count[i]) | ((delta_count_endcap[i] == jet_count[i]) & (jet_count[i] > 0))) & (track_pt_count[i] == True):\n",
    "        track_iso_vtx_endcap[i] = good_vtx[i] - jet_count[i]\n",
    "    elif (delta_count_endcap[i] <= jet_count[i]) & (track_pt_count[i] == True):\n",
    "        track_iso_vtx_endcap[i] = (good_vtx[i] - delta_count_endcap[i])"
   ]
  },
  {
   "cell_type": "code",
   "execution_count": 224,
   "id": "9333896a",
   "metadata": {},
   "outputs": [],
   "source": [
    "good_vtx_np = ak.to_numpy(good_vtx)\n",
    "for i, value in enumerate(good_vtx):\n",
    "    if good_vtx[i] <0:\n",
    "        good_vtx_np[i] = 0\n",
    "good_vtx = ak.from_numpy(good_vtx_np)"
   ]
  },
  {
   "cell_type": "code",
   "execution_count": 225,
   "id": "e69c8045",
   "metadata": {},
   "outputs": [
    {
     "data": {
      "text/plain": [
       "63"
      ]
     },
     "execution_count": 225,
     "metadata": {},
     "output_type": "execute_result"
    }
   ],
   "source": [
    "ak.count_nonzero(good_vtx)"
   ]
  },
  {
   "cell_type": "code",
   "execution_count": 226,
   "id": "10ccdca5",
   "metadata": {},
   "outputs": [],
   "source": [
    "sum_pt_cut = sum_pT > 10\n",
    "pt_iso = ak.count_nonzero(sum_pt_cut, axis=1)"
   ]
  },
  {
   "cell_type": "code",
   "execution_count": 227,
   "id": "cc921ee6",
   "metadata": {},
   "outputs": [],
   "source": [
    "pt_np = ak.to_numpy(good_vtx)\n",
    "for i, value in enumerate(good_vtx):\n",
    "    if (pt_iso[i] > 0):\n",
    "        pt_np[i] = pt_np[i] - pt_iso[i]\n",
    "for i, value in enumerate(pt_np):\n",
    "    if pt_np[i] < 0:\n",
    "        pt_np[i] = 0\n",
    "final_cut = ak.from_numpy(pt_np)"
   ]
  },
  {
   "cell_type": "code",
   "execution_count": 228,
   "id": "06916d50",
   "metadata": {},
   "outputs": [
    {
     "data": {
      "text/plain": [
       "50"
      ]
     },
     "execution_count": 228,
     "metadata": {},
     "output_type": "execute_result"
    }
   ],
   "source": [
    "ak.count_nonzero(final_cut)"
   ]
  },
  {
   "cell_type": "markdown",
   "id": "a1d7179f",
   "metadata": {},
   "source": [
    "## Plot cutflow chart"
   ]
  },
  {
   "cell_type": "code",
   "execution_count": 133,
   "id": "80477fe4",
   "metadata": {},
   "outputs": [
    {
     "name": "stdout",
     "output_type": "stream",
     "text": [
      "1.0\n",
      "1.0\n",
      "0.23718\n",
      "0.01338\n",
      "0.003995064919804947\n",
      "0.0017\n"
     ]
    }
   ],
   "source": [
    "r0 = ratio(goodPV)\n",
    "r1 = ratio(cut1)\n",
    "r2 = ratio(cut2)\n",
    "r3 = ratio(cut3)\n",
    "r4 = ratio(cut4)\n",
    "r5 = ratio(final_cut)\n",
    "\n",
    "x1 = 1\n",
    "x2 = (ak.count_nonzero(cut1)/ak.count_nonzero(goodPV))\n",
    "x3 = (ak.count_nonzero(cut2)/ak.count_nonzero(cut1))\n",
    "x4 = (ak.count_nonzero(cut3)/ak.count_nonzero(cut2))\n",
    "x5 = (ak.count_nonzero(cut4)/ak.count_nonzero(cut3))\n",
    "x6 = (ak.count_nonzero(final_cut)/ak.count_nonzero(cut4))"
   ]
  },
  {
   "cell_type": "code",
   "execution_count": 134,
   "id": "7c57a5a1",
   "metadata": {},
   "outputs": [
    {
     "data": {
      "image/png": "[encoded data removed]",
      "text/plain": [
       "<Figure size 432x288 with 1 Axes>"
      ]
     },
     "metadata": {
      "needs_background": "light"
     },
     "output_type": "display_data"
    }
   ],
   "source": [
    "x = [0,1,2,3,4,5,6]\n",
    "y = [1.0,1.0, 1.0, .23718, .01338,.00400,.002272]\n",
    "fig, ax = plt.subplots()\n",
    "plt.step(x, y)\n",
    "\n",
    "ax.set_ylabel('n events')\n",
    "\n",
    "plt.xlim(0,6)\n",
    "my_xticks = ['All Events','PassQual','Pass Trig','W/GoodVertex', 'W/GoodVtxIsoCut','W/2GoodVtxIsoCut','']\n",
    "\n",
    "# Major ticks every 20, minor ticks every 5\n",
    "major_ticks = np.arange(0, 6, 1)\n",
    "minor_ticks = np.arange(0, 6, .1)\n",
    "\n",
    "ax.set_xticks(major_ticks)\n",
    "ax.set_xticks(minor_ticks, minor=True)\n",
    "ax.set_yticks(major_ticks)\n",
    "ax.set_yticks(minor_ticks, minor=True)\n",
    "\n",
    "plt.xticks(x, my_xticks, rotation=45)\n",
    "plt.tick_params(labeltop=False, direction=\"out\", labelright=True)\n",
    "\n",
    "ax2 = ax.secondary_yaxis(\"right\")\n",
    "ax2.tick_params(axis=\"y\", direction=\"out\")\n",
    "\n",
    "ax3 = ax.secondary_xaxis(\"top\", label=False)\n",
    "ax3.tick_params(axis=\"x\")\n",
    "\n",
    "plt.text(.5,1.05, '1.0', fontsize = 8)\n",
    "plt.text(1.5,1.05, '1.0', fontsize = 8)\n",
    "plt.text(2.2,.25, '0.23718', fontsize = 8)\n",
    "plt.text(3.2,.016, '0.01338', fontsize = 8)\n",
    "plt.text(4.2,0.0072, '0.00400', fontsize = 8)\n",
    "plt.text(5.2,0.0024, '0.002272', fontsize = 8)\n",
    "\n",
    "ax.set_title('ATLAS Simulation')\n",
    "plt.legend(['Cutflow_HSS_mH600_mS150'], loc=\"lower left\")\n",
    "\n",
    "plt.yscale(\"log\")\n",
    "plt.show()"
   ]
  },
  {
   "cell_type": "code",
   "execution_count": null,
   "id": "d46f300e",
   "metadata": {},
   "outputs": [],
   "source": []
  }
 ],
 "metadata": {
  "kernelspec": {
   "display_name": "Python 3",
   "language": "python",
   "name": "python3"
  },
  "language_info": {
   "codemirror_mode": {
    "name": "ipython",
    "version": 3
   },
   "file_extension": ".py",
   "mimetype": "text/x-python",
   "name": "python",
   "nbconvert_exporter": "python",
   "pygments_lexer": "ipython3",
   "version": "3.8.5"
  }
 },
 "nbformat": 4,
 "nbformat_minor": 5
}
