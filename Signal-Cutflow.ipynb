{
 "cells": [
  {
   "cell_type": "markdown",
   "id": "1406f893",
   "metadata": {},
   "source": [
    "# Exploring MS verticies"
   ]
  },
  {
   "cell_type": "code",
   "execution_count": 104,
   "id": "0c554284",
   "metadata": {},
   "outputs": [],
   "source": [
    "#Import libraries\n",
    "import uproot\n",
    "import numpy as np\n",
    "import awkward as ak\n",
    "import matplotlib.pyplot as plt\n",
    "import time"
   ]
  },
  {
   "cell_type": "code",
   "execution_count": 105,
   "id": "d5ca3b39",
   "metadata": {},
   "outputs": [],
   "source": [
    "#Load signal file\n",
    "sig_file = uproot.open(\"user.calpert.mc16_13TeV.311423.MGPy8EG_A14NNPDF23_NNPDF31ME_HSS_LLP_mH600_mS150_lthigh.032123_trees.root/user.calpert.311423.e7357_e5984_s3234_r10201_r10210_p4696.32829947._000001.trees.root:trees_DV_\")"
   ]
  },
  {
   "cell_type": "markdown",
   "id": "128e4461",
   "metadata": {},
   "source": [
    "### Begin with a preselection"
   ]
  },
  {
   "cell_type": "code",
   "execution_count": 103,
   "id": "2c397679",
   "metadata": {},
   "outputs": [],
   "source": [
    "#Begin with preselection cuts: trigger, has good PV and multiplicity > 2"
   ]
  },
  {
   "cell_type": "code",
   "execution_count": 110,
   "id": "ae4fdcab",
   "metadata": {},
   "outputs": [
    {
     "data": {
      "text/plain": [
       "Text(0.5, 1.0, 'Histogram of Trigger and Good PV (Signal)')"
      ]
     },
     "execution_count": 110,
     "metadata": {},
     "output_type": "execute_result"
    },
    {
     "data": {
      "image/png": "[encoded data removed]",
      "text/plain": [
       "<Figure size 432x288 with 1 Axes>"
      ]
     },
     "metadata": {
      "needs_background": "light"
     },
     "output_type": "display_data"
    }
   ],
   "source": [
    "#Make plots of trigger and goodPV preselection cuts to see what we're working with\n",
    "plt.hist(sig_file[\"pass_HLT_j30_muvtx_noiso\"].array(), label = \"Trigger\")\n",
    "plt.hist(sig_file[\"hasGoodPV\"].array(), label = \"Good PV\")\n",
    "plt.legend()\n",
    "plt.title(\"Histogram of Trigger and Good PV (Signal)\")"
   ]
  },
  {
   "cell_type": "code",
   "execution_count": 111,
   "id": "38138b37",
   "metadata": {},
   "outputs": [],
   "source": [
    "#Make plot of multiplicity candidates\n",
    "#To check for MS vertex multiplicity >2, we simply need to count the number of events that produce >1 vertex. This can\n",
    "#be done by counting any of the branches with a prefix of MSVtx_xxx. Let's use MSVtx_eta."
   ]
  },
  {
   "cell_type": "code",
   "execution_count": 138,
   "id": "be5c76a3",
   "metadata": {},
   "outputs": [],
   "source": [
    "mvtx_count = sig_file[\"MSVtx_eta\"].array()"
   ]
  },
  {
   "cell_type": "code",
   "execution_count": 139,
   "id": "b2f22f0d",
   "metadata": {},
   "outputs": [
    {
     "name": "stdout",
     "output_type": "stream",
     "text": [
      "1014\n"
     ]
    }
   ],
   "source": [
    "#Number of events with more than one vertex\n",
    "num_vtx=len(mvtx_count[ak.num(mvtx_count)>1])\n",
    "print(num_vtx)"
   ]
  },
  {
   "cell_type": "code",
   "execution_count": 112,
   "id": "a1f0e39e",
   "metadata": {},
   "outputs": [
    {
     "data": {
      "text/plain": [
       "Text(0.5, 1.0, 'Multiplicity of verticies')"
      ]
     },
     "execution_count": 112,
     "metadata": {},
     "output_type": "execute_result"
    },
    {
     "data": {
      "image/png": "[encoded data removed]",
      "text/plain": [
       "<Figure size 432x288 with 1 Axes>"
      ]
     },
     "metadata": {
      "needs_background": "light"
     },
     "output_type": "display_data"
    }
   ],
   "source": [
    "plt.hist(ak.num(mvtx_count))\n",
    "plt.title(\"Multiplicity of verticies\")"
   ]
  },
  {
   "cell_type": "code",
   "execution_count": 113,
   "id": "f1f54b82",
   "metadata": {},
   "outputs": [],
   "source": [
    "#Only a small percentage of events have >1 vertex. Given this, we should expect only a small fraction of events to pass our preselection"
   ]
  },
  {
   "cell_type": "code",
   "execution_count": 135,
   "id": "5e1ff892",
   "metadata": {},
   "outputs": [
    {
     "name": "stdout",
     "output_type": "stream",
     "text": [
      "Percentage of events with more than one vertex is 2.03%\n"
     ]
    }
   ],
   "source": [
    "print(f'Percentage of events with more than one vertex is {(num_vtx/(len(mvtx_count))*100):.2f}%')"
   ]
  },
  {
   "cell_type": "code",
   "execution_count": 140,
   "id": "3205e658",
   "metadata": {},
   "outputs": [],
   "source": [
    "#Now create boolean arrays for all of our preselection events and filter events that pass all three preselections"
   ]
  },
  {
   "cell_type": "code",
   "execution_count": 115,
   "id": "664d66c5",
   "metadata": {},
   "outputs": [],
   "source": [
    "trig = sig_file[\"pass_HLT_j30_muvtx_noiso\"].array()#(entry_stop = 10)\n",
    "goodPV = sig_file[\"hasGoodPV\"].array()#(entry_stop = 10)\n",
    "mult_cut = ak.num(mvtx_count)>1"
   ]
  },
  {
   "cell_type": "code",
   "execution_count": 270,
   "id": "eab4f73d",
   "metadata": {},
   "outputs": [
    {
     "data": {
      "text/plain": [
       "<Array [False, False, False, ... False, False] type='50000 * bool'>"
      ]
     },
     "execution_count": 270,
     "metadata": {},
     "output_type": "execute_result"
    }
   ],
   "source": [
    "mult_cut"
   ]
  },
  {
   "cell_type": "markdown",
   "id": "5616e6d6",
   "metadata": {},
   "source": [
    "#### Preselection Cut"
   ]
  },
  {
   "cell_type": "code",
   "execution_count": 118,
   "id": "e1747408",
   "metadata": {},
   "outputs": [],
   "source": [
    "# THIS IS OUR PRESELECTION CUT\n",
    "pre_cut = (trig == True) & (goodPV == True) & (mult_cut == True)"
   ]
  },
  {
   "cell_type": "code",
   "execution_count": 141,
   "id": "b3a32898",
   "metadata": {
    "scrolled": false
   },
   "outputs": [
    {
     "data": {
      "text/plain": [
       "True"
      ]
     },
     "execution_count": 141,
     "metadata": {},
     "output_type": "execute_result"
    }
   ],
   "source": [
    "#Check that pre_cut has non-null values\n",
    "ak.any(pre_cut)"
   ]
  },
  {
   "cell_type": "code",
   "execution_count": 142,
   "id": "accd69d8",
   "metadata": {},
   "outputs": [
    {
     "name": "stdout",
     "output_type": "stream",
     "text": [
      "Precentage of events that pass preselection is 1.34%\n"
     ]
    }
   ],
   "source": [
    "#List percentage of events that pass the cut\n",
    "print(f'Precentage of events that pass preselection is {(ak.count_nonzero(pre_cut)/ak.count(pre_cut))*100:.2f}%')"
   ]
  },
  {
   "cell_type": "code",
   "execution_count": 143,
   "id": "19975b64",
   "metadata": {},
   "outputs": [],
   "source": [
    "#Only 1.34% of events pass preselection. Let move onto our event selection"
   ]
  },
  {
   "cell_type": "markdown",
   "id": "3ef717d1",
   "metadata": {},
   "source": [
    "# Event Selection"
   ]
  },
  {
   "cell_type": "code",
   "execution_count": 29,
   "id": "9bbfa5dc",
   "metadata": {},
   "outputs": [],
   "source": [
    "#First , lets take a look at MDT/RPC/TGC hits"
   ]
  },
  {
   "cell_type": "markdown",
   "id": "d2117282",
   "metadata": {},
   "source": [
    "### MDT/TGC/RPC Hits"
   ]
  },
  {
   "cell_type": "code",
   "execution_count": 30,
   "id": "b5f22c24",
   "metadata": {},
   "outputs": [],
   "source": [
    "#Flatten arrays\n",
    "MDT_flat =ak.flatten(sig_file[\"MSVtx_nMDT\"].array())\n",
    "RPC_flat = ak.flatten(sig_file[\"MSVtx_nRPC\"].array())\n",
    "TGC_flat = ak.flatten(sig_file[\"MSVtx_nTGC\"].array())"
   ]
  },
  {
   "cell_type": "code",
   "execution_count": 31,
   "id": "885e6d2e",
   "metadata": {},
   "outputs": [
    {
     "data": {
      "text/plain": [
       "<Figure size 432x288 with 0 Axes>"
      ]
     },
     "execution_count": 31,
     "metadata": {},
     "output_type": "execute_result"
    },
    {
     "data": {
      "image/png": "[encoded data removed]",
      "text/plain": [
       "<Figure size 432x288 with 1 Axes>"
      ]
     },
     "metadata": {
      "needs_background": "light"
     },
     "output_type": "display_data"
    },
    {
     "data": {
      "image/png": "[encoded data removed]",
      "text/plain": [
       "<Figure size 432x288 with 1 Axes>"
      ]
     },
     "metadata": {
      "needs_background": "light"
     },
     "output_type": "display_data"
    },
    {
     "data": {
      "image/png": "[encoded data removed]",
      "text/plain": [
       "<Figure size 432x288 with 1 Axes>"
      ]
     },
     "metadata": {
      "needs_background": "light"
     },
     "output_type": "display_data"
    },
    {
     "data": {
      "text/plain": [
       "<Figure size 432x288 with 0 Axes>"
      ]
     },
     "metadata": {},
     "output_type": "display_data"
    }
   ],
   "source": [
    "#Plot a histogram of hits from all three sources. Include only nonnegative values\n",
    "plt.hist(MDT_flat[MDT_flat>0], label = \"MDT hits\")\n",
    "plt.title(\"MDT Hits\")\n",
    "plt.figure()\n",
    "plt.hist(RPC_flat[RPC_flat>0], label = \"RPC hits\")\n",
    "plt.title(\"RPC Hits\")\n",
    "plt.figure()\n",
    "plt.hist(TGC_flat[TGC_flat>0], label = \"TGC hits\")\n",
    "plt.title(\"TGC Hits\")\n",
    "plt.figure()"
   ]
  },
  {
   "cell_type": "code",
   "execution_count": null,
   "id": "bd30f3eb",
   "metadata": {},
   "outputs": [],
   "source": [
    "#Good Vertex Candidates begin with the # of hits in different sectors of MS.\n",
    "#Two sepearte cutflows will need to be calculated for both the barrel and endcaps"
   ]
  },
  {
   "cell_type": "code",
   "execution_count": 243,
   "id": "273aa440",
   "metadata": {},
   "outputs": [],
   "source": [
    "mdt = sig_file[\"MSVtx_nMDT\"].array()#(entry_stop = 10)"
   ]
  },
  {
   "cell_type": "code",
   "execution_count": 244,
   "id": "ffbe2bc7",
   "metadata": {},
   "outputs": [],
   "source": [
    "rpc = sig_file[\"MSVtx_nRPC\"].array()#(entry_stop = 10)"
   ]
  },
  {
   "cell_type": "code",
   "execution_count": 245,
   "id": "ebd0ca7b",
   "metadata": {},
   "outputs": [],
   "source": [
    "tgc = sig_file[\"MSVtx_nTGC\"].array()#(entry_stop = 10)"
   ]
  },
  {
   "cell_type": "code",
   "execution_count": 246,
   "id": "4ed170c5",
   "metadata": {},
   "outputs": [],
   "source": [
    "eta = sig_file[\"MSVtx_eta\"].array()#(entry_stop = 10)"
   ]
  },
  {
   "cell_type": "code",
   "execution_count": 247,
   "id": "1bb553d2",
   "metadata": {},
   "outputs": [],
   "source": [
    "phi = sig_file[\"MSVtx_phi\"].array()#(entry_stop = 10)"
   ]
  },
  {
   "cell_type": "code",
   "execution_count": 248,
   "id": "2dfced3e",
   "metadata": {},
   "outputs": [],
   "source": [
    "#We will need to perform separate calcuations for barrel and endcap"
   ]
  },
  {
   "cell_type": "markdown",
   "id": "9bb096bb",
   "metadata": {},
   "source": [
    "#### Barrel and Endcap cuts for MDT/TGC/RPC hits"
   ]
  },
  {
   "cell_type": "code",
   "execution_count": 249,
   "id": "fb1d3bf9",
   "metadata": {},
   "outputs": [],
   "source": [
    "#CUT FOR MDT AND RPC HITS IN BARREL\n",
    "hits_barrel_cut= ((mdt > 300) & (mdt < 3000))\\\n",
    "& ((rpc > 250) & (abs(eta) < 1.0))"
   ]
  },
  {
   "cell_type": "code",
   "execution_count": 250,
   "id": "c63cf56a",
   "metadata": {},
   "outputs": [],
   "source": [
    "#CUT FOR MDT AND TGC HITS IN THE ENDCAP\n",
    "hits_endcap_cut= ((mdt > 300) & (mdt < 3000))\\\n",
    "& ((tgc > 250) & ((abs(eta) > 1.0) & (abs(eta) < 2.5)))"
   ]
  },
  {
   "cell_type": "code",
   "execution_count": 52,
   "id": "0c9e1794",
   "metadata": {},
   "outputs": [],
   "source": [
    "#Check that both cuts filtered out good candidates"
   ]
  },
  {
   "cell_type": "code",
   "execution_count": 53,
   "id": "73cffbaa",
   "metadata": {},
   "outputs": [
    {
     "data": {
      "text/plain": [
       "True"
      ]
     },
     "execution_count": 53,
     "metadata": {},
     "output_type": "execute_result"
    }
   ],
   "source": [
    "ak.any(barrelCut)"
   ]
  },
  {
   "cell_type": "code",
   "execution_count": 54,
   "id": "ca6a61eb",
   "metadata": {
    "scrolled": true
   },
   "outputs": [
    {
     "data": {
      "text/plain": [
       "True"
      ]
     },
     "execution_count": 54,
     "metadata": {},
     "output_type": "execute_result"
    }
   ],
   "source": [
    "ak.any(endCut)"
   ]
  },
  {
   "cell_type": "code",
   "execution_count": 55,
   "id": "eea99db0",
   "metadata": {},
   "outputs": [],
   "source": [
    "#Check percentage of cuts that passed"
   ]
  },
  {
   "cell_type": "code",
   "execution_count": 58,
   "id": "8732e002",
   "metadata": {},
   "outputs": [
    {
     "data": {
      "text/plain": [
       "7.698333431251592"
      ]
     },
     "execution_count": 58,
     "metadata": {},
     "output_type": "execute_result"
    }
   ],
   "source": [
    "ak.count_nonzero(barrelCut)/ak.count(barrelCut)*100"
   ]
  },
  {
   "cell_type": "code",
   "execution_count": 59,
   "id": "ec9f8a11",
   "metadata": {},
   "outputs": [
    {
     "data": {
      "text/plain": [
       "13.555803615142079"
      ]
     },
     "execution_count": 59,
     "metadata": {},
     "output_type": "execute_result"
    }
   ],
   "source": [
    "ak.count_nonzero(endCut)/ak.count(endCut)*100"
   ]
  },
  {
   "cell_type": "markdown",
   "id": "1b958fe3",
   "metadata": {},
   "source": [
    "### Track Isolation"
   ]
  },
  {
   "cell_type": "code",
   "execution_count": 60,
   "id": "cfac8b32",
   "metadata": {},
   "outputs": [],
   "source": [
    "#Now we need to isolate the tracks that are > 5 GeV. \n",
    "#In the barrel this requires a cone Delta(R) > 0.3\n",
    "#In the endcap this requires a cone Delta(R) > 0.6"
   ]
  },
  {
   "cell_type": "code",
   "execution_count": 6,
   "id": "fa257f85",
   "metadata": {},
   "outputs": [],
   "source": [
    "track_eta = sig_file[\"track_eta\"].array()"
   ]
  },
  {
   "cell_type": "code",
   "execution_count": 7,
   "id": "f2df636d",
   "metadata": {},
   "outputs": [],
   "source": [
    "track_phi = sig_file[\"track_phi\"].array()"
   ]
  },
  {
   "cell_type": "code",
   "execution_count": 10,
   "id": "996459d8",
   "metadata": {},
   "outputs": [],
   "source": [
    "track_pT = sig_file[\"track_pT\"].array()"
   ]
  },
  {
   "cell_type": "code",
   "execution_count": 134,
   "id": "c55032c3",
   "metadata": {},
   "outputs": [],
   "source": [
    "#Count all combinations of abs(delta(eta)) and discard duplicates"
   ]
  },
  {
   "cell_type": "code",
   "execution_count": 142,
   "id": "c197dec2",
   "metadata": {},
   "outputs": [
    {
     "name": "stdout",
     "output_type": "stream",
     "text": [
      "87.98134922981262\n"
     ]
    }
   ],
   "source": [
    "st = time.time()\n",
    "DeltaEta = []\n",
    "for array in track_eta:\n",
    "    delta_eta= []\n",
    "    for i, value in enumerate(array):\n",
    "        for j, number in enumerate(array):\n",
    "            if (i+j) >= (len(array)-1):\n",
    "                break\n",
    "            delta_eta.append(abs(array[i]-array[i+j+1]))\n",
    "            DeltaEta.append(delta_eta)\n",
    "end = time.time()\n",
    "print(end - st)"
   ]
  },
  {
   "cell_type": "code",
   "execution_count": null,
   "id": "6c890f22",
   "metadata": {},
   "outputs": [],
   "source": [
    "#Count all combinations of abs(delta(eta)) and discard duplicates"
   ]
  },
  {
   "cell_type": "code",
   "execution_count": 111,
   "id": "4f8559aa",
   "metadata": {},
   "outputs": [],
   "source": [
    "st = time.time()\n",
    "DeltaPhi = []\n",
    "for array in track_phi:\n",
    "    delta_phi= []\n",
    "    for i, value in enumerate(array):\n",
    "        for j, number in enumerate(array):\n",
    "            if (i+j) >= (len(array)-1):\n",
    "                break\n",
    "            delta_phi.append(abs(array[i]-array[i+j+1]))\n",
    "            DeltaPhi.append(delta_phi)\n",
    "end = time.time()\n",
    "print(end - st)"
   ]
  },
  {
   "cell_type": "code",
   "execution_count": 5,
   "id": "ebc8f7ed",
   "metadata": {},
   "outputs": [],
   "source": [
    "### THESE COMPUTATIONS ARE TOO EXPENSIVE!!!. Let's try with ak.combinations instead"
   ]
  },
  {
   "cell_type": "code",
   "execution_count": 8,
   "id": "454ed925",
   "metadata": {},
   "outputs": [],
   "source": [
    "eta_pairs = ak.combinations(track_eta, n=2, fields = [\"x\",\"y\"])\n",
    "delta_eta=abs(eta_pairs[\"y\"] - eta_pairs[\"x\"])"
   ]
  },
  {
   "cell_type": "code",
   "execution_count": 9,
   "id": "a9bf0a4f",
   "metadata": {},
   "outputs": [],
   "source": [
    "phi_pairs = ak.combinations(track_phi, n=2, fields = [\"x\",\"y\"])\n",
    "delta_phi=abs(phi_pairs[\"y\"] - phi_pairs[\"x\"])"
   ]
  },
  {
   "cell_type": "code",
   "execution_count": 53,
   "id": "33af8855",
   "metadata": {},
   "outputs": [
    {
     "data": {
      "text/plain": [
       "Text(0.5, 1.0, 'Delta Eta')"
      ]
     },
     "execution_count": 53,
     "metadata": {},
     "output_type": "execute_result"
    },
    {
     "data": {
      "image/png": "[encoded data removed]",
      "text/plain": [
       "<Figure size 432x288 with 1 Axes>"
      ]
     },
     "metadata": {
      "needs_background": "light"
     },
     "output_type": "display_data"
    }
   ],
   "source": [
    "plt.hist(ak.flatten(delta_eta), bins=25)\n",
    "plt.title(\"Delta Eta\")"
   ]
  },
  {
   "cell_type": "code",
   "execution_count": 52,
   "id": "d44b3379",
   "metadata": {},
   "outputs": [
    {
     "data": {
      "text/plain": [
       "Text(0.5, 1.0, 'Delta Phi')"
      ]
     },
     "execution_count": 52,
     "metadata": {},
     "output_type": "execute_result"
    },
    {
     "data": {
      "image/png": "[encoded data removed]",
      "text/plain": [
       "<Figure size 432x288 with 1 Axes>"
      ]
     },
     "metadata": {
      "needs_background": "light"
     },
     "output_type": "display_data"
    }
   ],
   "source": [
    "plt.hist(ak.flatten(delta_phi), bins=25)\n",
    "plt.title(\"Delta Phi\")"
   ]
  },
  {
   "cell_type": "code",
   "execution_count": 55,
   "id": "047057f6",
   "metadata": {},
   "outputs": [],
   "source": [
    "delta_phi_sq = delta_phi * delta_phi"
   ]
  },
  {
   "cell_type": "code",
   "execution_count": 56,
   "id": "f681c0b7",
   "metadata": {},
   "outputs": [],
   "source": [
    "delta_eta_sq = delta_eta * delta_eta"
   ]
  },
  {
   "cell_type": "code",
   "execution_count": 57,
   "id": "15542029",
   "metadata": {},
   "outputs": [],
   "source": [
    "#Calculate Delta(R)^2"
   ]
  },
  {
   "cell_type": "code",
   "execution_count": 59,
   "id": "ff54f285",
   "metadata": {},
   "outputs": [],
   "source": [
    "delta_R_sq = delta_phi_sq + delta_eta_sq"
   ]
  },
  {
   "cell_type": "code",
   "execution_count": 69,
   "id": "7a2dbffb",
   "metadata": {},
   "outputs": [],
   "source": [
    "#For Barrel, we need track isolation with a Delta(R)^2 > 0.09...(from delta(R) > 0.3)\n",
    "#For Endcaps, we need track isolation with a Delta(R)^2 > 0.036...(from delta(R) > 0.6)"
   ]
  },
  {
   "cell_type": "markdown",
   "id": "bffa122f",
   "metadata": {},
   "source": [
    "#### Barrel and Endcap Cuts for track isolation"
   ]
  },
  {
   "cell_type": "code",
   "execution_count": 60,
   "id": "174013a6",
   "metadata": {},
   "outputs": [],
   "source": [
    "#CUT FOR TRACK ISOLATION IN THE BARREL\n",
    "track_iso_barrel = delta_R_sq > 0.09"
   ]
  },
  {
   "cell_type": "code",
   "execution_count": 61,
   "id": "d7f3918e",
   "metadata": {},
   "outputs": [],
   "source": [
    "#CUT FOR TRACK ISOLATION IN THE ENDCAP\n",
    "track_iso_endcap = delta_R_sq > 0.036"
   ]
  },
  {
   "cell_type": "code",
   "execution_count": 62,
   "id": "66197e72",
   "metadata": {},
   "outputs": [],
   "source": [
    "#Check that good candidates remain"
   ]
  },
  {
   "cell_type": "code",
   "execution_count": 64,
   "id": "3455a68b",
   "metadata": {},
   "outputs": [
    {
     "data": {
      "text/plain": [
       "True"
      ]
     },
     "execution_count": 64,
     "metadata": {},
     "output_type": "execute_result"
    }
   ],
   "source": [
    "ak.any(track_iso_barrel)"
   ]
  },
  {
   "cell_type": "code",
   "execution_count": 65,
   "id": "95bcbccb",
   "metadata": {},
   "outputs": [
    {
     "data": {
      "text/plain": [
       "True"
      ]
     },
     "execution_count": 65,
     "metadata": {},
     "output_type": "execute_result"
    }
   ],
   "source": [
    "ak.any(track_iso_endcap)"
   ]
  },
  {
   "cell_type": "code",
   "execution_count": 74,
   "id": "d8a8d618",
   "metadata": {},
   "outputs": [],
   "source": [
    "#Look at a histogram of delta_R_sq"
   ]
  },
  {
   "cell_type": "code",
   "execution_count": 76,
   "id": "6c77b397",
   "metadata": {},
   "outputs": [
    {
     "data": {
      "text/plain": [
       "Text(0.5, 1.0, 'Histogram of Delta(R) squared')"
      ]
     },
     "execution_count": 76,
     "metadata": {},
     "output_type": "execute_result"
    },
    {
     "data": {
      "image/png": "[encoded data removed]",
      "text/plain": [
       "<Figure size 432x288 with 1 Axes>"
      ]
     },
     "metadata": {
      "needs_background": "light"
     },
     "output_type": "display_data"
    }
   ],
   "source": [
    "plt.hist(ak.flatten(delta_R_sq))\n",
    "plt.title(\"Histogram of Delta(R) squared\")"
   ]
  },
  {
   "cell_type": "code",
   "execution_count": null,
   "id": "985681c8",
   "metadata": {},
   "outputs": [],
   "source": [
    "#Judging from the histogram it appears that our cuts will remove only a small percentage of hits"
   ]
  },
  {
   "cell_type": "code",
   "execution_count": 98,
   "id": "7a92ffed",
   "metadata": {},
   "outputs": [
    {
     "name": "stdout",
     "output_type": "stream",
     "text": [
      "Percent of barrel hits that pass track isolation filter is  96.28%\n"
     ]
    }
   ],
   "source": [
    "percent_track_barrel = ak.count_nonzero(track_iso_barrel)/ak.count(track_iso_barrel)*100\n",
    "print(f'Percent of barrel hits that pass track isolation filter is  {percent_track_barrel:.2f}%')"
   ]
  },
  {
   "cell_type": "code",
   "execution_count": 100,
   "id": "cffd3692",
   "metadata": {},
   "outputs": [
    {
     "name": "stdout",
     "output_type": "stream",
     "text": [
      "Percent of endcap hits that pass track isolation filter is  97.71%\n"
     ]
    }
   ],
   "source": [
    "percent_track_endcap = ak.count_nonzero(track_iso_endcap)/ak.count(track_iso_endcap)*100\n",
    "print(f'Percent of endcap hits that pass track isolation filter is  {percent_track_endcap:.2f}%')"
   ]
  },
  {
   "cell_type": "code",
   "execution_count": 101,
   "id": "a8f60c01",
   "metadata": {},
   "outputs": [],
   "source": [
    "#Indeed we are left with a majority of hits after applying the track isolation filter"
   ]
  },
  {
   "cell_type": "markdown",
   "id": "8279fb63",
   "metadata": {},
   "source": [
    "### Jet Isolation"
   ]
  },
  {
   "cell_type": "code",
   "execution_count": 144,
   "id": "e2f9c4b6",
   "metadata": {},
   "outputs": [],
   "source": [
    "#Now perform >17GeV jet isolaton"
   ]
  },
  {
   "cell_type": "code",
   "execution_count": 163,
   "id": "92659bad",
   "metadata": {},
   "outputs": [],
   "source": [
    "jet_eta = sig_file[\"jet_eta\"].array()"
   ]
  },
  {
   "cell_type": "code",
   "execution_count": 164,
   "id": "e020a0e9",
   "metadata": {},
   "outputs": [],
   "source": [
    "jet_phi = sig_file[\"jet_phi\"].array()"
   ]
  },
  {
   "cell_type": "code",
   "execution_count": 165,
   "id": "44835da1",
   "metadata": {},
   "outputs": [],
   "source": [
    "jet_eta_pairs = ak.combinations(jet_eta, n=2, fields = [\"x\",\"y\"])\n",
    "jet_delta_eta=abs(jet_eta_pairs[\"y\"] - jet_eta_pairs[\"x\"])"
   ]
  },
  {
   "cell_type": "code",
   "execution_count": 166,
   "id": "7218f7a1",
   "metadata": {},
   "outputs": [],
   "source": [
    "jet_phi_pairs = ak.combinations(jet_phi, n=2, fields = [\"x\",\"y\"])\n",
    "jet_delta_phi=abs(jet_phi_pairs[\"y\"] - jet_phi_pairs[\"x\"])"
   ]
  },
  {
   "cell_type": "code",
   "execution_count": 169,
   "id": "c36df83a",
   "metadata": {},
   "outputs": [],
   "source": [
    "jet_eta_sq = jet_delta_eta * jet_delta_eta"
   ]
  },
  {
   "cell_type": "code",
   "execution_count": 170,
   "id": "b99d791c",
   "metadata": {},
   "outputs": [],
   "source": [
    "jet_phi_sq = jet_delta_phi * jet_delta_phi"
   ]
  },
  {
   "cell_type": "code",
   "execution_count": 171,
   "id": "23432b78",
   "metadata": {},
   "outputs": [],
   "source": [
    "jet_R_sq = jet_eta_sq + jet_phi_sq"
   ]
  },
  {
   "cell_type": "code",
   "execution_count": 172,
   "id": "2f2887a8",
   "metadata": {},
   "outputs": [],
   "source": [
    "#Plot Jet_R_sq"
   ]
  },
  {
   "cell_type": "code",
   "execution_count": 174,
   "id": "5c534cb9",
   "metadata": {},
   "outputs": [
    {
     "data": {
      "text/plain": [
       "Text(0.5, 1.0, 'Plot of Jet Delta(R)^2')"
      ]
     },
     "execution_count": 174,
     "metadata": {},
     "output_type": "execute_result"
    },
    {
     "data": {
      "image/png": "[encoded data removed]",
      "text/plain": [
       "<Figure size 432x288 with 1 Axes>"
      ]
     },
     "metadata": {
      "needs_background": "light"
     },
     "output_type": "display_data"
    }
   ],
   "source": [
    "plt.hist(ak.flatten(jet_R_sq))\n",
    "plt.title(\"Plot of Jet Delta(R)^2\")"
   ]
  },
  {
   "cell_type": "code",
   "execution_count": 175,
   "id": "5a46fb50",
   "metadata": {},
   "outputs": [],
   "source": [
    "#Cut Delta(R)^2 at 0.09 for barrel\n",
    "#Cut Delta(R)^2 at 0.036 for endcap"
   ]
  },
  {
   "cell_type": "markdown",
   "id": "28849a0c",
   "metadata": {},
   "source": [
    "#### Jet Isolation Cut"
   ]
  },
  {
   "cell_type": "code",
   "execution_count": 201,
   "id": "276a6ba3",
   "metadata": {},
   "outputs": [],
   "source": [
    "#CUTS FOR JET ISOLATION > 17 GeV\n",
    "jet_iso_barrel = jet_R_sq > 0.09\n",
    "jet_iso_endcap = jet_R_sq > 0.036"
   ]
  },
  {
   "cell_type": "code",
   "execution_count": 178,
   "id": "30b74dd6",
   "metadata": {},
   "outputs": [],
   "source": [
    "#Again we expect a high percentage to remain"
   ]
  },
  {
   "cell_type": "code",
   "execution_count": 186,
   "id": "5146d67e",
   "metadata": {},
   "outputs": [],
   "source": [
    "jet_iso_barrel_pct=ak.count_nonzero(jet_iso_barrel)/ak.count(jet_iso_barrel)*100\n",
    "jet_iso_endcap_pct=ak.count_nonzero(jet_iso_endcap)/ak.count(jet_iso_endcap)*100"
   ]
  },
  {
   "cell_type": "code",
   "execution_count": 196,
   "id": "c883c664",
   "metadata": {},
   "outputs": [
    {
     "name": "stdout",
     "output_type": "stream",
     "text": [
      "Percent of jet remaining in barrel is 100.00%\n",
      "Percent of jet remaining in endcap is 100.00%\n"
     ]
    }
   ],
   "source": [
    "print(f'Percent of jet remaining in barrel is {jet_iso_barrel_pct:.2f}%')\n",
    "print(f'Percent of jet remaining in endcap is {jet_iso_endcap_pct:.2f}%')"
   ]
  },
  {
   "cell_type": "code",
   "execution_count": 199,
   "id": "f284e004",
   "metadata": {},
   "outputs": [
    {
     "data": {
      "text/plain": [
       "0.09133394902592333"
      ]
     },
     "execution_count": 199,
     "metadata": {},
     "output_type": "execute_result"
    }
   ],
   "source": [
    "ak.min(jet_R_sq)"
   ]
  },
  {
   "cell_type": "code",
   "execution_count": 200,
   "id": "112cc397",
   "metadata": {},
   "outputs": [],
   "source": [
    "#As we can see, the minimum of jet_R_sq is 0.09133... so all jets make the cut and are therefore > 17GeV"
   ]
  },
  {
   "cell_type": "code",
   "execution_count": 202,
   "id": "d667ce8c",
   "metadata": {},
   "outputs": [],
   "source": [
    "#We can finish are event selection with a filter on abs(sum(track pT)) in a 0.2 cone"
   ]
  },
  {
   "cell_type": "markdown",
   "id": "6986dc6d",
   "metadata": {},
   "source": [
    "### Sum track pT"
   ]
  },
  {
   "cell_type": "code",
   "execution_count": 330,
   "id": "7afaa343",
   "metadata": {},
   "outputs": [],
   "source": [
    "sum_pT = sig_file['MSVtx_sumTrackPt0p2Cone'].array()  ###WARNING.....MAY BE INCORRECT BRANCH"
   ]
  },
  {
   "cell_type": "code",
   "execution_count": 234,
   "id": "02e73959",
   "metadata": {},
   "outputs": [
    {
     "data": {
      "text/plain": [
       "(array([38927.,     0.,     0.,     0.,     0.,     0.,     0.,     0.,\n",
       "        11678.,   458.]),\n",
       " array([-99999.       , -88686.5703794, -77374.1407588, -66061.7111382,\n",
       "        -54749.2815176, -43436.851897 , -32124.4222764, -20811.9926558,\n",
       "         -9499.5630352,   1812.8665854,  13125.296206 ]),\n",
       " <BarContainer object of 10 artists>)"
      ]
     },
     "execution_count": 234,
     "metadata": {},
     "output_type": "execute_result"
    },
    {
     "data": {
      "image/png": "[encoded data removed]",
      "text/plain": [
       "<Figure size 432x288 with 1 Axes>"
      ]
     },
     "metadata": {
      "needs_background": "light"
     },
     "output_type": "display_data"
    }
   ],
   "source": [
    "plt.hist(ak.flatten(sum_pT))"
   ]
  },
  {
   "cell_type": "code",
   "execution_count": 235,
   "id": "3bb14a92",
   "metadata": {},
   "outputs": [],
   "source": [
    "#We will need remove all extraneous values"
   ]
  },
  {
   "cell_type": "markdown",
   "id": "a83fe304",
   "metadata": {},
   "source": [
    "#### Sum track pT Cut"
   ]
  },
  {
   "cell_type": "code",
   "execution_count": 236,
   "id": "71de83d5",
   "metadata": {},
   "outputs": [],
   "source": [
    "#CUT FOR abs(sum(track pT))\n",
    "sum_pT_cut = (sum_pT > -1e+05) & (abs(sum_pT) < 10 )"
   ]
  },
  {
   "cell_type": "code",
   "execution_count": 237,
   "id": "7bdbe9aa",
   "metadata": {},
   "outputs": [],
   "source": [
    "sum_pT_cut_pct = ak.count_nonzero(sum_pT_cut)/ak.count(sum_pT_cut)*100"
   ]
  },
  {
   "cell_type": "code",
   "execution_count": 238,
   "id": "bb4ba43e",
   "metadata": {},
   "outputs": [
    {
     "name": "stdout",
     "output_type": "stream",
     "text": [
      "Percentage of track abs(sum(pT)) is 19.73%\n"
     ]
    }
   ],
   "source": [
    "#Percentage of track abs(sum(pT)) in both barrel and endcap\n",
    "print(f'Percentage of track abs(sum(pT)) is {sum_pT_cut_pct:.2f}%')"
   ]
  },
  {
   "cell_type": "code",
   "execution_count": 239,
   "id": "9130a472",
   "metadata": {},
   "outputs": [],
   "source": [
    "### NOTE: NEED TO CHECK IF THIS IS CORRECT BRANCH....COULD BE 'MSVtx_MSTracklet_VectSumpT' ###"
   ]
  },
  {
   "cell_type": "code",
   "execution_count": 240,
   "id": "d4f20835",
   "metadata": {},
   "outputs": [],
   "source": [
    "#Now we can combine the all the cuts for the barrel and endcap to get an event selection boolean matrix"
   ]
  },
  {
   "cell_type": "code",
   "execution_count": 331,
   "id": "ae934a3a",
   "metadata": {},
   "outputs": [],
   "source": [
    "###Insert code here for event selection"
   ]
  },
  {
   "cell_type": "code",
   "execution_count": 256,
   "id": "47e70ce2",
   "metadata": {},
   "outputs": [],
   "source": [
    "#Now that we have our preselection, and our event selection, we can move onto to remaining MS Vertex selection criteria"
   ]
  },
  {
   "cell_type": "markdown",
   "id": "58559f1c",
   "metadata": {},
   "source": [
    "### Min # Vertex Tracklets Cut, Veto region and Jet selection"
   ]
  },
  {
   "cell_type": "code",
   "execution_count": 257,
   "id": "0a74b1a4",
   "metadata": {},
   "outputs": [],
   "source": [
    "#We require minimum vertex tracklets to be 3(4) in barrel(endcap) and a MS overlap region veto as well as a HCal crack veto."
   ]
  },
  {
   "cell_type": "code",
   "execution_count": 266,
   "id": "72d5a588",
   "metadata": {},
   "outputs": [],
   "source": [
    "#Min vertex tracklets first. We will import the 'MSVtx_MSTracklet_avgdR' branch to use as a count:\n",
    "vtx_track=sig_file['MSVtx_MSTracklet_avgdR'].array()"
   ]
  },
  {
   "cell_type": "code",
   "execution_count": 267,
   "id": "73db9118",
   "metadata": {},
   "outputs": [],
   "source": [
    "#Number of events with three tracks and 4 tracks\n",
    "vtx_track_three=len(vtx_track[ak.num(vtx_track)==3])\n",
    "vtx_track_four=len(vtx_track[ak.num(vtx_track)==4])"
   ]
  },
  {
   "cell_type": "markdown",
   "id": "292b77bd",
   "metadata": {},
   "source": [
    "#### Min # Vertex Tracklets Cut"
   ]
  },
  {
   "cell_type": "code",
   "execution_count": 333,
   "id": "e38696ab",
   "metadata": {},
   "outputs": [],
   "source": [
    "#CUTS FOR MIN VERTEX TRACKLETS\n",
    "vtx_track_cut_barrel = ak.num(vtx_track)==3\n",
    "vtx_track_cut_endcap = ak.num(vtx_track)==4"
   ]
  },
  {
   "cell_type": "code",
   "execution_count": 273,
   "id": "d0b83645",
   "metadata": {},
   "outputs": [],
   "source": [
    "#Now for the overlap region and crack veto. This can be done with one cut from 0.7 < abs(eta_vtx) < 1.3"
   ]
  },
  {
   "cell_type": "markdown",
   "id": "221588fd",
   "metadata": {},
   "source": [
    "#### Veto Region Cut"
   ]
  },
  {
   "cell_type": "code",
   "execution_count": 275,
   "id": "552f2620",
   "metadata": {},
   "outputs": [],
   "source": [
    "#CUT FOR VETO REGION\n",
    "veto_cut = (0.7 < eta) & (1.3 > eta)"
   ]
  },
  {
   "cell_type": "code",
   "execution_count": 279,
   "id": "c8ee9e17",
   "metadata": {},
   "outputs": [],
   "source": [
    "#Now all we need is the jet selection cuts: pT > 30 GeV, log Ehad/Eem < 0.5 and JVT > 0.59 if jet pT < 60 GeV"
   ]
  },
  {
   "cell_type": "code",
   "execution_count": 285,
   "id": "fc3bc00e",
   "metadata": {},
   "outputs": [],
   "source": [
    "jet_pT=sig_file['jet_pT'].array()\n",
    "Ehad_Eem=sig_file['jet_logRatio'].array()\n",
    "jet_JVT=sig_file['jet_jvt'].array()"
   ]
  },
  {
   "cell_type": "markdown",
   "id": "4337d620",
   "metadata": {},
   "source": [
    "#### Jet Selection Cuts"
   ]
  },
  {
   "cell_type": "code",
   "execution_count": 286,
   "id": "112f1237",
   "metadata": {},
   "outputs": [],
   "source": [
    "jet_cut = (jet_pT > 30) & (Ehad_Eem < 0.5) & ((jet_JVT > 0.59) & (jet_pT < 60))"
   ]
  },
  {
   "cell_type": "code",
   "execution_count": 288,
   "id": "5e5d0b51",
   "metadata": {},
   "outputs": [
    {
     "data": {
      "text/plain": [
       "0.03547387510888346"
      ]
     },
     "execution_count": 288,
     "metadata": {},
     "output_type": "execute_result"
    }
   ],
   "source": [
    "ak.count_nonzero(jet_cut)/ak.count(jet_cut)"
   ]
  }
 ],
 "metadata": {
  "celltoolbar": "Raw Cell Format",
  "kernelspec": {
   "display_name": "Python 3",
   "language": "python",
   "name": "python3"
  },
  "language_info": {
   "codemirror_mode": {
    "name": "ipython",
    "version": 3
   },
   "file_extension": ".py",
   "mimetype": "text/x-python",
   "name": "python",
   "nbconvert_exporter": "python",
   "pygments_lexer": "ipython3",
   "version": "3.8.5"
  }
 },
 "nbformat": 4,
 "nbformat_minor": 5
}
