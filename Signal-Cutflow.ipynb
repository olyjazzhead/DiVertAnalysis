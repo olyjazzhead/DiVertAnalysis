{
 "cells": [
  {
   "cell_type": "code",
   "execution_count": 418,
   "id": "48b06028",
   "metadata": {},
   "outputs": [],
   "source": [
    "#will start using uproot"
   ]
  },
  {
   "cell_type": "code",
   "execution_count": 1,
   "id": "2c397679",
   "metadata": {},
   "outputs": [],
   "source": [
    "#Begin with preselection cuts: trigger and has good PV"
   ]
  },
  {
   "cell_type": "code",
   "execution_count": 60,
   "id": "d8a2e2fe",
   "metadata": {},
   "outputs": [],
   "source": [
    "import uproot\n",
    "import numpy as np\n",
    "import awkward as ak\n",
    "import matplotlib.pyplot as plt"
   ]
  },
  {
   "cell_type": "code",
   "execution_count": 61,
   "id": "e077d87a",
   "metadata": {},
   "outputs": [],
   "source": [
    "pre_branches = [(\"pass_HLT_j30_muvtx_noiso\"), (\"hasGoodPV\")]"
   ]
  },
  {
   "cell_type": "code",
   "execution_count": 62,
   "id": "35136564",
   "metadata": {},
   "outputs": [],
   "source": [
    "sig_file = uproot.open(\"user.calpert.mc16_13TeV.311423.MGPy8EG_A14NNPDF23_NNPDF31ME_HSS_LLP_mH600_mS150_lthigh.032123_trees.root/user.calpert.311423.e7357_e5984_s3234_r10201_r10210_p4696.32829947._000001.trees.root:trees_DV_\")"
   ]
  },
  {
   "cell_type": "code",
   "execution_count": 52,
   "id": "5cd34205",
   "metadata": {},
   "outputs": [],
   "source": [
    "#Start by looking at histograms of trigger and goodPV of signal"
   ]
  },
  {
   "cell_type": "code",
   "execution_count": 53,
   "id": "ae4fdcab",
   "metadata": {},
   "outputs": [
    {
     "data": {
      "text/plain": [
       "Text(0.5, 1.0, 'Histogram of Trigger and Good PV (Signal)')"
      ]
     },
     "execution_count": 53,
     "metadata": {},
     "output_type": "execute_result"
    },
    {
     "data": {
      "image/png": "[encoded data removed]",
      "text/plain": [
       "<Figure size 432x288 with 1 Axes>"
      ]
     },
     "metadata": {
      "needs_background": "light"
     },
     "output_type": "display_data"
    }
   ],
   "source": [
    "plt.hist(sig_file[\"pass_HLT_j30_muvtx_noiso\"].array(), label = \"Trigger\")\n",
    "plt.hist(sig_file[\"hasGoodPV\"].array(), label = \"Good PV\")\n",
    "plt.legend()\n",
    "plt.title(\"Histogram of Trigger and Good PV (Signal)\")"
   ]
  },
  {
   "cell_type": "code",
   "execution_count": 54,
   "id": "38138b37",
   "metadata": {},
   "outputs": [],
   "source": [
    "#All candidates have good PV, so we'd expect a preselection to contain all events that pass trigger, roughly 10,000 or so"
   ]
  },
  {
   "cell_type": "code",
   "execution_count": 63,
   "id": "26a21a1e",
   "metadata": {},
   "outputs": [],
   "source": [
    "pre_batch=sig_file.arrays(pre_branches)"
   ]
  },
  {
   "cell_type": "code",
   "execution_count": 91,
   "id": "b1cab20e",
   "metadata": {},
   "outputs": [],
   "source": [
    "pre_cut = (pre_batch.pass_HLT_j30_muvtx_noiso ==1) & (pre_batch.hasGoodPV ==1)"
   ]
  },
  {
   "cell_type": "code",
   "execution_count": 303,
   "id": "b56b0ccd",
   "metadata": {},
   "outputs": [
    {
     "data": {
      "text/plain": [
       "<Array [False, False, True, ... True, False] type='50000 * bool'>"
      ]
     },
     "execution_count": 303,
     "metadata": {},
     "output_type": "execute_result"
    }
   ],
   "source": [
    "pre_cut #Tells us which entries satisfy both conditions - an array of booleans"
   ]
  },
  {
   "cell_type": "code",
   "execution_count": 93,
   "id": "b52c5c90",
   "metadata": {},
   "outputs": [],
   "source": [
    "presel = pre_batch[pre_cut] #Applies the cut to the both branches"
   ]
  },
  {
   "cell_type": "code",
   "execution_count": 94,
   "id": "f3d5a3b6",
   "metadata": {},
   "outputs": [
    {
     "data": {
      "text/plain": [
       "<Array [{pass_HLT_j30_muvtx_noiso: 1, ... ] type='11859 * {\"pass_HLT_j30_muvtx_n...'>"
      ]
     },
     "execution_count": 94,
     "metadata": {},
     "output_type": "execute_result"
    }
   ],
   "source": [
    "presel #As you can see we have about 20% of number of original events"
   ]
  },
  {
   "cell_type": "code",
   "execution_count": 420,
   "id": "9374971a",
   "metadata": {},
   "outputs": [
    {
     "name": "stdout",
     "output_type": "stream",
     "text": [
      "[{pass_HLT_j30_muvtx_noiso: 1, hasGoodPV: 1}, ... hasGoodPV: 1}]\n",
      "[{pass_HLT_j30_muvtx_noiso: 1, hasGoodPV: 1}, ... hasGoodPV: 1}]\n",
      "[{pass_HLT_j30_muvtx_noiso: 1, hasGoodPV: 1}, ... hasGoodPV: 1}]\n",
      "[{pass_HLT_j30_muvtx_noiso: 1, hasGoodPV: 1}, ... hasGoodPV: 1}]\n",
      "[{pass_HLT_j30_muvtx_noiso: 1, hasGoodPV: 1}, ... hasGoodPV: 1}]\n",
      "[{pass_HLT_j30_muvtx_noiso: 1, hasGoodPV: 1}, ... hasGoodPV: 1}]\n",
      "[{pass_HLT_j30_muvtx_noiso: 1, hasGoodPV: 1}, ... hasGoodPV: 1}]\n",
      "[{pass_HLT_j30_muvtx_noiso: 1, hasGoodPV: 1}, ... hasGoodPV: 1}]\n",
      "[{pass_HLT_j30_muvtx_noiso: 1, hasGoodPV: 1}, ... hasGoodPV: 1}]\n"
     ]
    }
   ],
   "source": [
    "#Let's see what these arrays look like\n",
    "for event in presel[0:9]:\n",
    "    print(presel)"
   ]
  },
  {
   "cell_type": "code",
   "execution_count": 421,
   "id": "1bb305ba",
   "metadata": {},
   "outputs": [],
   "source": [
    "#Let's try using awkward array for cuts instead of uproot since uproot outputs into a non-numpy dict type array"
   ]
  },
  {
   "cell_type": "code",
   "execution_count": 49,
   "id": "5044eed2",
   "metadata": {},
   "outputs": [],
   "source": [
    "#First , lets take a look at MDT/RPC/TGC hits"
   ]
  },
  {
   "cell_type": "code",
   "execution_count": 103,
   "id": "976cee15",
   "metadata": {},
   "outputs": [],
   "source": [
    "#Flatten arrays\n",
    "MDT_flat =ak.flatten(sig_file[\"MSVtx_nMDT\"].array())\n",
    "RPC_flat = ak.flatten(sig_file[\"MSVtx_nRPC\"].array())\n",
    "TGC_flat = ak.flatten(sig_file[\"MSVtx_nTGC\"].array())"
   ]
  },
  {
   "cell_type": "code",
   "execution_count": 104,
   "id": "590bfd7e",
   "metadata": {},
   "outputs": [
    {
     "data": {
      "text/plain": [
       "<Figure size 432x288 with 0 Axes>"
      ]
     },
     "execution_count": 104,
     "metadata": {},
     "output_type": "execute_result"
    },
    {
     "data": {
      "image/png": "[encoded data removed]",
      "text/plain": [
       "<Figure size 432x288 with 1 Axes>"
      ]
     },
     "metadata": {
      "needs_background": "light"
     },
     "output_type": "display_data"
    },
    {
     "data": {
      "image/png": "[encoded data removed]",
      "text/plain": [
       "<Figure size 432x288 with 1 Axes>"
      ]
     },
     "metadata": {
      "needs_background": "light"
     },
     "output_type": "display_data"
    },
    {
     "data": {
      "image/png": "[encoded data removed]",
      "text/plain": [
       "<Figure size 432x288 with 1 Axes>"
      ]
     },
     "metadata": {
      "needs_background": "light"
     },
     "output_type": "display_data"
    },
    {
     "data": {
      "text/plain": [
       "<Figure size 432x288 with 0 Axes>"
      ]
     },
     "metadata": {},
     "output_type": "display_data"
    }
   ],
   "source": [
    "#Plot a histogram of hits from all three sources. Include only nonnegative values\n",
    "plt.hist(MDT_flat[MDT_flat>0], label = \"MDT hits\")\n",
    "plt.title(\"MDT Hits\")\n",
    "plt.figure()\n",
    "plt.hist(RPC_flat[RPC_flat>0], label = \"RPC hits\")\n",
    "plt.title(\"RPC Hits\")\n",
    "plt.figure()\n",
    "plt.hist(TGC_flat[TGC_flat>0], label = \"TGC hits\")\n",
    "plt.title(\"TGC Hits\")\n",
    "plt.figure()"
   ]
  },
  {
   "cell_type": "code",
   "execution_count": 105,
   "id": "0732dd80",
   "metadata": {},
   "outputs": [],
   "source": [
    "#We want MDT in range of 300 - 3000\n",
    "#We want RPC > 250 and eta < 1.0\n",
    "#We want TGC > 250 and eta between 1.0 and 2.5"
   ]
  },
  {
   "cell_type": "code",
   "execution_count": 422,
   "id": "0db5cb38",
   "metadata": {},
   "outputs": [],
   "source": [
    "#Using awkward array to perform cuts on trigger and mdt/rpc/tgc hits"
   ]
  },
  {
   "cell_type": "code",
   "execution_count": 423,
   "id": "7c498c67",
   "metadata": {},
   "outputs": [],
   "source": [
    "trig = sig_file[\"pass_HLT_j30_muvtx_noiso\"].array()#(entry_stop = 10)"
   ]
  },
  {
   "cell_type": "code",
   "execution_count": 424,
   "id": "dc147b47",
   "metadata": {},
   "outputs": [],
   "source": [
    "goodPV = sig_file[\"hasGoodPV\"].array()#(entry_stop = 10)"
   ]
  },
  {
   "cell_type": "code",
   "execution_count": 425,
   "id": "1aba3162",
   "metadata": {},
   "outputs": [],
   "source": [
    "mdt = sig_file[\"MSVtx_nMDT\"].array()#(entry_stop = 10)"
   ]
  },
  {
   "cell_type": "code",
   "execution_count": 426,
   "id": "78198cb4",
   "metadata": {},
   "outputs": [],
   "source": [
    "rpc = sig_file[\"MSVtx_nRPC\"].array()#(entry_stop = 10)"
   ]
  },
  {
   "cell_type": "code",
   "execution_count": 427,
   "id": "56931354",
   "metadata": {},
   "outputs": [],
   "source": [
    "tgc = sig_file[\"MSVtx_nTGC\"].array()#(entry_stop = 10)"
   ]
  },
  {
   "cell_type": "code",
   "execution_count": 428,
   "id": "c09455e0",
   "metadata": {},
   "outputs": [],
   "source": [
    "eta = sig_file[\"MSVtx_eta\"].array()#(entry_stop = 10)"
   ]
  },
  {
   "cell_type": "code",
   "execution_count": 429,
   "id": "79bbe04c",
   "metadata": {},
   "outputs": [],
   "source": [
    "jet = sig_file[\"jet_pT\"].array()#(entry_stop = 10)"
   ]
  },
  {
   "cell_type": "code",
   "execution_count": 439,
   "id": "04a5bf40",
   "metadata": {},
   "outputs": [],
   "source": [
    "cut = (trig == True)\\\n",
    "& (goodPV == True)\\\n",
    "& ((mdt > 300) & (mdt < 3000))\\\n",
    "& ((rpc > 250) & abs(eta < 1.0))\\\n",
    "& ((tgc > 250) & (abs(eta > 1.0) & abs(eta < 2.5)))"
   ]
  },
  {
   "cell_type": "code",
   "execution_count": 440,
   "id": "945df6f3",
   "metadata": {},
   "outputs": [
    {
     "data": {
      "text/plain": [
       "False"
      ]
     },
     "execution_count": 440,
     "metadata": {},
     "output_type": "execute_result"
    }
   ],
   "source": [
    "ak.any(cut)"
   ]
  },
  {
   "cell_type": "code",
   "execution_count": 441,
   "id": "c6e5fb57",
   "metadata": {},
   "outputs": [],
   "source": [
    "#It appears no candidates pass this criteria....time to back up and rethink strategy"
   ]
  },
  {
   "cell_type": "code",
   "execution_count": null,
   "id": "0bd9f4b9",
   "metadata": {},
   "outputs": [],
   "source": []
  }
 ],
 "metadata": {
  "kernelspec": {
   "display_name": "Python 3",
   "language": "python",
   "name": "python3"
  },
  "language_info": {
   "codemirror_mode": {
    "name": "ipython",
    "version": 3
   },
   "file_extension": ".py",
   "mimetype": "text/x-python",
   "name": "python",
   "nbconvert_exporter": "python",
   "pygments_lexer": "ipython3",
   "version": "3.8.5"
  }
 },
 "nbformat": 4,
 "nbformat_minor": 5
}
