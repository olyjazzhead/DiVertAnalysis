{
 "cells": [
  {
   "cell_type": "code",
   "execution_count": 1,
   "id": "89c00e81",
   "metadata": {},
   "outputs": [],
   "source": [
    "#Begin with preselection cuts: trigger and has good PV"
   ]
  },
  {
   "cell_type": "code",
   "execution_count": 2,
   "id": "669206c7",
   "metadata": {},
   "outputs": [],
   "source": [
    "import uproot\n",
    "import numpy as np\n",
    "import awkward as ak\n",
    "import matplotlib.pyplot as plt"
   ]
  },
  {
   "cell_type": "code",
   "execution_count": 12,
   "id": "ae487660",
   "metadata": {},
   "outputs": [],
   "source": [
    "branches = [(\"pass_HLT_j30_muvtx_noiso\"), (\"hasGoodPV\")]"
   ]
  },
  {
   "cell_type": "code",
   "execution_count": 3,
   "id": "23e61de0",
   "metadata": {},
   "outputs": [],
   "source": [
    "sig_file = uproot.open(\"user.calpert.mc16_13TeV.311423.MGPy8EG_A14NNPDF23_NNPDF31ME_HSS_LLP_mH600_mS150_lthigh.032123_trees.root/user.calpert.311423.e7357_e5984_s3234_r10201_r10210_p4696.32829947._000001.trees.root:trees_DV_\")"
   ]
  },
  {
   "cell_type": "code",
   "execution_count": 29,
   "id": "c8aa4aac",
   "metadata": {},
   "outputs": [],
   "source": [
    "#Start by looking at histograms of trigger and goodPV of signal"
   ]
  },
  {
   "cell_type": "code",
   "execution_count": 28,
   "id": "753e9bfa",
   "metadata": {},
   "outputs": [
    {
     "data": {
      "text/plain": [
       "Text(0.5, 1.0, 'Histogram of Trigger and Good PV (Signal)')"
      ]
     },
     "execution_count": 28,
     "metadata": {},
     "output_type": "execute_result"
    },
    {
     "data": {
      "image/png": "[encoded data removed]",
      "text/plain": [
       "<Figure size 432x288 with 1 Axes>"
      ]
     },
     "metadata": {
      "needs_background": "light"
     },
     "output_type": "display_data"
    }
   ],
   "source": [
    "plt.hist(sig_file[\"pass_HLT_j30_muvtx_noiso\"].array(), label = \"Trigger\")\n",
    "plt.hist(sig_file[\"hasGoodPV\"].array(), label = \"Good PV\")\n",
    "plt.legend()\n",
    "plt.title(\"Histogram of Trigger and Good PV (Signal)\")"
   ]
  },
  {
   "cell_type": "code",
   "execution_count": 26,
   "id": "7570ec74",
   "metadata": {},
   "outputs": [],
   "source": [
    "#All candidates have good PV, so we'd expect a preselection to contain all events that pass trigger, roughly 10,000 or so"
   ]
  },
  {
   "cell_type": "code",
   "execution_count": 39,
   "id": "0ed8ebbe",
   "metadata": {},
   "outputs": [],
   "source": [
    "sig_batch=sig_file.arrays(branches)"
   ]
  },
  {
   "cell_type": "code",
   "execution_count": 40,
   "id": "fe1e6584",
   "metadata": {},
   "outputs": [],
   "source": [
    "sig_cut = (batch.pass_HLT_j30_muvtx_noiso ==1) & (batch.hasGoodPV ==1)"
   ]
  },
  {
   "cell_type": "code",
   "execution_count": 42,
   "id": "d696d3be",
   "metadata": {},
   "outputs": [
    {
     "data": {
      "text/plain": [
       "<Array [False, False, True, ... True, False] type='50000 * bool'>"
      ]
     },
     "execution_count": 42,
     "metadata": {},
     "output_type": "execute_result"
    }
   ],
   "source": [
    "sig_cut #Tells us which entries satisfy both conditions - an array of booleans"
   ]
  },
  {
   "cell_type": "code",
   "execution_count": 43,
   "id": "4eeba26a",
   "metadata": {},
   "outputs": [],
   "source": [
    "presel_sig = sig_batch[cut] #Applies the cut to the both branches"
   ]
  },
  {
   "cell_type": "code",
   "execution_count": 44,
   "id": "ad806770",
   "metadata": {},
   "outputs": [
    {
     "data": {
      "text/plain": [
       "<Array [{pass_HLT_j30_muvtx_noiso: 1, ... ] type='11859 * {\"pass_HLT_j30_muvtx_n...'>"
      ]
     },
     "execution_count": 44,
     "metadata": {},
     "output_type": "execute_result"
    }
   ],
   "source": [
    "presel_sig #As you can see we have about 20% of number of original events"
   ]
  },
  {
   "cell_type": "code",
   "execution_count": 48,
   "id": "4b679113",
   "metadata": {},
   "outputs": [],
   "source": [
    "#Now that we have cut on our preselection, lets continue with MDT/RPC/TGC hits"
   ]
  }
 ],
 "metadata": {
  "kernelspec": {
   "display_name": "Python 3",
   "language": "python",
   "name": "python3"
  },
  "language_info": {
   "codemirror_mode": {
    "name": "ipython",
    "version": 3
   },
   "file_extension": ".py",
   "mimetype": "text/x-python",
   "name": "python",
   "nbconvert_exporter": "python",
   "pygments_lexer": "ipython3",
   "version": "3.8.5"
  }
 },
 "nbformat": 4,
 "nbformat_minor": 5
}
