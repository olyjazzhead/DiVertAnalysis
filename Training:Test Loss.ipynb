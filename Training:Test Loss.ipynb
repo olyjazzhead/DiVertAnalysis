{
 "cells": [
  {
   "cell_type": "code",
   "execution_count": 1,
   "id": "77c6708e",
   "metadata": {},
   "outputs": [
    {
     "name": "stdout",
     "output_type": "stream",
     "text": [
      "1.7.3\n",
      "0.23.2\n"
     ]
    }
   ],
   "source": [
    "#Import Libraries\n",
    "import numpy as np\n",
    "import pandas as pd\n",
    "import os \n",
    "import itertools \n",
    "import uproot\n",
    "import time\n",
    "import awkward as ak\n",
    "from IPython.display import display, HTML\n",
    "import hist\n",
    "#import vector\n",
    "import pickle\n",
    "import matplotlib.pyplot as plt\n",
    "\n",
    "import xgboost\n",
    "print(xgboost.__version__)\n",
    "import sklearn\n",
    "print (sklearn.__version__)"
   ]
  },
  {
   "cell_type": "markdown",
   "id": "f2cb99ff",
   "metadata": {},
   "source": [
    "## Load datasets and concatenate"
   ]
  },
  {
   "cell_type": "code",
   "execution_count": 2,
   "id": "a290093e",
   "metadata": {},
   "outputs": [],
   "source": [
    "#Set to read all columns\n",
    "pd.set_option('display.max_columns', None)\n",
    "\n",
    "#Import and concatenate the training sets\n",
    "df_bkg = pd.read_csv('bkg_train.csv')\n",
    "#df_sig = pd.read_csv('sig_train_barrel.csv')     #no z removed\n",
    "#df_sig = pd.read_csv('sig_train_barrel_z_adjusted_all.csv')   #all z>10m removed\n",
    "df_sig = pd.read_csv('sig_train_barrel_z_adjusted_eta.csv')   #some z>10m removed (eta-dependent...see model_analysis.html)\n",
    "\n",
    "\n",
    "df = pd.concat([df_bkg,df_sig], ignore_index=True)\n",
    "#df = pd.read_csv('sig_train_barrel.csv')"
   ]
  },
  {
   "cell_type": "code",
   "execution_count": 3,
   "id": "c710acc3",
   "metadata": {},
   "outputs": [],
   "source": [
    "#Slice eta at veto region\n",
    "df = df[(abs(df['Vtx_eta']) < 0.7) | (abs(df['Vtx_eta']) > 1.3)]"
   ]
  },
  {
   "cell_type": "markdown",
   "id": "3de55b13",
   "metadata": {},
   "source": [
    "## Begin Training"
   ]
  },
  {
   "cell_type": "code",
   "execution_count": 4,
   "id": "521e255e",
   "metadata": {},
   "outputs": [],
   "source": [
    "#Shuffle the dataset\n",
    "df = df.sample(frac=1).reset_index(drop=True)"
   ]
  },
  {
   "cell_type": "code",
   "execution_count": 5,
   "id": "e5cccd02",
   "metadata": {},
   "outputs": [
    {
     "data": {
      "text/plain": [
       "Index(['Event #', 'Mult', 'MDT', 'RPC', 'TGC', 'ntrks', 'Vtx_eta', 'Vtx_phi',\n",
       "       'Vtx_Sum_pT', 'jet_pt_1', 'jet_eta_1', 'jet_phi_1', 'jet_logRatio_1',\n",
       "       'jet_jvt_1', 'delta_jet_1', 'jet_pt_2', 'jet_eta_2', 'jet_phi_2',\n",
       "       'jet_logRatio_2', 'jet_jvt_2', 'delta_jet_2', 'jet_pt_3', 'jet_eta_3',\n",
       "       'jet_phi_3', 'jet_logRatio_3', 'jet_jvt_3', 'delta_jet_3', 'track_pt_1',\n",
       "       'delta_track_1', 'track_pt_2', 'delta_track_2', 'track_pt_3',\n",
       "       'delta_track_3', 'Label'],\n",
       "      dtype='object')"
      ]
     },
     "execution_count": 5,
     "metadata": {},
     "output_type": "execute_result"
    }
   ],
   "source": [
    "#Check columns of df\n",
    "df.columns"
   ]
  },
  {
   "cell_type": "code",
   "execution_count": 6,
   "id": "6d7d7da9",
   "metadata": {},
   "outputs": [],
   "source": [
    "#Delcare Target\n",
    "#WARNING : there should be no selection nor shuffling later on ! (otherwise misalignement)\n",
    "target = df[\"Label\"]"
   ]
  },
  {
   "cell_type": "code",
   "execution_count": 7,
   "id": "54cea746",
   "metadata": {},
   "outputs": [
    {
     "name": "stdout",
     "output_type": "stream",
     "text": [
      "Df shape of dataset to be used : (13644, 11)\n"
     ]
    },
    {
     "data": {
      "text/html": [
       "<div>\n",
       "<style scoped>\n",
       "    .dataframe tbody tr th:only-of-type {\n",
       "        vertical-align: middle;\n",
       "    }\n",
       "\n",
       "    .dataframe tbody tr th {\n",
       "        vertical-align: top;\n",
       "    }\n",
       "\n",
       "    .dataframe thead th {\n",
       "        text-align: right;\n",
       "    }\n",
       "</style>\n",
       "<table border=\"1\" class=\"dataframe\">\n",
       "  <thead>\n",
       "    <tr style=\"text-align: right;\">\n",
       "      <th></th>\n",
       "      <th>Mult</th>\n",
       "      <th>ntrks</th>\n",
       "      <th>Vtx_eta</th>\n",
       "      <th>Vtx_phi</th>\n",
       "      <th>Vtx_Sum_pT</th>\n",
       "      <th>jet_pt_1</th>\n",
       "      <th>jet_eta_1</th>\n",
       "      <th>jet_phi_1</th>\n",
       "      <th>delta_jet_1</th>\n",
       "      <th>track_pt_1</th>\n",
       "      <th>delta_track_1</th>\n",
       "    </tr>\n",
       "  </thead>\n",
       "  <tbody>\n",
       "    <tr>\n",
       "      <th>0</th>\n",
       "      <td>1.0</td>\n",
       "      <td>3</td>\n",
       "      <td>-1.397776</td>\n",
       "      <td>0.147975</td>\n",
       "      <td>3758.759567</td>\n",
       "      <td>1049.524875</td>\n",
       "      <td>-1.456594</td>\n",
       "      <td>0.101225</td>\n",
       "      <td>0.005645</td>\n",
       "      <td>1.067293</td>\n",
       "      <td>0.001557</td>\n",
       "    </tr>\n",
       "    <tr>\n",
       "      <th>1</th>\n",
       "      <td>1.0</td>\n",
       "      <td>3</td>\n",
       "      <td>-1.601971</td>\n",
       "      <td>-1.649671</td>\n",
       "      <td>4111.351961</td>\n",
       "      <td>1065.463875</td>\n",
       "      <td>-1.559294</td>\n",
       "      <td>-1.699862</td>\n",
       "      <td>0.004340</td>\n",
       "      <td>34.648298</td>\n",
       "      <td>0.001035</td>\n",
       "    </tr>\n",
       "    <tr>\n",
       "      <th>2</th>\n",
       "      <td>1.0</td>\n",
       "      <td>4</td>\n",
       "      <td>-0.699745</td>\n",
       "      <td>-0.684429</td>\n",
       "      <td>984.970927</td>\n",
       "      <td>22.774982</td>\n",
       "      <td>-0.594920</td>\n",
       "      <td>-1.192868</td>\n",
       "      <td>0.269498</td>\n",
       "      <td>0.984971</td>\n",
       "      <td>0.035367</td>\n",
       "    </tr>\n",
       "    <tr>\n",
       "      <th>3</th>\n",
       "      <td>1.0</td>\n",
       "      <td>6</td>\n",
       "      <td>2.129160</td>\n",
       "      <td>-0.239560</td>\n",
       "      <td>0.000000</td>\n",
       "      <td>26.833268</td>\n",
       "      <td>2.607839</td>\n",
       "      <td>-0.239011</td>\n",
       "      <td>0.229134</td>\n",
       "      <td>0.720324</td>\n",
       "      <td>0.125680</td>\n",
       "    </tr>\n",
       "    <tr>\n",
       "      <th>4</th>\n",
       "      <td>1.0</td>\n",
       "      <td>4</td>\n",
       "      <td>1.492455</td>\n",
       "      <td>-0.586702</td>\n",
       "      <td>3144.816739</td>\n",
       "      <td>1307.769750</td>\n",
       "      <td>1.504384</td>\n",
       "      <td>-0.622236</td>\n",
       "      <td>0.001405</td>\n",
       "      <td>9.363345</td>\n",
       "      <td>0.000407</td>\n",
       "    </tr>\n",
       "  </tbody>\n",
       "</table>\n",
       "</div>"
      ],
      "text/plain": [
       "   Mult  ntrks   Vtx_eta   Vtx_phi   Vtx_Sum_pT     jet_pt_1  jet_eta_1  \\\n",
       "0   1.0      3 -1.397776  0.147975  3758.759567  1049.524875  -1.456594   \n",
       "1   1.0      3 -1.601971 -1.649671  4111.351961  1065.463875  -1.559294   \n",
       "2   1.0      4 -0.699745 -0.684429   984.970927    22.774982  -0.594920   \n",
       "3   1.0      6  2.129160 -0.239560     0.000000    26.833268   2.607839   \n",
       "4   1.0      4  1.492455 -0.586702  3144.816739  1307.769750   1.504384   \n",
       "\n",
       "   jet_phi_1  delta_jet_1  track_pt_1  delta_track_1  \n",
       "0   0.101225     0.005645    1.067293       0.001557  \n",
       "1  -1.699862     0.004340   34.648298       0.001035  \n",
       "2  -1.192868     0.269498    0.984971       0.035367  \n",
       "3  -0.239011     0.229134    0.720324       0.125680  \n",
       "4  -0.622236     0.001405    9.363345       0.000407  "
      ]
     },
     "metadata": {},
     "output_type": "display_data"
    },
    {
     "data": {
      "text/plain": [
       "0    0.0\n",
       "1    0.0\n",
       "2    0.0\n",
       "3    0.0\n",
       "4    0.0\n",
       "Name: Label, dtype: float64"
      ]
     },
     "metadata": {},
     "output_type": "display_data"
    }
   ],
   "source": [
    "# For simplicity only keep some most important features. Can add more later down below\n",
    "data=pd.DataFrame(df, columns=['Mult','ntrks','Vtx_eta','Vtx_phi','Vtx_Sum_pT','jet_pt_1','jet_eta_1','jet_phi_1','delta_jet_1','track_pt_1','delta_track_1'])\n",
    "\n",
    "print (\"Df shape of dataset to be used :\",data.shape)\n",
    "display(data.head())\n",
    "display(target.head())\n"
   ]
  },
  {
   "cell_type": "code",
   "execution_count": 8,
   "id": "a63ac21d",
   "metadata": {},
   "outputs": [
    {
     "name": "stdout",
     "output_type": "stream",
     "text": [
      "Df shape of dataset to be used : (13644, 11)\n"
     ]
    }
   ],
   "source": [
    "more_features = False\n",
    "if (more_features):\n",
    "    data=pd.DataFrame(df, columns=['Event #', 'Mult', 'MDT', 'RPC', 'TGC', 'ntrks', 'Vtx_eta', 'Vtx_phi',\n",
    "       'Vtx_Sum_pT', 'Label', 'jet_pt_1', 'jet_eta_1', 'jet_phi_1',\n",
    "       'jet_logRatio_1', 'jet_jvt_1', 'delta_jet_1', 'jet_pt_2', 'jet_eta_2',\n",
    "       'jet_phi_2', 'jet_logRatio_2', 'jet_jvt_2', 'delta_jet_2', 'track_pt_1',\n",
    "       'delta_track_1', 'track_pt_2', 'delta_track_2', 'track_pt_3','delta_track_3'])\n",
    "print (\"Df shape of dataset to be used :\",data.shape)"
   ]
  },
  {
   "cell_type": "markdown",
   "id": "fab5e6fe",
   "metadata": {},
   "source": [
    "### PreProcess the data"
   ]
  },
  {
   "cell_type": "code",
   "execution_count": 9,
   "id": "70349cce",
   "metadata": {},
   "outputs": [
    {
     "name": "stdout",
     "output_type": "stream",
     "text": [
      "X_train shape: (10233, 11)\n",
      "y_train shape: (10233,)\n",
      "X_test shape: (3411, 11)\n",
      "y_test shape: (3411,)\n"
     ]
    }
   ],
   "source": [
    "#np.random.seed(31415)\n",
    "\n",
    "from sklearn.model_selection import train_test_split\n",
    "train_size = 0.75 # fraction of sample used for training\n",
    "\n",
    "X_train, X_test, y_train, y_test, = train_test_split(data, target, train_size=train_size)\n",
    "\n",
    "#Reset index for dataseries, not needed for ndarray (X_train, X_test)\n",
    "#Basically just re-adding the original element indexing from pandas\n",
    "y_train, y_test = \\\n",
    "    y_train.reset_index(drop=True),y_test.reset_index(drop=True)\n",
    "\n",
    "print (\"X_train shape:\",X_train.shape)\n",
    "print (\"y_train shape:\",y_train.shape)\n",
    "\n",
    "\n",
    "print (\"X_test shape:\",X_test.shape)\n",
    "print (\"y_test shape:\",y_test.shape)\n"
   ]
  },
  {
   "cell_type": "markdown",
   "id": "fee89d5b",
   "metadata": {},
   "source": [
    "### Train the BDT"
   ]
  },
  {
   "cell_type": "code",
   "execution_count": 10,
   "id": "fff02aa7",
   "metadata": {},
   "outputs": [
    {
     "name": "stdout",
     "output_type": "stream",
     "text": [
      "[0]\tvalidation_0-logloss:0.47904\tvalidation_1-logloss:0.48712\n",
      "[1]\tvalidation_0-logloss:0.36093\tvalidation_1-logloss:0.37430\n",
      "[2]\tvalidation_0-logloss:0.28581\tvalidation_1-logloss:0.30355\n",
      "[3]\tvalidation_0-logloss:0.23668\tvalidation_1-logloss:0.25790\n",
      "[4]\tvalidation_0-logloss:0.20311\tvalidation_1-logloss:0.22786\n",
      "[5]\tvalidation_0-logloss:0.17965\tvalidation_1-logloss:0.20736\n",
      "[6]\tvalidation_0-logloss:0.16298\tvalidation_1-logloss:0.19416\n",
      "[7]\tvalidation_0-logloss:0.15063\tvalidation_1-logloss:0.18448\n",
      "[8]\tvalidation_0-logloss:0.14185\tvalidation_1-logloss:0.17768\n"
     ]
    },
    {
     "name": "stderr",
     "output_type": "stream",
     "text": [
      "/Users/christopheralpert/miniconda3/lib/python3.8/site-packages/xgboost/sklearn.py:1395: UserWarning: `use_label_encoder` is deprecated in 1.7.0.\n",
      "  warnings.warn(\"`use_label_encoder` is deprecated in 1.7.0.\")\n"
     ]
    },
    {
     "name": "stdout",
     "output_type": "stream",
     "text": [
      "[9]\tvalidation_0-logloss:0.13436\tvalidation_1-logloss:0.17337\n",
      "[10]\tvalidation_0-logloss:0.12954\tvalidation_1-logloss:0.17021\n",
      "[11]\tvalidation_0-logloss:0.12566\tvalidation_1-logloss:0.16785\n",
      "[12]\tvalidation_0-logloss:0.12184\tvalidation_1-logloss:0.16636\n",
      "[13]\tvalidation_0-logloss:0.11948\tvalidation_1-logloss:0.16492\n",
      "[14]\tvalidation_0-logloss:0.11702\tvalidation_1-logloss:0.16451\n",
      "[15]\tvalidation_0-logloss:0.11483\tvalidation_1-logloss:0.16389\n",
      "[16]\tvalidation_0-logloss:0.11354\tvalidation_1-logloss:0.16349\n",
      "[17]\tvalidation_0-logloss:0.11113\tvalidation_1-logloss:0.16362\n",
      "[18]\tvalidation_0-logloss:0.10997\tvalidation_1-logloss:0.16334\n",
      "[19]\tvalidation_0-logloss:0.10844\tvalidation_1-logloss:0.16380\n",
      "[20]\tvalidation_0-logloss:0.10640\tvalidation_1-logloss:0.16408\n",
      "[21]\tvalidation_0-logloss:0.10417\tvalidation_1-logloss:0.16396\n",
      "[22]\tvalidation_0-logloss:0.10317\tvalidation_1-logloss:0.16465\n",
      "[23]\tvalidation_0-logloss:0.10112\tvalidation_1-logloss:0.16544\n",
      "[24]\tvalidation_0-logloss:0.10013\tvalidation_1-logloss:0.16599\n",
      "[25]\tvalidation_0-logloss:0.09692\tvalidation_1-logloss:0.16675\n",
      "[26]\tvalidation_0-logloss:0.09538\tvalidation_1-logloss:0.16743\n",
      "[27]\tvalidation_0-logloss:0.09346\tvalidation_1-logloss:0.16752\n",
      "[28]\tvalidation_0-logloss:0.09278\tvalidation_1-logloss:0.16780\n",
      "[29]\tvalidation_0-logloss:0.09124\tvalidation_1-logloss:0.16794\n",
      "[30]\tvalidation_0-logloss:0.09006\tvalidation_1-logloss:0.16811\n",
      "[31]\tvalidation_0-logloss:0.08802\tvalidation_1-logloss:0.16782\n",
      "[32]\tvalidation_0-logloss:0.08499\tvalidation_1-logloss:0.16808\n",
      "[33]\tvalidation_0-logloss:0.08335\tvalidation_1-logloss:0.16810\n",
      "[34]\tvalidation_0-logloss:0.08224\tvalidation_1-logloss:0.16864\n",
      "[35]\tvalidation_0-logloss:0.08179\tvalidation_1-logloss:0.16879\n",
      "[36]\tvalidation_0-logloss:0.07984\tvalidation_1-logloss:0.16952\n",
      "[37]\tvalidation_0-logloss:0.07879\tvalidation_1-logloss:0.17062\n",
      "[38]\tvalidation_0-logloss:0.07671\tvalidation_1-logloss:0.17110\n",
      "[39]\tvalidation_0-logloss:0.07482\tvalidation_1-logloss:0.17220\n",
      "[40]\tvalidation_0-logloss:0.07327\tvalidation_1-logloss:0.17215\n",
      "[41]\tvalidation_0-logloss:0.07288\tvalidation_1-logloss:0.17214\n",
      "[42]\tvalidation_0-logloss:0.07153\tvalidation_1-logloss:0.17319\n",
      "[43]\tvalidation_0-logloss:0.07089\tvalidation_1-logloss:0.17405\n",
      "[44]\tvalidation_0-logloss:0.06924\tvalidation_1-logloss:0.17469\n",
      "[45]\tvalidation_0-logloss:0.06703\tvalidation_1-logloss:0.17534\n",
      "[46]\tvalidation_0-logloss:0.06596\tvalidation_1-logloss:0.17557\n",
      "[47]\tvalidation_0-logloss:0.06447\tvalidation_1-logloss:0.17599\n",
      "[48]\tvalidation_0-logloss:0.06395\tvalidation_1-logloss:0.17659\n",
      "[49]\tvalidation_0-logloss:0.06307\tvalidation_1-logloss:0.17725\n",
      "[50]\tvalidation_0-logloss:0.06222\tvalidation_1-logloss:0.17825\n",
      "[51]\tvalidation_0-logloss:0.06173\tvalidation_1-logloss:0.17863\n",
      "[52]\tvalidation_0-logloss:0.06105\tvalidation_1-logloss:0.17858\n",
      "[53]\tvalidation_0-logloss:0.06066\tvalidation_1-logloss:0.17883\n",
      "[54]\tvalidation_0-logloss:0.05916\tvalidation_1-logloss:0.17959\n",
      "[55]\tvalidation_0-logloss:0.05772\tvalidation_1-logloss:0.18054\n",
      "[56]\tvalidation_0-logloss:0.05715\tvalidation_1-logloss:0.18103\n",
      "[57]\tvalidation_0-logloss:0.05561\tvalidation_1-logloss:0.18187\n",
      "[58]\tvalidation_0-logloss:0.05473\tvalidation_1-logloss:0.18264\n",
      "[59]\tvalidation_0-logloss:0.05406\tvalidation_1-logloss:0.18285\n",
      "[60]\tvalidation_0-logloss:0.05278\tvalidation_1-logloss:0.18320\n",
      "[61]\tvalidation_0-logloss:0.05239\tvalidation_1-logloss:0.18319\n",
      "[62]\tvalidation_0-logloss:0.05033\tvalidation_1-logloss:0.18323\n",
      "[63]\tvalidation_0-logloss:0.04992\tvalidation_1-logloss:0.18374\n",
      "[64]\tvalidation_0-logloss:0.04918\tvalidation_1-logloss:0.18424\n",
      "[65]\tvalidation_0-logloss:0.04904\tvalidation_1-logloss:0.18435\n",
      "[66]\tvalidation_0-logloss:0.04881\tvalidation_1-logloss:0.18451\n",
      "[67]\tvalidation_0-logloss:0.04834\tvalidation_1-logloss:0.18532\n",
      "[68]\tvalidation_0-logloss:0.04687\tvalidation_1-logloss:0.18570\n",
      "[69]\tvalidation_0-logloss:0.04527\tvalidation_1-logloss:0.18605\n",
      "[70]\tvalidation_0-logloss:0.04484\tvalidation_1-logloss:0.18638\n",
      "[71]\tvalidation_0-logloss:0.04457\tvalidation_1-logloss:0.18672\n",
      "[72]\tvalidation_0-logloss:0.04427\tvalidation_1-logloss:0.18692\n",
      "[73]\tvalidation_0-logloss:0.04313\tvalidation_1-logloss:0.18784\n",
      "[74]\tvalidation_0-logloss:0.04193\tvalidation_1-logloss:0.18841\n",
      "[75]\tvalidation_0-logloss:0.04145\tvalidation_1-logloss:0.18897\n",
      "[76]\tvalidation_0-logloss:0.04111\tvalidation_1-logloss:0.18843\n",
      "[77]\tvalidation_0-logloss:0.04045\tvalidation_1-logloss:0.18896\n",
      "[78]\tvalidation_0-logloss:0.03985\tvalidation_1-logloss:0.18908\n",
      "[79]\tvalidation_0-logloss:0.03947\tvalidation_1-logloss:0.18947\n",
      "[80]\tvalidation_0-logloss:0.03872\tvalidation_1-logloss:0.18995\n",
      "[81]\tvalidation_0-logloss:0.03766\tvalidation_1-logloss:0.19033\n",
      "[82]\tvalidation_0-logloss:0.03714\tvalidation_1-logloss:0.19018\n",
      "[83]\tvalidation_0-logloss:0.03679\tvalidation_1-logloss:0.19028\n",
      "[84]\tvalidation_0-logloss:0.03556\tvalidation_1-logloss:0.19067\n",
      "[85]\tvalidation_0-logloss:0.03486\tvalidation_1-logloss:0.19159\n",
      "[86]\tvalidation_0-logloss:0.03477\tvalidation_1-logloss:0.19177\n",
      "[87]\tvalidation_0-logloss:0.03412\tvalidation_1-logloss:0.19218\n",
      "[88]\tvalidation_0-logloss:0.03368\tvalidation_1-logloss:0.19241\n",
      "[89]\tvalidation_0-logloss:0.03345\tvalidation_1-logloss:0.19282\n",
      "[90]\tvalidation_0-logloss:0.03290\tvalidation_1-logloss:0.19306\n",
      "[91]\tvalidation_0-logloss:0.03228\tvalidation_1-logloss:0.19412\n",
      "[92]\tvalidation_0-logloss:0.03208\tvalidation_1-logloss:0.19421\n",
      "[93]\tvalidation_0-logloss:0.03172\tvalidation_1-logloss:0.19486\n",
      "[94]\tvalidation_0-logloss:0.03114\tvalidation_1-logloss:0.19613\n",
      "[95]\tvalidation_0-logloss:0.03028\tvalidation_1-logloss:0.19641\n",
      "[96]\tvalidation_0-logloss:0.02993\tvalidation_1-logloss:0.19725\n",
      "[97]\tvalidation_0-logloss:0.02978\tvalidation_1-logloss:0.19751\n",
      "[98]\tvalidation_0-logloss:0.02944\tvalidation_1-logloss:0.19784\n",
      "[99]\tvalidation_0-logloss:0.02899\tvalidation_1-logloss:0.19808\n",
      "Training time: 2.3858208656311035\n",
      "auc test: 0.9609579410036875\n",
      "auc train: 0.9999281438408958 \n",
      "\n"
     ]
    }
   ],
   "source": [
    "import matplotlib.pyplot as plt\n",
    "import numpy as np\n",
    "from xgboost import XGBClassifier\n",
    "from sklearn.metrics import roc_auc_score\n",
    "\n",
    "np.random.seed(31415)  # set the random seed\n",
    "\n",
    "xgb = XGBClassifier(tree_method=\"hist\", use_label_encoder=False, eval_metric='logloss')\n",
    "\n",
    "# Monitor training loss and validation loss\n",
    "eval_set = [(X_train, y_train), (X_test, y_test)]\n",
    "\n",
    "# Fit the model with evaluation data for monitoring\n",
    "starting_time = time.time()\n",
    "\n",
    "xgb.fit(X_train, \n",
    "        y_train.values, \n",
    "        eval_set=eval_set, \n",
    "        verbose=True)  # verbose=True prints loss per epoch\n",
    "\n",
    "training_time = time.time() - starting_time\n",
    "print(\"Training time:\", training_time)\n",
    "\n",
    "# Prediction on test data by trained BDT classifier\n",
    "y_pred_xgb = xgb.predict_proba(X_test)[:, 1].ravel()\n",
    "\n",
    "# Prediction on train data by BDT classifier\n",
    "y_pred_train_xgb = xgb.predict_proba(X_train)[:, 1].ravel()\n",
    "\n",
    "auc_test_xgb = roc_auc_score(y_true=y_test, y_score=y_pred_xgb)\n",
    "print(\"auc test:\", auc_test_xgb)\n",
    "print(\"auc train:\", roc_auc_score(y_true=y_train.values, y_score=y_pred_train_xgb), \"\\n\")\n"
   ]
  },
  {
   "cell_type": "code",
   "execution_count": 11,
   "id": "bb1f5539",
   "metadata": {
    "scrolled": true
   },
   "outputs": [
    {
     "data": {
      "image/png": "[encoded data removed]",
      "text/plain": [
       "<Figure size 720x432 with 1 Axes>"
      ]
     },
     "metadata": {
      "needs_background": "light"
     },
     "output_type": "display_data"
    }
   ],
   "source": [
    "#Let's measure the training loss as a function of epochs\n",
    "\n",
    "# Extract loss history\n",
    "results = xgb.evals_result()\n",
    "\n",
    "# Get training and validation loss history\n",
    "epochs = len(results['validation_0']['logloss'])\n",
    "x_axis = range(0, epochs)\n",
    "\n",
    "# Plot log loss\n",
    "plt.figure(figsize=(10, 6))\n",
    "plt.plot(x_axis, results['validation_0']['logloss'], label='Train')\n",
    "plt.plot(x_axis, results['validation_1']['logloss'], label='Test')\n",
    "plt.xlabel('Epochs')\n",
    "plt.ylabel('Log Loss')\n",
    "plt.title('XGBoost Log Loss over Epochs')\n",
    "plt.legend()\n",
    "plt.grid(True)\n",
    "plt.show()\n",
    "\n",
    "\n",
    "## We can see that the loss is minimized around 12-15 epochs. Let's stop the training early and see if we can better\n",
    "## the test score without taking too much of a hit on the training score"
   ]
  },
  {
   "cell_type": "code",
   "execution_count": 12,
   "id": "5b12a054",
   "metadata": {},
   "outputs": [
    {
     "name": "stdout",
     "output_type": "stream",
     "text": [
      "[0]\tvalidation_0-logloss:0.47904\tvalidation_1-logloss:0.48712\n",
      "[1]\tvalidation_0-logloss:0.36093\tvalidation_1-logloss:0.37430\n",
      "[2]\tvalidation_0-logloss:0.28581\tvalidation_1-logloss:0.30355\n",
      "[3]\tvalidation_0-logloss:0.23668\tvalidation_1-logloss:0.25790\n",
      "[4]\tvalidation_0-logloss:0.20311\tvalidation_1-logloss:0.22786\n",
      "[5]\tvalidation_0-logloss:0.17965\tvalidation_1-logloss:0.20736\n",
      "[6]\tvalidation_0-logloss:0.16298\tvalidation_1-logloss:0.19416\n",
      "[7]\tvalidation_0-logloss:0.15063\tvalidation_1-logloss:0.18448\n"
     ]
    },
    {
     "name": "stderr",
     "output_type": "stream",
     "text": [
      "/Users/christopheralpert/miniconda3/lib/python3.8/site-packages/xgboost/sklearn.py:1395: UserWarning: `use_label_encoder` is deprecated in 1.7.0.\n",
      "  warnings.warn(\"`use_label_encoder` is deprecated in 1.7.0.\")\n",
      "/Users/christopheralpert/miniconda3/lib/python3.8/site-packages/xgboost/sklearn.py:835: UserWarning: `early_stopping_rounds` in `fit` method is deprecated for better compatibility with scikit-learn, use `early_stopping_rounds` in constructor or`set_params` instead.\n",
      "  warnings.warn(\n"
     ]
    },
    {
     "name": "stdout",
     "output_type": "stream",
     "text": [
      "[8]\tvalidation_0-logloss:0.14185\tvalidation_1-logloss:0.17768\n",
      "[9]\tvalidation_0-logloss:0.13436\tvalidation_1-logloss:0.17337\n",
      "[10]\tvalidation_0-logloss:0.12954\tvalidation_1-logloss:0.17021\n",
      "[11]\tvalidation_0-logloss:0.12566\tvalidation_1-logloss:0.16785\n",
      "[12]\tvalidation_0-logloss:0.12184\tvalidation_1-logloss:0.16636\n",
      "[13]\tvalidation_0-logloss:0.11948\tvalidation_1-logloss:0.16492\n",
      "[14]\tvalidation_0-logloss:0.11702\tvalidation_1-logloss:0.16451\n",
      "[15]\tvalidation_0-logloss:0.11483\tvalidation_1-logloss:0.16389\n",
      "[16]\tvalidation_0-logloss:0.11354\tvalidation_1-logloss:0.16349\n",
      "[17]\tvalidation_0-logloss:0.11113\tvalidation_1-logloss:0.16362\n",
      "[18]\tvalidation_0-logloss:0.10997\tvalidation_1-logloss:0.16334\n",
      "[19]\tvalidation_0-logloss:0.10844\tvalidation_1-logloss:0.16380\n",
      "[20]\tvalidation_0-logloss:0.10640\tvalidation_1-logloss:0.16408\n",
      "[21]\tvalidation_0-logloss:0.10417\tvalidation_1-logloss:0.16396\n",
      "[22]\tvalidation_0-logloss:0.10317\tvalidation_1-logloss:0.16465\n",
      "[23]\tvalidation_0-logloss:0.10112\tvalidation_1-logloss:0.16544\n",
      "[24]\tvalidation_0-logloss:0.10013\tvalidation_1-logloss:0.16599\n",
      "[25]\tvalidation_0-logloss:0.09692\tvalidation_1-logloss:0.16675\n",
      "[26]\tvalidation_0-logloss:0.09538\tvalidation_1-logloss:0.16743\n",
      "[27]\tvalidation_0-logloss:0.09346\tvalidation_1-logloss:0.16752\n",
      "[28]\tvalidation_0-logloss:0.09278\tvalidation_1-logloss:0.16780\n",
      "Training time: 1.2602620124816895\n",
      "auc test: 0.9633832872879295\n",
      "auc train: 0.9887299005331286 \n",
      "\n"
     ]
    }
   ],
   "source": [
    "## Early Stopping\n",
    "\n",
    "\n",
    "np.random.seed(31415)  # set the random seed\n",
    "\n",
    "xgb = XGBClassifier(tree_method=\"hist\", use_label_encoder=False, eval_metric='logloss')\n",
    "\n",
    "# Monitor training loss and validation loss\n",
    "eval_set = [(X_train, y_train), (X_test, y_test)]\n",
    "\n",
    "# Fit the model with evaluation data for monitoring\n",
    "starting_time = time.time()\n",
    "\n",
    "xgb.fit(X_train, \n",
    "        y_train.values, \n",
    "        eval_set=eval_set, \n",
    "        early_stopping_rounds = 10,\n",
    "        verbose=True)  # verbose=True prints loss per epoch\n",
    "\n",
    "training_time = time.time() - starting_time\n",
    "print(\"Training time:\", training_time)\n",
    "\n",
    "# Prediction on test data by trained BDT classifier\n",
    "y_pred_xgb = xgb.predict_proba(X_test)[:, 1].ravel()\n",
    "\n",
    "# Prediction on train data by BDT classifier\n",
    "y_pred_train_xgb = xgb.predict_proba(X_train)[:, 1].ravel()\n",
    "\n",
    "auc_test_xgb = roc_auc_score(y_true=y_test, y_score=y_pred_xgb)\n",
    "print(\"auc test:\", auc_test_xgb)\n",
    "print(\"auc train:\", roc_auc_score(y_true=y_train.values, y_score=y_pred_train_xgb), \"\\n\")\n",
    "\n",
    "##This gave us a small increase in test score but at a much greater loss with the training score\n"
   ]
  },
  {
   "cell_type": "code",
   "execution_count": 13,
   "id": "ede49b15",
   "metadata": {},
   "outputs": [
    {
     "data": {
      "image/png": "[encoded data removed]",
      "text/plain": [
       "<Figure size 720x432 with 1 Axes>"
      ]
     },
     "metadata": {
      "needs_background": "light"
     },
     "output_type": "display_data"
    }
   ],
   "source": [
    "#Let's measure the training loss as a function of epochs\n",
    "\n",
    "# Extract loss history\n",
    "results = xgb.evals_result()\n",
    "\n",
    "# Get training and validation loss history\n",
    "epochs = len(results['validation_0']['logloss'])\n",
    "x_axis = range(0, epochs)\n",
    "\n",
    "# Plot log loss\n",
    "plt.figure(figsize=(10, 6))\n",
    "plt.plot(x_axis, results['validation_0']['logloss'], label='Train')\n",
    "plt.plot(x_axis, results['validation_1']['logloss'], label='Test')\n",
    "plt.xlabel('Epochs')\n",
    "plt.ylabel('Log Loss')\n",
    "plt.title('XGBoost Log Loss over Epochs')\n",
    "plt.legend()\n",
    "plt.grid(True)\n",
    "plt.show()\n",
    "\n",
    "\n",
    "## This offers a slight increase in performance, at the expense of training score. We can see the difference \n",
    "## between train and test loss start to deviate right around 27 epochs."
   ]
  },
  {
   "cell_type": "code",
   "execution_count": null,
   "id": "47f46a25",
   "metadata": {},
   "outputs": [],
   "source": []
  }
 ],
 "metadata": {
  "kernelspec": {
   "display_name": "Python 3",
   "language": "python",
   "name": "python3"
  },
  "language_info": {
   "codemirror_mode": {
    "name": "ipython",
    "version": 3
   },
   "file_extension": ".py",
   "mimetype": "text/x-python",
   "name": "python",
   "nbconvert_exporter": "python",
   "pygments_lexer": "ipython3",
   "version": "3.8.5"
  }
 },
 "nbformat": 4,
 "nbformat_minor": 5
}
